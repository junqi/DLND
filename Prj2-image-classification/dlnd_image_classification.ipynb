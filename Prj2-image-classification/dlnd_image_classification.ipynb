{
 "cells": [
  {
   "cell_type": "markdown",
   "metadata": {
    "collapsed": true,
    "deletable": true,
    "editable": true
   },
   "source": [
    "# Image Classification\n",
    "In this project, you'll classify images from the [CIFAR-10 dataset](https://www.cs.toronto.edu/~kriz/cifar.html).  The dataset consists of airplanes, dogs, cats, and other objects. You'll preprocess the images, then train a convolutional neural network on all the samples. The images need to be normalized and the labels need to be one-hot encoded.  You'll get to apply what you learned and build a convolutional, max pooling, dropout, and fully connected layers.  At the end, you'll get to see your neural network's predictions on the sample images.\n",
    "## Get the Data\n",
    "Run the following cell to download the [CIFAR-10 dataset for python](https://www.cs.toronto.edu/~kriz/cifar-10-python.tar.gz)."
   ]
  },
  {
   "cell_type": "code",
   "execution_count": 1,
   "metadata": {
    "collapsed": false,
    "deletable": true,
    "editable": true
   },
   "outputs": [
    {
     "name": "stderr",
     "output_type": "stream",
     "text": [
      "CIFAR-10 Dataset: 171MB [03:01, 941KB/s]                                "
     ]
    },
    {
     "name": "stdout",
     "output_type": "stream",
     "text": [
      "All files found!\n"
     ]
    },
    {
     "name": "stderr",
     "output_type": "stream",
     "text": [
      "\n"
     ]
    }
   ],
   "source": [
    "\"\"\"\n",
    "DON'T MODIFY ANYTHING IN THIS CELL THAT IS BELOW THIS LINE\n",
    "\"\"\"\n",
    "from urllib.request import urlretrieve\n",
    "from os.path import isfile, isdir\n",
    "from tqdm import tqdm\n",
    "import problem_unittests as tests\n",
    "import tarfile\n",
    "\n",
    "cifar10_dataset_folder_path = 'cifar-10-batches-py'\n",
    "\n",
    "class DLProgress(tqdm):\n",
    "    last_block = 0\n",
    "\n",
    "    def hook(self, block_num=1, block_size=1, total_size=None):\n",
    "        self.total = total_size\n",
    "        self.update((block_num - self.last_block) * block_size)\n",
    "        self.last_block = block_num\n",
    "\n",
    "if not isfile('cifar-10-python.tar.gz'):\n",
    "    with DLProgress(unit='B', unit_scale=True, miniters=1, desc='CIFAR-10 Dataset') as pbar:\n",
    "        urlretrieve(\n",
    "            'https://www.cs.toronto.edu/~kriz/cifar-10-python.tar.gz',\n",
    "            'cifar-10-python.tar.gz',\n",
    "            pbar.hook)\n",
    "\n",
    "if not isdir(cifar10_dataset_folder_path):\n",
    "    with tarfile.open('cifar-10-python.tar.gz') as tar:\n",
    "        tar.extractall()\n",
    "        tar.close()\n",
    "\n",
    "\n",
    "tests.test_folder_path(cifar10_dataset_folder_path)"
   ]
  },
  {
   "cell_type": "markdown",
   "metadata": {
    "deletable": true,
    "editable": true
   },
   "source": [
    "## Explore the Data\n",
    "The dataset is broken into batches to prevent your machine from running out of memory.  The CIFAR-10 dataset consists of 5 batches, named `data_batch_1`, `data_batch_2`, etc.. Each batch contains the labels and images that are one of the following:\n",
    "* airplane\n",
    "* automobile\n",
    "* bird\n",
    "* cat\n",
    "* deer\n",
    "* dog\n",
    "* frog\n",
    "* horse\n",
    "* ship\n",
    "* truck\n",
    "\n",
    "Understanding a dataset is part of making predictions on the data.  Play around with the code cell below by changing the `batch_id` and `sample_id`. The `batch_id` is the id for a batch (1-5). The `sample_id` is the id for a image and label pair in the batch.\n",
    "\n",
    "Ask yourself \"What are all possible labels?\", \"What is the range of values for the image data?\", \"Are the labels in order or random?\".  Answers to questions like these will help you preprocess the data and end up with better predictions."
   ]
  },
  {
   "cell_type": "code",
   "execution_count": 2,
   "metadata": {
    "collapsed": false,
    "deletable": true,
    "editable": true
   },
   "outputs": [
    {
     "name": "stdout",
     "output_type": "stream",
     "text": [
      "\n",
      "Stats of batch 2:\n",
      "Samples: 10000\n",
      "Label Counts: {0: 984, 1: 1007, 2: 1010, 3: 995, 4: 1010, 5: 988, 6: 1008, 7: 1026, 8: 987, 9: 985}\n",
      "First 20 Labels: [1, 6, 6, 8, 8, 3, 4, 6, 0, 6, 0, 3, 6, 6, 5, 4, 8, 3, 2, 6]\n",
      "\n",
      "Example of Image 3:\n",
      "Image - Min Value: 4 Max Value: 255\n",
      "Image - Shape: (32, 32, 3)\n",
      "Label - Label Id: 8 Name: ship\n"
     ]
    },
    {
     "data": {
      "image/png": "[encoded data removed]",
      "text/plain": [
       "<matplotlib.figure.Figure at 0x7fa6aefff518>"
      ]
     },
     "metadata": {
      "image/png": {
       "height": 250,
       "width": 253
      }
     },
     "output_type": "display_data"
    }
   ],
   "source": [
    "%matplotlib inline\n",
    "%config InlineBackend.figure_format = 'retina'\n",
    "\n",
    "import helper\n",
    "import numpy as np\n",
    "\n",
    "# Explore the dataset\n",
    "batch_id = 2\n",
    "sample_id = 3\n",
    "helper.display_stats(cifar10_dataset_folder_path, batch_id, sample_id)"
   ]
  },
  {
   "cell_type": "markdown",
   "metadata": {
    "deletable": true,
    "editable": true
   },
   "source": [
    "## Implement Preprocess Functions\n",
    "### Normalize\n",
    "In the cell below, implement the `normalize` function to take in image data, `x`, and return it as a normalized Numpy array. The values should be in the range of 0 to 1, inclusive.  The return object should be the same shape as `x`."
   ]
  },
  {
   "cell_type": "code",
   "execution_count": 3,
   "metadata": {
    "collapsed": false,
    "deletable": true,
    "editable": true
   },
   "outputs": [
    {
     "name": "stdout",
     "output_type": "stream",
     "text": [
      "Tests Passed\n"
     ]
    }
   ],
   "source": [
    "def normalize(x):\n",
    "    \"\"\"\n",
    "    Normalize a list of sample image data in the range of 0 to 1\n",
    "    : x: List of image data.  The image shape is (32, 32, 3)\n",
    "    : return: Numpy array of normalize data\n",
    "    \"\"\"\n",
    "    # TODO: Implement Function\n",
    "    #  ref.  intro-to-tensorflow/intro_to_tensorflow_solution.ipynb Problem1\n",
    "    np_ary = np.array(x)\n",
    "    a = 0\n",
    "    b = 1\n",
    "    min = 0\n",
    "    max = 255\n",
    "    return a + (((np_ary - min)*(b - a)/(max - min)))\n",
    "\n",
    "\n",
    "\"\"\"\n",
    "DON'T MODIFY ANYTHING IN THIS CELL THAT IS BELOW THIS LINE\n",
    "\"\"\"\n",
    "tests.test_normalize(normalize)"
   ]
  },
  {
   "cell_type": "markdown",
   "metadata": {
    "deletable": true,
    "editable": true
   },
   "source": [
    "### One-hot encode\n",
    "Just like the previous code cell, you'll be implementing a function for preprocessing.  This time, you'll implement the `one_hot_encode` function. The input, `x`, are a list of labels.  Implement the function to return the list of labels as One-Hot encoded Numpy array.  The possible values for labels are 0 to 9. The one-hot encoding function should return the same encoding for each value between each call to `one_hot_encode`.  Make sure to save the map of encodings outside the function.\n",
    "\n",
    "Hint: Don't reinvent the wheel."
   ]
  },
  {
   "cell_type": "code",
   "execution_count": 6,
   "metadata": {
    "collapsed": false,
    "deletable": true,
    "editable": true
   },
   "outputs": [
    {
     "name": "stdout",
     "output_type": "stream",
     "text": [
      "Tests Passed\n"
     ]
    }
   ],
   "source": [
    "from sklearn import preprocessing\n",
    "\n",
    "cache = {}\n",
    "def one_hot_encode(x):\n",
    "    \"\"\"\n",
    "    One hot encode a list of sample labels. Return a one-hot encoded vector for each label.\n",
    "    : x: List of sample Labels\n",
    "    : return: Numpy array of one-hot encoded labels\n",
    "    \"\"\"\n",
    "    # TODO: Implement Function\n",
    "    lb = preprocessing.LabelBinarizer()\n",
    "    lb.fit(range(10))\n",
    "    rs = np.array(lb.transform(x))\n",
    "    return rs\n",
    "\n",
    "\n",
    "\"\"\"\n",
    "DON'T MODIFY ANYTHING IN THIS CELL THAT IS BELOW THIS LINE\n",
    "\"\"\"\n",
    "tests.test_one_hot_encode(one_hot_encode)"
   ]
  },
  {
   "cell_type": "markdown",
   "metadata": {
    "deletable": true,
    "editable": true
   },
   "source": [
    "### Randomize Data\n",
    "As you saw from exploring the data above, the order of the samples are randomized.  It doesn't hurt to randomize it again, but you don't need to for this dataset."
   ]
  },
  {
   "cell_type": "markdown",
   "metadata": {
    "deletable": true,
    "editable": true
   },
   "source": [
    "## Preprocess all the data and save it\n",
    "Running the code cell below will preprocess all the CIFAR-10 data and save it to file. The code below also uses 10% of the training data for validation."
   ]
  },
  {
   "cell_type": "code",
   "execution_count": 7,
   "metadata": {
    "collapsed": false,
    "deletable": true,
    "editable": true
   },
   "outputs": [],
   "source": [
    "\"\"\"\n",
    "DON'T MODIFY ANYTHING IN THIS CELL\n",
    "\"\"\"\n",
    "# Preprocess Training, Validation, and Testing Data\n",
    "helper.preprocess_and_save_data(cifar10_dataset_folder_path, normalize, one_hot_encode)"
   ]
  },
  {
   "cell_type": "markdown",
   "metadata": {
    "deletable": true,
    "editable": true
   },
   "source": [
    "# Check Point\n",
    "This is your first checkpoint.  If you ever decide to come back to this notebook or have to restart the notebook, you can start from here.  The preprocessed data has been saved to disk."
   ]
  },
  {
   "cell_type": "code",
   "execution_count": 1,
   "metadata": {
    "collapsed": true,
    "deletable": true,
    "editable": true
   },
   "outputs": [],
   "source": [
    "\"\"\"\n",
    "DON'T MODIFY ANYTHING IN THIS CELL\n",
    "\"\"\"\n",
    "import pickle\n",
    "import problem_unittests as tests\n",
    "import helper\n",
    "\n",
    "# Load the Preprocessed Validation data\n",
    "valid_features, valid_labels = pickle.load(open('preprocess_validation.p', mode='rb'))"
   ]
  },
  {
   "cell_type": "markdown",
   "metadata": {
    "deletable": true,
    "editable": true
   },
   "source": [
    "## Build the network\n",
    "For the neural network, you'll build each layer into a function.  Most of the code you've seen has been outside of functions. To test your code more thoroughly, we require that you put each layer in a function.  This allows us to give you better feedback and test for simple mistakes using our unittests before you submit your project.\n",
    "\n",
    ">**Note:** If you're finding it hard to dedicate enough time for this course each week, we've provided a small shortcut to this part of the project. In the next couple of problems, you'll have the option to use classes from the [TensorFlow Layers](https://www.tensorflow.org/api_docs/python/tf/layers) or [TensorFlow Layers (contrib)](https://www.tensorflow.org/api_guides/python/contrib.layers) packages to build each layer, except the layers you build in the \"Convolutional and Max Pooling Layer\" section.  TF Layers is similar to Keras's and TFLearn's abstraction to layers, so it's easy to pickup.\n",
    "\n",
    ">However, if you would like to get the most out of this course, try to solve all the problems _without_ using anything from the TF Layers packages. You **can** still use classes from other packages that happen to have the same name as ones you find in TF Layers! For example, instead of using the TF Layers version of the `conv2d` class, [tf.layers.conv2d](https://www.tensorflow.org/api_docs/python/tf/layers/conv2d), you would want to use the TF Neural Network version of `conv2d`, [tf.nn.conv2d](https://www.tensorflow.org/api_docs/python/tf/nn/conv2d). \n",
    "\n",
    "Let's begin!\n",
    "\n",
    "### Input\n",
    "The neural network needs to read the image data, one-hot encoded labels, and dropout keep probability. Implement the following functions\n",
    "* Implement `neural_net_image_input`\n",
    " * Return a [TF Placeholder](https://www.tensorflow.org/api_docs/python/tf/placeholder)\n",
    " * Set the shape using `image_shape` with batch size set to `None`.\n",
    " * Name the TensorFlow placeholder \"x\" using the TensorFlow `name` parameter in the [TF Placeholder](https://www.tensorflow.org/api_docs/python/tf/placeholder).\n",
    "* Implement `neural_net_label_input`\n",
    " * Return a [TF Placeholder](https://www.tensorflow.org/api_docs/python/tf/placeholder)\n",
    " * Set the shape using `n_classes` with batch size set to `None`.\n",
    " * Name the TensorFlow placeholder \"y\" using the TensorFlow `name` parameter in the [TF Placeholder](https://www.tensorflow.org/api_docs/python/tf/placeholder).\n",
    "* Implement `neural_net_keep_prob_input`\n",
    " * Return a [TF Placeholder](https://www.tensorflow.org/api_docs/python/tf/placeholder) for dropout keep probability.\n",
    " * Name the TensorFlow placeholder \"keep_prob\" using the TensorFlow `name` parameter in the [TF Placeholder](https://www.tensorflow.org/api_docs/python/tf/placeholder).\n",
    "\n",
    "These names will be used at the end of the project to load your saved model.\n",
    "\n",
    "Note: `None` for shapes in TensorFlow allow for a dynamic size."
   ]
  },
  {
   "cell_type": "code",
   "execution_count": 2,
   "metadata": {
    "collapsed": false,
    "deletable": true,
    "editable": true
   },
   "outputs": [
    {
     "name": "stdout",
     "output_type": "stream",
     "text": [
      "Image Input Tests Passed.\n",
      "Label Input Tests Passed.\n",
      "Keep Prob Tests Passed.\n"
     ]
    }
   ],
   "source": [
    "import tensorflow as tf\n",
    "\n",
    "def neural_net_image_input(image_shape):\n",
    "    \"\"\"\n",
    "    Return a Tensor for a bach of image input\n",
    "    : image_shape: Shape of the images\n",
    "    : return: Tensor for image input.\n",
    "    \"\"\"\n",
    "    # TODO: Implement Function\n",
    "    return tf.placeholder(tf.float32, shape=[None, *image_shape], name='x')\n",
    "\n",
    "\n",
    "def neural_net_label_input(n_classes):\n",
    "    \"\"\"\n",
    "    Return a Tensor for a batch of label input\n",
    "    : n_classes: Number of classes\n",
    "    : return: Tensor for label input.\n",
    "    \"\"\"\n",
    "    # TODO: Implement Function\n",
    "    return tf.placeholder(tf.float32, shape=[None, n_classes], name='y')\n",
    "\n",
    "\n",
    "def neural_net_keep_prob_input():\n",
    "    \"\"\"\n",
    "    Return a Tensor for keep probability\n",
    "    : return: Tensor for keep probability.\n",
    "    \"\"\"\n",
    "    # TODO: Implement Function\n",
    "    return tf.placeholder(tf.float32, shape=None, name='keep_prob')\n",
    "\n",
    "\n",
    "\"\"\"\n",
    "DON'T MODIFY ANYTHING IN THIS CELL THAT IS BELOW THIS LINE\n",
    "\"\"\"\n",
    "tf.reset_default_graph()\n",
    "tests.test_nn_image_inputs(neural_net_image_input)\n",
    "tests.test_nn_label_inputs(neural_net_label_input)\n",
    "tests.test_nn_keep_prob_inputs(neural_net_keep_prob_input)"
   ]
  },
  {
   "cell_type": "markdown",
   "metadata": {
    "deletable": true,
    "editable": true
   },
   "source": [
    "### Convolution and Max Pooling Layer\n",
    "Convolution layers have a lot of success with images. For this code cell, you should implement the function `conv2d_maxpool` to apply convolution then max pooling:\n",
    "* Create the weight and bias using `conv_ksize`, `conv_num_outputs` and the shape of `x_tensor`.\n",
    "* Apply a convolution to `x_tensor` using weight and `conv_strides`.\n",
    " * We recommend you use same padding, but you're welcome to use any padding.\n",
    "* Add bias\n",
    "* Add a nonlinear activation to the convolution.\n",
    "* Apply Max Pooling using `pool_ksize` and `pool_strides`.\n",
    " * We recommend you use same padding, but you're welcome to use any padding.\n",
    "\n",
    "**Note:** You **can't** use [TensorFlow Layers](https://www.tensorflow.org/api_docs/python/tf/layers) or [TensorFlow Layers (contrib)](https://www.tensorflow.org/api_guides/python/contrib.layers) for **this** layer, but you can still use TensorFlow's [Neural Network](https://www.tensorflow.org/api_docs/python/tf/nn) package. You may still use the shortcut option for all the **other** layers."
   ]
  },
  {
   "cell_type": "code",
   "execution_count": 3,
   "metadata": {
    "collapsed": false,
    "deletable": true,
    "editable": true
   },
   "outputs": [
    {
     "name": "stdout",
     "output_type": "stream",
     "text": [
      "Tests Passed\n"
     ]
    }
   ],
   "source": [
    "def conv2d_maxpool(x_tensor, conv_num_outputs, conv_ksize, conv_strides, pool_ksize, pool_strides):\n",
    "    \"\"\"\n",
    "    Apply convolution then max pooling to x_tensor\n",
    "    :param x_tensor: TensorFlow Tensor\n",
    "    :param conv_num_outputs: Number of outputs for the convolutional layer\n",
    "    :param conv_ksize: kernal size 2-D Tuple for the convolutional layer\n",
    "    :param conv_strides: Stride 2-D Tuple for convolution\n",
    "    :param pool_ksize: kernal size 2-D Tuple for pool\n",
    "    :param pool_strides: Stride 2-D Tuple for pool\n",
    "    : return: A tensor that represents convolution and max pooling of x_tensor\n",
    "    \"\"\"\n",
    "    # TODO: Implement Function\n",
    "    # ref.  Convolutional Networks 17. TensorFlow Convolution Layer\n",
    "    #print(x_tensor.shape)\n",
    "    depth = int(x_tensor.shape[-1])\n",
    "    weight = tf.Variable(tf.truncated_normal([*conv_ksize, depth, conv_num_outputs]))\n",
    "    bias = tf.Variable(tf.zeros(conv_num_outputs))\n",
    "    \n",
    "    #  from ref: \"We are generally always going to set the stride for batch and input_channels to be 1.\"\n",
    "    batch, input_channels = 1, 1\n",
    "    conv_layer = tf.nn.conv2d(x_tensor, weight, strides=[batch, *conv_strides, input_channels], padding='SAME')\n",
    "    conv_layer = tf.nn.bias_add(conv_layer, bias)\n",
    "    conv_layer = tf.nn.relu(conv_layer)\n",
    "    conv_layer = tf.nn.max_pool(conv_layer, ksize=[batch, *pool_ksize, input_channels], strides=[batch, *pool_strides, input_channels], padding='SAME')\n",
    "    \n",
    "    return conv_layer\n",
    "\n",
    "\n",
    "\"\"\"\n",
    "DON'T MODIFY ANYTHING IN THIS CELL THAT IS BELOW THIS LINE\n",
    "\"\"\"\n",
    "tests.test_con_pool(conv2d_maxpool)"
   ]
  },
  {
   "cell_type": "markdown",
   "metadata": {
    "deletable": true,
    "editable": true
   },
   "source": [
    "### Flatten Layer\n",
    "Implement the `flatten` function to change the dimension of `x_tensor` from a 4-D tensor to a 2-D tensor.  The output should be the shape (*Batch Size*, *Flattened Image Size*). Shortcut option: you can use classes from the [TensorFlow Layers](https://www.tensorflow.org/api_docs/python/tf/layers) or [TensorFlow Layers (contrib)](https://www.tensorflow.org/api_guides/python/contrib.layers) packages for this layer. For more of a challenge, only use other TensorFlow packages."
   ]
  },
  {
   "cell_type": "code",
   "execution_count": 4,
   "metadata": {
    "collapsed": false,
    "deletable": true,
    "editable": true
   },
   "outputs": [
    {
     "name": "stdout",
     "output_type": "stream",
     "text": [
      "Tests Passed\n"
     ]
    }
   ],
   "source": [
    "from functools import reduce\n",
    "\n",
    "def flatten(x_tensor):\n",
    "    \"\"\"\n",
    "    Flatten x_tensor to (Batch Size, Flattened Image Size)\n",
    "    : x_tensor: A tensor of size (Batch Size, ...), where ... are the image dimensions.\n",
    "    : return: A tensor of size (Batch Size, Flattened Image Size).\n",
    "    \"\"\"\n",
    "    # TODO: Implement Function\n",
    "    #print(x_tensor.shape)\n",
    "    # note. x_tensor.shape[0] => ?\n",
    "    size = reduce(lambda x, y: int(x)*int(y), x_tensor.shape[1:])\n",
    "    #print(size)\n",
    "    return tf.reshape(x_tensor, [-1, size])\n",
    "\n",
    "\n",
    "\"\"\"\n",
    "DON'T MODIFY ANYTHING IN THIS CELL THAT IS BELOW THIS LINE\n",
    "\"\"\"\n",
    "tests.test_flatten(flatten)"
   ]
  },
  {
   "cell_type": "markdown",
   "metadata": {
    "deletable": true,
    "editable": true
   },
   "source": [
    "### Fully-Connected Layer\n",
    "Implement the `fully_conn` function to apply a fully connected layer to `x_tensor` with the shape (*Batch Size*, *num_outputs*). Shortcut option: you can use classes from the [TensorFlow Layers](https://www.tensorflow.org/api_docs/python/tf/layers) or [TensorFlow Layers (contrib)](https://www.tensorflow.org/api_guides/python/contrib.layers) packages for this layer. For more of a challenge, only use other TensorFlow packages."
   ]
  },
  {
   "cell_type": "code",
   "execution_count": 5,
   "metadata": {
    "collapsed": false,
    "deletable": true,
    "editable": true
   },
   "outputs": [
    {
     "name": "stdout",
     "output_type": "stream",
     "text": [
      "Tests Passed\n"
     ]
    }
   ],
   "source": [
    "def fully_conn(x_tensor, num_outputs):\n",
    "    \"\"\"\n",
    "    Apply a fully connected layer to x_tensor using weight and bias\n",
    "    : x_tensor: A 2-D tensor where the first dimension is batch size.\n",
    "    : num_outputs: The number of output that the new tensor should be.\n",
    "    : return: A 2-D tensor where the second dimension is num_outputs.\n",
    "    \"\"\"\n",
    "    # TODO: Implement Function\n",
    "    return tf.contrib.layers.fully_connected(x_tensor, num_outputs, activation_fn=tf.nn.relu)\n",
    "\n",
    "\n",
    "\"\"\"\n",
    "DON'T MODIFY ANYTHING IN THIS CELL THAT IS BELOW THIS LINE\n",
    "\"\"\"\n",
    "tests.test_fully_conn(fully_conn)"
   ]
  },
  {
   "cell_type": "markdown",
   "metadata": {
    "deletable": true,
    "editable": true
   },
   "source": [
    "### Output Layer\n",
    "Implement the `output` function to apply a fully connected layer to `x_tensor` with the shape (*Batch Size*, *num_outputs*). Shortcut option: you can use classes from the [TensorFlow Layers](https://www.tensorflow.org/api_docs/python/tf/layers) or [TensorFlow Layers (contrib)](https://www.tensorflow.org/api_guides/python/contrib.layers) packages for this layer. For more of a challenge, only use other TensorFlow packages.\n",
    "\n",
    "**Note:** Activation, softmax, or cross entropy should **not** be applied to this."
   ]
  },
  {
   "cell_type": "code",
   "execution_count": 6,
   "metadata": {
    "collapsed": false,
    "deletable": true,
    "editable": true
   },
   "outputs": [
    {
     "name": "stdout",
     "output_type": "stream",
     "text": [
      "Tests Passed\n"
     ]
    }
   ],
   "source": [
    "def output(x_tensor, num_outputs):\n",
    "    \"\"\"\n",
    "    Apply a output layer to x_tensor using weight and bias\n",
    "    : x_tensor: A 2-D tensor where the first dimension is batch size.\n",
    "    : num_outputs: The number of output that the new tensor should be.\n",
    "    : return: A 2-D tensor where the second dimension is num_outputs.\n",
    "    \"\"\"\n",
    "    # TODO: Implement Function\n",
    "    return tf.contrib.layers.legacy_fully_connected(x_tensor, num_outputs, activation_fn=None)\n",
    "\n",
    "\n",
    "\"\"\"\n",
    "DON'T MODIFY ANYTHING IN THIS CELL THAT IS BELOW THIS LINE\n",
    "\"\"\"\n",
    "tests.test_output(output)"
   ]
  },
  {
   "cell_type": "markdown",
   "metadata": {
    "deletable": true,
    "editable": true
   },
   "source": [
    "### Create Convolutional Model\n",
    "Implement the function `conv_net` to create a convolutional neural network model. The function takes in a batch of images, `x`, and outputs logits.  Use the layers you created above to create this model:\n",
    "\n",
    "* Apply 1, 2, or 3 Convolution and Max Pool layers\n",
    "* Apply a Flatten Layer\n",
    "* Apply 1, 2, or 3 Fully Connected Layers\n",
    "* Apply an Output Layer\n",
    "* Return the output\n",
    "* Apply [TensorFlow's Dropout](https://www.tensorflow.org/api_docs/python/tf/nn/dropout) to one or more layers in the model using `keep_prob`. "
   ]
  },
  {
   "cell_type": "code",
   "execution_count": 28,
   "metadata": {
    "collapsed": false,
    "deletable": true,
    "editable": true
   },
   "outputs": [
    {
     "name": "stdout",
     "output_type": "stream",
     "text": [
      "Neural Network Built!\n"
     ]
    }
   ],
   "source": [
    "def conv_net(x, keep_prob):\n",
    "    \"\"\"\n",
    "    Create a convolutional neural network model\n",
    "    : x: Placeholder tensor that holds image data.\n",
    "    : keep_prob: Placeholder tensor that hold dropout keep probability.\n",
    "    : return: Tensor that represents logits\n",
    "    \"\"\"\n",
    "    # TODO: Apply 1, 2, or 3 Convolution and Max Pool layers\n",
    "    #    Play around with different number of outputs, kernel size and stride\n",
    "    # Function Definition from Above:\n",
    "    #    conv2d_maxpool(x_tensor, conv_num_outputs, conv_ksize, conv_strides, pool_ksize, pool_strides)\n",
    "    # ref. Convolutional Networks 30. Convolutional Network in TensorFlow\n",
    "    net = conv2d_maxpool(x, 20, (2, 2), (2, 2), (2, 2), (2, 2))\n",
    "    net = conv2d_maxpool(net, 40, (2, 2), (2, 2), (2, 2), (2, 2))\n",
    "    #net = conv2d_maxpool(net, 60, (2, 2), (2, 2), (2, 2), (2, 2))\n",
    "\n",
    "    # TODO: Apply a Flatten Layer\n",
    "    # Function Definition from Above:\n",
    "    #   flatten(x_tensor)\n",
    "    net = flatten(net)\n",
    "    \n",
    "\n",
    "    # TODO: Apply 1, 2, or 3 Fully Connected Layers\n",
    "    #    Play around with different number of outputs\n",
    "    # Function Definition from Above:\n",
    "    #   fully_conn(x_tensor, num_outputs)\n",
    "    net = fully_conn(net, 20)\n",
    "    net = fully_conn(net, 40)\n",
    "    net = fully_conn(net, 60)\n",
    "    \n",
    "    \n",
    "    # TODO: Apply an Output Layer\n",
    "    #    Set this to the number of classes\n",
    "    # Function Definition from Above:\n",
    "    #   output(x_tensor, num_outputs)\n",
    "    num_of_classes = 10\n",
    "    net = output(net, num_of_classes)\n",
    "    \n",
    "    \n",
    "    # TODO: return output\n",
    "    return net\n",
    "\n",
    "\n",
    "\"\"\"\n",
    "DON'T MODIFY ANYTHING IN THIS CELL THAT IS BELOW THIS LINE\n",
    "\"\"\"\n",
    "\n",
    "##############################\n",
    "## Build the Neural Network ##\n",
    "##############################\n",
    "\n",
    "# Remove previous weights, bias, inputs, etc..\n",
    "tf.reset_default_graph()\n",
    "\n",
    "# Inputs\n",
    "x = neural_net_image_input((32, 32, 3))\n",
    "y = neural_net_label_input(10)\n",
    "keep_prob = neural_net_keep_prob_input()\n",
    "\n",
    "# Model\n",
    "logits = conv_net(x, keep_prob)\n",
    "\n",
    "# Name logits Tensor, so that is can be loaded from disk after training\n",
    "logits = tf.identity(logits, name='logits')\n",
    "\n",
    "# Loss and Optimizer\n",
    "cost = tf.reduce_mean(tf.nn.softmax_cross_entropy_with_logits(logits=logits, labels=y))\n",
    "optimizer = tf.train.AdamOptimizer().minimize(cost)\n",
    "\n",
    "# Accuracy\n",
    "correct_pred = tf.equal(tf.argmax(logits, 1), tf.argmax(y, 1))\n",
    "accuracy = tf.reduce_mean(tf.cast(correct_pred, tf.float32), name='accuracy')\n",
    "\n",
    "tests.test_conv_net(conv_net)"
   ]
  },
  {
   "cell_type": "markdown",
   "metadata": {
    "deletable": true,
    "editable": true
   },
   "source": [
    "## Train the Neural Network\n",
    "### Single Optimization\n",
    "Implement the function `train_neural_network` to do a single optimization.  The optimization should use `optimizer` to optimize in `session` with a `feed_dict` of the following:\n",
    "* `x` for image input\n",
    "* `y` for labels\n",
    "* `keep_prob` for keep probability for dropout\n",
    "\n",
    "This function will be called for each batch, so `tf.global_variables_initializer()` has already been called.\n",
    "\n",
    "Note: Nothing needs to be returned. This function is only optimizing the neural network."
   ]
  },
  {
   "cell_type": "code",
   "execution_count": 16,
   "metadata": {
    "collapsed": false,
    "deletable": true,
    "editable": true
   },
   "outputs": [
    {
     "name": "stdout",
     "output_type": "stream",
     "text": [
      "Tests Passed\n"
     ]
    }
   ],
   "source": [
    "def train_neural_network(session, optimizer, keep_probability, feature_batch, label_batch):\n",
    "    \"\"\"\n",
    "    Optimize the session on a batch of images and labels\n",
    "    : session: Current TensorFlow session\n",
    "    : optimizer: TensorFlow optimizer function\n",
    "    : keep_probability: keep probability\n",
    "    : feature_batch: Batch of Numpy image data\n",
    "    : label_batch: Batch of Numpy label data\n",
    "    \"\"\"\n",
    "    # TODO: Implement Function\n",
    "    # ref. Convolutional Networks 30. Convolutional Network in TensorFlow\n",
    "    session.run(optimizer, feed_dict={x: feature_batch, y: label_batch, keep_prob: keep_probability})\n",
    "\n",
    "\n",
    "\"\"\"\n",
    "DON'T MODIFY ANYTHING IN THIS CELL THAT IS BELOW THIS LINE\n",
    "\"\"\"\n",
    "tests.test_train_nn(train_neural_network)"
   ]
  },
  {
   "cell_type": "markdown",
   "metadata": {
    "deletable": true,
    "editable": true
   },
   "source": [
    "### Show Stats\n",
    "Implement the function `print_stats` to print loss and validation accuracy.  Use the global variables `valid_features` and `valid_labels` to calculate validation accuracy.  Use a keep probability of `1.0` to calculate the loss and validation accuracy."
   ]
  },
  {
   "cell_type": "code",
   "execution_count": 9,
   "metadata": {
    "collapsed": false,
    "deletable": true,
    "editable": true
   },
   "outputs": [],
   "source": [
    "def print_stats(session, feature_batch, label_batch, cost, accuracy):\n",
    "    \"\"\"\n",
    "    Print information about loss and validation accuracy\n",
    "    : session: Current TensorFlow session\n",
    "    : feature_batch: Batch of Numpy image data\n",
    "    : label_batch: Batch of Numpy label data\n",
    "    : cost: TensorFlow cost function\n",
    "    : accuracy: TensorFlow accuracy function\n",
    "    \"\"\"\n",
    "    # TODO: Implement Function\n",
    "    # ref. Convolutional Networks 30. Convolutional Network in TensorFlow\n",
    "    loss = session.run(cost, feed_dict={x: feature_batch, y: label_batch, keep_prob: 1.})\n",
    "    valid_acc = session.run(accuracy, feed_dict={x: feature_batch, y: label_batch, keep_prob: 1.})\n",
    "    print('Loss: {:>10.4f} Validation Accuracy: {:.6f}'.format(loss, valid_acc))"
   ]
  },
  {
   "cell_type": "markdown",
   "metadata": {
    "deletable": true,
    "editable": true
   },
   "source": [
    "### Hyperparameters\n",
    "Tune the following parameters:\n",
    "* Set `epochs` to the number of iterations until the network stops learning or start overfitting\n",
    "* Set `batch_size` to the highest number that your machine has memory for.  Most people set them to common sizes of memory:\n",
    " * 64\n",
    " * 128\n",
    " * 256\n",
    " * ...\n",
    "* Set `keep_probability` to the probability of keeping a node using dropout"
   ]
  },
  {
   "cell_type": "code",
   "execution_count": 21,
   "metadata": {
    "collapsed": true,
    "deletable": true,
    "editable": true
   },
   "outputs": [],
   "source": [
    "# TODO: Tune Parameters\n",
    "epochs = 80\n",
    "batch_size = 128\n",
    "keep_probability = 1."
   ]
  },
  {
   "cell_type": "markdown",
   "metadata": {
    "deletable": true,
    "editable": true
   },
   "source": [
    "### Train on a Single CIFAR-10 Batch\n",
    "Instead of training the neural network on all the CIFAR-10 batches of data, let's use a single batch. This should save time while you iterate on the model to get a better accuracy.  Once the final validation accuracy is 50% or greater, run the model on all the data in the next section."
   ]
  },
  {
   "cell_type": "code",
   "execution_count": 29,
   "metadata": {
    "collapsed": false,
    "deletable": true,
    "editable": true
   },
   "outputs": [
    {
     "name": "stdout",
     "output_type": "stream",
     "text": [
      "Checking the Training on a Single Batch...\n",
      "Epoch  1, CIFAR-10 Batch 1:  Loss:     2.2504 Validation Accuracy: 0.250000\n",
      "Epoch  2, CIFAR-10 Batch 1:  Loss:     2.2112 Validation Accuracy: 0.300000\n",
      "Epoch  3, CIFAR-10 Batch 1:  Loss:     2.1547 Validation Accuracy: 0.275000\n",
      "Epoch  4, CIFAR-10 Batch 1:  Loss:     2.0689 Validation Accuracy: 0.300000\n",
      "Epoch  5, CIFAR-10 Batch 1:  Loss:     2.0172 Validation Accuracy: 0.375000\n",
      "Epoch  6, CIFAR-10 Batch 1:  Loss:     1.9711 Validation Accuracy: 0.350000\n",
      "Epoch  7, CIFAR-10 Batch 1:  Loss:     1.9287 Validation Accuracy: 0.350000\n",
      "Epoch  8, CIFAR-10 Batch 1:  Loss:     1.9176 Validation Accuracy: 0.375000\n",
      "Epoch  9, CIFAR-10 Batch 1:  Loss:     1.8669 Validation Accuracy: 0.425000\n",
      "Epoch 10, CIFAR-10 Batch 1:  Loss:     1.8210 Validation Accuracy: 0.500000\n",
      "Epoch 11, CIFAR-10 Batch 1:  Loss:     1.7985 Validation Accuracy: 0.550000\n",
      "Epoch 12, CIFAR-10 Batch 1:  Loss:     1.7552 Validation Accuracy: 0.550000\n",
      "Epoch 13, CIFAR-10 Batch 1:  Loss:     1.7299 Validation Accuracy: 0.525000\n",
      "Epoch 14, CIFAR-10 Batch 1:  Loss:     1.6993 Validation Accuracy: 0.550000\n",
      "Epoch 15, CIFAR-10 Batch 1:  Loss:     1.6692 Validation Accuracy: 0.550000\n",
      "Epoch 16, CIFAR-10 Batch 1:  Loss:     1.6513 Validation Accuracy: 0.525000\n",
      "Epoch 17, CIFAR-10 Batch 1:  Loss:     1.6257 Validation Accuracy: 0.525000\n",
      "Epoch 18, CIFAR-10 Batch 1:  Loss:     1.6115 Validation Accuracy: 0.525000\n",
      "Epoch 19, CIFAR-10 Batch 1:  Loss:     1.5918 Validation Accuracy: 0.550000\n",
      "Epoch 20, CIFAR-10 Batch 1:  Loss:     1.5922 Validation Accuracy: 0.525000\n",
      "Epoch 21, CIFAR-10 Batch 1:  Loss:     1.5609 Validation Accuracy: 0.550000\n",
      "Epoch 22, CIFAR-10 Batch 1:  Loss:     1.5352 Validation Accuracy: 0.575000\n",
      "Epoch 23, CIFAR-10 Batch 1:  Loss:     1.5212 Validation Accuracy: 0.575000\n",
      "Epoch 24, CIFAR-10 Batch 1:  Loss:     1.5003 Validation Accuracy: 0.600000\n",
      "Epoch 25, CIFAR-10 Batch 1:  Loss:     1.4899 Validation Accuracy: 0.575000\n",
      "Epoch 26, CIFAR-10 Batch 1:  Loss:     1.4729 Validation Accuracy: 0.550000\n",
      "Epoch 27, CIFAR-10 Batch 1:  Loss:     1.4578 Validation Accuracy: 0.575000\n",
      "Epoch 28, CIFAR-10 Batch 1:  Loss:     1.4424 Validation Accuracy: 0.575000\n",
      "Epoch 29, CIFAR-10 Batch 1:  Loss:     1.4325 Validation Accuracy: 0.600000\n",
      "Epoch 30, CIFAR-10 Batch 1:  Loss:     1.4190 Validation Accuracy: 0.625000\n",
      "Epoch 31, CIFAR-10 Batch 1:  Loss:     1.3957 Validation Accuracy: 0.625000\n",
      "Epoch 32, CIFAR-10 Batch 1:  Loss:     1.3760 Validation Accuracy: 0.650000\n",
      "Epoch 33, CIFAR-10 Batch 1:  Loss:     1.3464 Validation Accuracy: 0.650000\n",
      "Epoch 34, CIFAR-10 Batch 1:  Loss:     1.3322 Validation Accuracy: 0.650000\n",
      "Epoch 35, CIFAR-10 Batch 1:  Loss:     1.3098 Validation Accuracy: 0.650000\n",
      "Epoch 36, CIFAR-10 Batch 1:  Loss:     1.3025 Validation Accuracy: 0.650000\n",
      "Epoch 37, CIFAR-10 Batch 1:  Loss:     1.2806 Validation Accuracy: 0.650000\n",
      "Epoch 38, CIFAR-10 Batch 1:  Loss:     1.2592 Validation Accuracy: 0.675000\n",
      "Epoch 39, CIFAR-10 Batch 1:  Loss:     1.2504 Validation Accuracy: 0.650000\n",
      "Epoch 40, CIFAR-10 Batch 1:  Loss:     1.2349 Validation Accuracy: 0.675000\n",
      "Epoch 41, CIFAR-10 Batch 1:  Loss:     1.2238 Validation Accuracy: 0.675000\n",
      "Epoch 42, CIFAR-10 Batch 1:  Loss:     1.2107 Validation Accuracy: 0.700000\n",
      "Epoch 43, CIFAR-10 Batch 1:  Loss:     1.2012 Validation Accuracy: 0.700000\n",
      "Epoch 44, CIFAR-10 Batch 1:  Loss:     1.1911 Validation Accuracy: 0.700000\n",
      "Epoch 45, CIFAR-10 Batch 1:  Loss:     1.1835 Validation Accuracy: 0.700000\n",
      "Epoch 46, CIFAR-10 Batch 1:  Loss:     1.1760 Validation Accuracy: 0.700000\n",
      "Epoch 47, CIFAR-10 Batch 1:  Loss:     1.1603 Validation Accuracy: 0.700000\n",
      "Epoch 48, CIFAR-10 Batch 1:  Loss:     1.1485 Validation Accuracy: 0.700000\n",
      "Epoch 49, CIFAR-10 Batch 1:  Loss:     1.1329 Validation Accuracy: 0.700000\n",
      "Epoch 50, CIFAR-10 Batch 1:  Loss:     1.1204 Validation Accuracy: 0.700000\n",
      "Epoch 51, CIFAR-10 Batch 1:  Loss:     1.1148 Validation Accuracy: 0.700000\n",
      "Epoch 52, CIFAR-10 Batch 1:  Loss:     1.1042 Validation Accuracy: 0.700000\n",
      "Epoch 53, CIFAR-10 Batch 1:  Loss:     1.1001 Validation Accuracy: 0.700000\n",
      "Epoch 54, CIFAR-10 Batch 1:  Loss:     1.0919 Validation Accuracy: 0.700000\n",
      "Epoch 55, CIFAR-10 Batch 1:  Loss:     1.0770 Validation Accuracy: 0.700000\n",
      "Epoch 56, CIFAR-10 Batch 1:  Loss:     1.0712 Validation Accuracy: 0.700000\n",
      "Epoch 57, CIFAR-10 Batch 1:  Loss:     1.0597 Validation Accuracy: 0.700000\n",
      "Epoch 58, CIFAR-10 Batch 1:  Loss:     1.0568 Validation Accuracy: 0.700000\n",
      "Epoch 59, CIFAR-10 Batch 1:  Loss:     1.0511 Validation Accuracy: 0.700000\n",
      "Epoch 60, CIFAR-10 Batch 1:  Loss:     1.0458 Validation Accuracy: 0.700000\n",
      "Epoch 61, CIFAR-10 Batch 1:  Loss:     1.0330 Validation Accuracy: 0.700000\n",
      "Epoch 62, CIFAR-10 Batch 1:  Loss:     1.0274 Validation Accuracy: 0.700000\n",
      "Epoch 63, CIFAR-10 Batch 1:  Loss:     1.0182 Validation Accuracy: 0.700000\n",
      "Epoch 64, CIFAR-10 Batch 1:  Loss:     1.0139 Validation Accuracy: 0.700000\n",
      "Epoch 65, CIFAR-10 Batch 1:  Loss:     0.9997 Validation Accuracy: 0.700000\n",
      "Epoch 66, CIFAR-10 Batch 1:  Loss:     0.9882 Validation Accuracy: 0.725000\n",
      "Epoch 67, CIFAR-10 Batch 1:  Loss:     0.9819 Validation Accuracy: 0.725000\n",
      "Epoch 68, CIFAR-10 Batch 1:  Loss:     0.9700 Validation Accuracy: 0.725000\n",
      "Epoch 69, CIFAR-10 Batch 1:  Loss:     0.9664 Validation Accuracy: 0.725000\n",
      "Epoch 70, CIFAR-10 Batch 1:  Loss:     0.9583 Validation Accuracy: 0.725000\n",
      "Epoch 71, CIFAR-10 Batch 1:  Loss:     0.9449 Validation Accuracy: 0.725000\n",
      "Epoch 72, CIFAR-10 Batch 1:  Loss:     0.9427 Validation Accuracy: 0.725000\n",
      "Epoch 73, CIFAR-10 Batch 1:  Loss:     0.9430 Validation Accuracy: 0.750000\n",
      "Epoch 74, CIFAR-10 Batch 1:  Loss:     0.9446 Validation Accuracy: 0.725000\n",
      "Epoch 75, CIFAR-10 Batch 1:  Loss:     0.9351 Validation Accuracy: 0.750000\n",
      "Epoch 76, CIFAR-10 Batch 1:  Loss:     0.9209 Validation Accuracy: 0.750000\n",
      "Epoch 77, CIFAR-10 Batch 1:  Loss:     0.9187 Validation Accuracy: 0.750000\n",
      "Epoch 78, CIFAR-10 Batch 1:  Loss:     0.9097 Validation Accuracy: 0.750000\n",
      "Epoch 79, CIFAR-10 Batch 1:  Loss:     0.9057 Validation Accuracy: 0.750000\n",
      "Epoch 80, CIFAR-10 Batch 1:  Loss:     0.9096 Validation Accuracy: 0.750000\n"
     ]
    }
   ],
   "source": [
    "\"\"\"\n",
    "DON'T MODIFY ANYTHING IN THIS CELL\n",
    "\"\"\"\n",
    "print('Checking the Training on a Single Batch...')\n",
    "with tf.Session() as sess:\n",
    "    # Initializing the variables\n",
    "    sess.run(tf.global_variables_initializer())\n",
    "    \n",
    "    # Training cycle\n",
    "    for epoch in range(epochs):\n",
    "        batch_i = 1\n",
    "        for batch_features, batch_labels in helper.load_preprocess_training_batch(batch_i, batch_size):\n",
    "            train_neural_network(sess, optimizer, keep_probability, batch_features, batch_labels)\n",
    "        print('Epoch {:>2}, CIFAR-10 Batch {}:  '.format(epoch + 1, batch_i), end='')\n",
    "        print_stats(sess, batch_features, batch_labels, cost, accuracy)"
   ]
  },
  {
   "cell_type": "markdown",
   "metadata": {
    "deletable": true,
    "editable": true
   },
   "source": [
    "### Fully Train the Model\n",
    "Now that you got a good accuracy with a single CIFAR-10 batch, try it with all five batches."
   ]
  },
  {
   "cell_type": "code",
   "execution_count": 30,
   "metadata": {
    "collapsed": false,
    "deletable": true,
    "editable": true
   },
   "outputs": [
    {
     "name": "stdout",
     "output_type": "stream",
     "text": [
      "Training...\n",
      "Epoch  1, CIFAR-10 Batch 1:  Loss:     2.3096 Validation Accuracy: 0.100000\n",
      "Epoch  1, CIFAR-10 Batch 2:  Loss:     2.0531 Validation Accuracy: 0.275000\n",
      "Epoch  1, CIFAR-10 Batch 3:  Loss:     1.8115 Validation Accuracy: 0.250000\n",
      "Epoch  1, CIFAR-10 Batch 4:  Loss:     1.9685 Validation Accuracy: 0.225000\n",
      "Epoch  1, CIFAR-10 Batch 5:  Loss:     1.9620 Validation Accuracy: 0.250000\n",
      "Epoch  2, CIFAR-10 Batch 1:  Loss:     2.3236 Validation Accuracy: 0.200000\n",
      "Epoch  2, CIFAR-10 Batch 2:  Loss:     1.9281 Validation Accuracy: 0.225000\n",
      "Epoch  2, CIFAR-10 Batch 3:  Loss:     1.7035 Validation Accuracy: 0.350000\n",
      "Epoch  2, CIFAR-10 Batch 4:  Loss:     1.8257 Validation Accuracy: 0.250000\n",
      "Epoch  2, CIFAR-10 Batch 5:  Loss:     1.9305 Validation Accuracy: 0.225000\n",
      "Epoch  3, CIFAR-10 Batch 1:  Loss:     2.2274 Validation Accuracy: 0.275000\n",
      "Epoch  3, CIFAR-10 Batch 2:  Loss:     1.8060 Validation Accuracy: 0.400000\n",
      "Epoch  3, CIFAR-10 Batch 3:  Loss:     1.5433 Validation Accuracy: 0.525000\n",
      "Epoch  3, CIFAR-10 Batch 4:  Loss:     1.6862 Validation Accuracy: 0.275000\n",
      "Epoch  3, CIFAR-10 Batch 5:  Loss:     1.9084 Validation Accuracy: 0.325000\n",
      "Epoch  4, CIFAR-10 Batch 1:  Loss:     2.1550 Validation Accuracy: 0.325000\n",
      "Epoch  4, CIFAR-10 Batch 2:  Loss:     1.7465 Validation Accuracy: 0.350000\n",
      "Epoch  4, CIFAR-10 Batch 3:  Loss:     1.4646 Validation Accuracy: 0.550000\n",
      "Epoch  4, CIFAR-10 Batch 4:  Loss:     1.5737 Validation Accuracy: 0.350000\n",
      "Epoch  4, CIFAR-10 Batch 5:  Loss:     1.8132 Validation Accuracy: 0.350000\n",
      "Epoch  5, CIFAR-10 Batch 1:  Loss:     2.0970 Validation Accuracy: 0.350000\n",
      "Epoch  5, CIFAR-10 Batch 2:  Loss:     1.6716 Validation Accuracy: 0.400000\n",
      "Epoch  5, CIFAR-10 Batch 3:  Loss:     1.4230 Validation Accuracy: 0.550000\n",
      "Epoch  5, CIFAR-10 Batch 4:  Loss:     1.5191 Validation Accuracy: 0.425000\n",
      "Epoch  5, CIFAR-10 Batch 5:  Loss:     1.7864 Validation Accuracy: 0.350000\n",
      "Epoch  6, CIFAR-10 Batch 1:  Loss:     2.0222 Validation Accuracy: 0.400000\n",
      "Epoch  6, CIFAR-10 Batch 2:  Loss:     1.6146 Validation Accuracy: 0.425000\n",
      "Epoch  6, CIFAR-10 Batch 3:  Loss:     1.4026 Validation Accuracy: 0.550000\n",
      "Epoch  6, CIFAR-10 Batch 4:  Loss:     1.4651 Validation Accuracy: 0.425000\n",
      "Epoch  6, CIFAR-10 Batch 5:  Loss:     1.7597 Validation Accuracy: 0.300000\n",
      "Epoch  7, CIFAR-10 Batch 1:  Loss:     1.9412 Validation Accuracy: 0.375000\n",
      "Epoch  7, CIFAR-10 Batch 2:  Loss:     1.5763 Validation Accuracy: 0.450000\n",
      "Epoch  7, CIFAR-10 Batch 3:  Loss:     1.3789 Validation Accuracy: 0.575000\n",
      "Epoch  7, CIFAR-10 Batch 4:  Loss:     1.4439 Validation Accuracy: 0.400000\n",
      "Epoch  7, CIFAR-10 Batch 5:  Loss:     1.7160 Validation Accuracy: 0.375000\n",
      "Epoch  8, CIFAR-10 Batch 1:  Loss:     1.9021 Validation Accuracy: 0.450000\n",
      "Epoch  8, CIFAR-10 Batch 2:  Loss:     1.5240 Validation Accuracy: 0.475000\n",
      "Epoch  8, CIFAR-10 Batch 3:  Loss:     1.3356 Validation Accuracy: 0.575000\n",
      "Epoch  8, CIFAR-10 Batch 4:  Loss:     1.4474 Validation Accuracy: 0.400000\n",
      "Epoch  8, CIFAR-10 Batch 5:  Loss:     1.6575 Validation Accuracy: 0.400000\n",
      "Epoch  9, CIFAR-10 Batch 1:  Loss:     1.8130 Validation Accuracy: 0.425000\n",
      "Epoch  9, CIFAR-10 Batch 2:  Loss:     1.4688 Validation Accuracy: 0.500000\n",
      "Epoch  9, CIFAR-10 Batch 3:  Loss:     1.3040 Validation Accuracy: 0.600000\n",
      "Epoch  9, CIFAR-10 Batch 4:  Loss:     1.4534 Validation Accuracy: 0.400000\n",
      "Epoch  9, CIFAR-10 Batch 5:  Loss:     1.6364 Validation Accuracy: 0.400000\n",
      "Epoch 10, CIFAR-10 Batch 1:  Loss:     1.7384 Validation Accuracy: 0.425000\n",
      "Epoch 10, CIFAR-10 Batch 2:  Loss:     1.4651 Validation Accuracy: 0.500000\n",
      "Epoch 10, CIFAR-10 Batch 3:  Loss:     1.2674 Validation Accuracy: 0.600000\n",
      "Epoch 10, CIFAR-10 Batch 4:  Loss:     1.4641 Validation Accuracy: 0.375000\n",
      "Epoch 10, CIFAR-10 Batch 5:  Loss:     1.6053 Validation Accuracy: 0.400000\n",
      "Epoch 11, CIFAR-10 Batch 1:  Loss:     1.6861 Validation Accuracy: 0.425000\n",
      "Epoch 11, CIFAR-10 Batch 2:  Loss:     1.4413 Validation Accuracy: 0.500000\n",
      "Epoch 11, CIFAR-10 Batch 3:  Loss:     1.2496 Validation Accuracy: 0.625000\n",
      "Epoch 11, CIFAR-10 Batch 4:  Loss:     1.4483 Validation Accuracy: 0.375000\n",
      "Epoch 11, CIFAR-10 Batch 5:  Loss:     1.5628 Validation Accuracy: 0.425000\n",
      "Epoch 12, CIFAR-10 Batch 1:  Loss:     1.6454 Validation Accuracy: 0.450000\n",
      "Epoch 12, CIFAR-10 Batch 2:  Loss:     1.4179 Validation Accuracy: 0.550000\n",
      "Epoch 12, CIFAR-10 Batch 3:  Loss:     1.2186 Validation Accuracy: 0.600000\n",
      "Epoch 12, CIFAR-10 Batch 4:  Loss:     1.4247 Validation Accuracy: 0.425000\n",
      "Epoch 12, CIFAR-10 Batch 5:  Loss:     1.5385 Validation Accuracy: 0.400000\n",
      "Epoch 13, CIFAR-10 Batch 1:  Loss:     1.6087 Validation Accuracy: 0.450000\n",
      "Epoch 13, CIFAR-10 Batch 2:  Loss:     1.3863 Validation Accuracy: 0.525000\n",
      "Epoch 13, CIFAR-10 Batch 3:  Loss:     1.1964 Validation Accuracy: 0.575000\n",
      "Epoch 13, CIFAR-10 Batch 4:  Loss:     1.3963 Validation Accuracy: 0.475000\n",
      "Epoch 13, CIFAR-10 Batch 5:  Loss:     1.5076 Validation Accuracy: 0.400000\n",
      "Epoch 14, CIFAR-10 Batch 1:  Loss:     1.5615 Validation Accuracy: 0.450000\n",
      "Epoch 14, CIFAR-10 Batch 2:  Loss:     1.3442 Validation Accuracy: 0.550000\n",
      "Epoch 14, CIFAR-10 Batch 3:  Loss:     1.1672 Validation Accuracy: 0.600000\n",
      "Epoch 14, CIFAR-10 Batch 4:  Loss:     1.3663 Validation Accuracy: 0.500000\n",
      "Epoch 14, CIFAR-10 Batch 5:  Loss:     1.4874 Validation Accuracy: 0.375000\n",
      "Epoch 15, CIFAR-10 Batch 1:  Loss:     1.5370 Validation Accuracy: 0.450000\n",
      "Epoch 15, CIFAR-10 Batch 2:  Loss:     1.3211 Validation Accuracy: 0.550000\n",
      "Epoch 15, CIFAR-10 Batch 3:  Loss:     1.1608 Validation Accuracy: 0.650000\n",
      "Epoch 15, CIFAR-10 Batch 4:  Loss:     1.3320 Validation Accuracy: 0.500000\n",
      "Epoch 15, CIFAR-10 Batch 5:  Loss:     1.4537 Validation Accuracy: 0.400000\n",
      "Epoch 16, CIFAR-10 Batch 1:  Loss:     1.5102 Validation Accuracy: 0.425000\n",
      "Epoch 16, CIFAR-10 Batch 2:  Loss:     1.3008 Validation Accuracy: 0.525000\n",
      "Epoch 16, CIFAR-10 Batch 3:  Loss:     1.1404 Validation Accuracy: 0.650000\n",
      "Epoch 16, CIFAR-10 Batch 4:  Loss:     1.3171 Validation Accuracy: 0.525000\n",
      "Epoch 16, CIFAR-10 Batch 5:  Loss:     1.4358 Validation Accuracy: 0.400000\n",
      "Epoch 17, CIFAR-10 Batch 1:  Loss:     1.4740 Validation Accuracy: 0.475000\n",
      "Epoch 17, CIFAR-10 Batch 2:  Loss:     1.2786 Validation Accuracy: 0.575000\n",
      "Epoch 17, CIFAR-10 Batch 3:  Loss:     1.1113 Validation Accuracy: 0.625000\n",
      "Epoch 17, CIFAR-10 Batch 4:  Loss:     1.2961 Validation Accuracy: 0.575000\n",
      "Epoch 17, CIFAR-10 Batch 5:  Loss:     1.4133 Validation Accuracy: 0.450000\n",
      "Epoch 18, CIFAR-10 Batch 1:  Loss:     1.4652 Validation Accuracy: 0.450000\n",
      "Epoch 18, CIFAR-10 Batch 2:  Loss:     1.2549 Validation Accuracy: 0.650000\n",
      "Epoch 18, CIFAR-10 Batch 3:  Loss:     1.0980 Validation Accuracy: 0.650000\n",
      "Epoch 18, CIFAR-10 Batch 4:  Loss:     1.2564 Validation Accuracy: 0.550000\n",
      "Epoch 18, CIFAR-10 Batch 5:  Loss:     1.3989 Validation Accuracy: 0.375000\n",
      "Epoch 19, CIFAR-10 Batch 1:  Loss:     1.4571 Validation Accuracy: 0.525000\n",
      "Epoch 19, CIFAR-10 Batch 2:  Loss:     1.2545 Validation Accuracy: 0.625000\n",
      "Epoch 19, CIFAR-10 Batch 3:  Loss:     1.0850 Validation Accuracy: 0.575000\n",
      "Epoch 19, CIFAR-10 Batch 4:  Loss:     1.2331 Validation Accuracy: 0.575000\n",
      "Epoch 19, CIFAR-10 Batch 5:  Loss:     1.3921 Validation Accuracy: 0.425000\n",
      "Epoch 20, CIFAR-10 Batch 1:  Loss:     1.4397 Validation Accuracy: 0.525000\n",
      "Epoch 20, CIFAR-10 Batch 2:  Loss:     1.2447 Validation Accuracy: 0.575000\n",
      "Epoch 20, CIFAR-10 Batch 3:  Loss:     1.0704 Validation Accuracy: 0.600000\n",
      "Epoch 20, CIFAR-10 Batch 4:  Loss:     1.2068 Validation Accuracy: 0.575000\n",
      "Epoch 20, CIFAR-10 Batch 5:  Loss:     1.3727 Validation Accuracy: 0.475000\n",
      "Epoch 21, CIFAR-10 Batch 1:  Loss:     1.4204 Validation Accuracy: 0.500000\n",
      "Epoch 21, CIFAR-10 Batch 2:  Loss:     1.2504 Validation Accuracy: 0.600000\n",
      "Epoch 21, CIFAR-10 Batch 3:  Loss:     1.0608 Validation Accuracy: 0.625000\n",
      "Epoch 21, CIFAR-10 Batch 4:  Loss:     1.1826 Validation Accuracy: 0.600000\n",
      "Epoch 21, CIFAR-10 Batch 5:  Loss:     1.3547 Validation Accuracy: 0.450000\n",
      "Epoch 22, CIFAR-10 Batch 1:  Loss:     1.3997 Validation Accuracy: 0.475000\n",
      "Epoch 22, CIFAR-10 Batch 2:  Loss:     1.2441 Validation Accuracy: 0.550000\n",
      "Epoch 22, CIFAR-10 Batch 3:  Loss:     1.0530 Validation Accuracy: 0.575000\n",
      "Epoch 22, CIFAR-10 Batch 4:  Loss:     1.1710 Validation Accuracy: 0.625000\n",
      "Epoch 22, CIFAR-10 Batch 5:  Loss:     1.3269 Validation Accuracy: 0.425000\n",
      "Epoch 23, CIFAR-10 Batch 1:  Loss:     1.3765 Validation Accuracy: 0.550000\n",
      "Epoch 23, CIFAR-10 Batch 2:  Loss:     1.2326 Validation Accuracy: 0.575000\n",
      "Epoch 23, CIFAR-10 Batch 3:  Loss:     1.0372 Validation Accuracy: 0.550000\n",
      "Epoch 23, CIFAR-10 Batch 4:  Loss:     1.1539 Validation Accuracy: 0.625000\n",
      "Epoch 23, CIFAR-10 Batch 5:  Loss:     1.2996 Validation Accuracy: 0.425000\n",
      "Epoch 24, CIFAR-10 Batch 1:  Loss:     1.3642 Validation Accuracy: 0.550000\n",
      "Epoch 24, CIFAR-10 Batch 2:  Loss:     1.2137 Validation Accuracy: 0.575000\n",
      "Epoch 24, CIFAR-10 Batch 3:  Loss:     1.0196 Validation Accuracy: 0.550000\n",
      "Epoch 24, CIFAR-10 Batch 4:  Loss:     1.1261 Validation Accuracy: 0.650000\n",
      "Epoch 24, CIFAR-10 Batch 5:  Loss:     1.2765 Validation Accuracy: 0.475000\n",
      "Epoch 25, CIFAR-10 Batch 1:  Loss:     1.3501 Validation Accuracy: 0.550000\n",
      "Epoch 25, CIFAR-10 Batch 2:  Loss:     1.1997 Validation Accuracy: 0.575000\n",
      "Epoch 25, CIFAR-10 Batch 3:  Loss:     1.0009 Validation Accuracy: 0.575000\n",
      "Epoch 25, CIFAR-10 Batch 4:  Loss:     1.1134 Validation Accuracy: 0.675000\n",
      "Epoch 25, CIFAR-10 Batch 5:  Loss:     1.2772 Validation Accuracy: 0.450000\n",
      "Epoch 26, CIFAR-10 Batch 1:  Loss:     1.3328 Validation Accuracy: 0.575000\n",
      "Epoch 26, CIFAR-10 Batch 2:  Loss:     1.1834 Validation Accuracy: 0.600000\n",
      "Epoch 26, CIFAR-10 Batch 3:  Loss:     0.9862 Validation Accuracy: 0.525000\n",
      "Epoch 26, CIFAR-10 Batch 4:  Loss:     1.0835 Validation Accuracy: 0.675000\n",
      "Epoch 26, CIFAR-10 Batch 5:  Loss:     1.2683 Validation Accuracy: 0.450000\n",
      "Epoch 27, CIFAR-10 Batch 1:  Loss:     1.3228 Validation Accuracy: 0.575000\n",
      "Epoch 27, CIFAR-10 Batch 2:  Loss:     1.1669 Validation Accuracy: 0.550000\n",
      "Epoch 27, CIFAR-10 Batch 3:  Loss:     0.9709 Validation Accuracy: 0.550000\n",
      "Epoch 27, CIFAR-10 Batch 4:  Loss:     1.0737 Validation Accuracy: 0.650000\n",
      "Epoch 27, CIFAR-10 Batch 5:  Loss:     1.2628 Validation Accuracy: 0.450000\n",
      "Epoch 28, CIFAR-10 Batch 1:  Loss:     1.3088 Validation Accuracy: 0.575000\n",
      "Epoch 28, CIFAR-10 Batch 2:  Loss:     1.1541 Validation Accuracy: 0.600000\n",
      "Epoch 28, CIFAR-10 Batch 3:  Loss:     0.9500 Validation Accuracy: 0.575000\n",
      "Epoch 28, CIFAR-10 Batch 4:  Loss:     1.0607 Validation Accuracy: 0.675000\n",
      "Epoch 28, CIFAR-10 Batch 5:  Loss:     1.2336 Validation Accuracy: 0.500000\n",
      "Epoch 29, CIFAR-10 Batch 1:  Loss:     1.2972 Validation Accuracy: 0.575000\n",
      "Epoch 29, CIFAR-10 Batch 2:  Loss:     1.1430 Validation Accuracy: 0.600000\n",
      "Epoch 29, CIFAR-10 Batch 3:  Loss:     0.9341 Validation Accuracy: 0.650000\n",
      "Epoch 29, CIFAR-10 Batch 4:  Loss:     1.0467 Validation Accuracy: 0.675000\n",
      "Epoch 29, CIFAR-10 Batch 5:  Loss:     1.2161 Validation Accuracy: 0.525000\n",
      "Epoch 30, CIFAR-10 Batch 1:  Loss:     1.2943 Validation Accuracy: 0.600000\n",
      "Epoch 30, CIFAR-10 Batch 2:  Loss:     1.1343 Validation Accuracy: 0.575000\n",
      "Epoch 30, CIFAR-10 Batch 3:  Loss:     0.9406 Validation Accuracy: 0.625000\n",
      "Epoch 30, CIFAR-10 Batch 4:  Loss:     1.0353 Validation Accuracy: 0.675000\n",
      "Epoch 30, CIFAR-10 Batch 5:  Loss:     1.1962 Validation Accuracy: 0.525000\n",
      "Epoch 31, CIFAR-10 Batch 1:  Loss:     1.2836 Validation Accuracy: 0.600000\n",
      "Epoch 31, CIFAR-10 Batch 2:  Loss:     1.1201 Validation Accuracy: 0.575000\n",
      "Epoch 31, CIFAR-10 Batch 3:  Loss:     0.9319 Validation Accuracy: 0.650000\n",
      "Epoch 31, CIFAR-10 Batch 4:  Loss:     1.0138 Validation Accuracy: 0.725000\n",
      "Epoch 31, CIFAR-10 Batch 5:  Loss:     1.1869 Validation Accuracy: 0.525000\n",
      "Epoch 32, CIFAR-10 Batch 1:  Loss:     1.2652 Validation Accuracy: 0.600000\n",
      "Epoch 32, CIFAR-10 Batch 2:  Loss:     1.1082 Validation Accuracy: 0.600000\n",
      "Epoch 32, CIFAR-10 Batch 3:  Loss:     0.9141 Validation Accuracy: 0.675000\n",
      "Epoch 32, CIFAR-10 Batch 4:  Loss:     0.9963 Validation Accuracy: 0.725000\n",
      "Epoch 32, CIFAR-10 Batch 5:  Loss:     1.1760 Validation Accuracy: 0.500000\n",
      "Epoch 33, CIFAR-10 Batch 1:  Loss:     1.2530 Validation Accuracy: 0.600000\n",
      "Epoch 33, CIFAR-10 Batch 2:  Loss:     1.1066 Validation Accuracy: 0.625000\n",
      "Epoch 33, CIFAR-10 Batch 3:  Loss:     0.9154 Validation Accuracy: 0.650000\n",
      "Epoch 33, CIFAR-10 Batch 4:  Loss:     0.9837 Validation Accuracy: 0.700000\n",
      "Epoch 33, CIFAR-10 Batch 5:  Loss:     1.1708 Validation Accuracy: 0.550000\n",
      "Epoch 34, CIFAR-10 Batch 1:  Loss:     1.2447 Validation Accuracy: 0.625000\n",
      "Epoch 34, CIFAR-10 Batch 2:  Loss:     1.0944 Validation Accuracy: 0.650000\n",
      "Epoch 34, CIFAR-10 Batch 3:  Loss:     0.9059 Validation Accuracy: 0.675000\n",
      "Epoch 34, CIFAR-10 Batch 4:  Loss:     0.9858 Validation Accuracy: 0.725000\n",
      "Epoch 34, CIFAR-10 Batch 5:  Loss:     1.1574 Validation Accuracy: 0.600000\n",
      "Epoch 35, CIFAR-10 Batch 1:  Loss:     1.2302 Validation Accuracy: 0.625000\n",
      "Epoch 35, CIFAR-10 Batch 2:  Loss:     1.0775 Validation Accuracy: 0.675000\n",
      "Epoch 35, CIFAR-10 Batch 3:  Loss:     0.9123 Validation Accuracy: 0.675000\n",
      "Epoch 35, CIFAR-10 Batch 4:  Loss:     0.9724 Validation Accuracy: 0.725000\n",
      "Epoch 35, CIFAR-10 Batch 5:  Loss:     1.1498 Validation Accuracy: 0.575000\n",
      "Epoch 36, CIFAR-10 Batch 1:  Loss:     1.2159 Validation Accuracy: 0.625000\n",
      "Epoch 36, CIFAR-10 Batch 2:  Loss:     1.0895 Validation Accuracy: 0.625000\n",
      "Epoch 36, CIFAR-10 Batch 3:  Loss:     0.9195 Validation Accuracy: 0.650000\n",
      "Epoch 36, CIFAR-10 Batch 4:  Loss:     0.9473 Validation Accuracy: 0.725000\n",
      "Epoch 36, CIFAR-10 Batch 5:  Loss:     1.1402 Validation Accuracy: 0.575000\n",
      "Epoch 37, CIFAR-10 Batch 1:  Loss:     1.2023 Validation Accuracy: 0.675000\n",
      "Epoch 37, CIFAR-10 Batch 2:  Loss:     1.0731 Validation Accuracy: 0.625000\n",
      "Epoch 37, CIFAR-10 Batch 3:  Loss:     0.9062 Validation Accuracy: 0.650000\n",
      "Epoch 37, CIFAR-10 Batch 4:  Loss:     0.9374 Validation Accuracy: 0.725000\n",
      "Epoch 37, CIFAR-10 Batch 5:  Loss:     1.1419 Validation Accuracy: 0.575000\n",
      "Epoch 38, CIFAR-10 Batch 1:  Loss:     1.1985 Validation Accuracy: 0.675000\n",
      "Epoch 38, CIFAR-10 Batch 2:  Loss:     1.0569 Validation Accuracy: 0.650000\n",
      "Epoch 38, CIFAR-10 Batch 3:  Loss:     0.9086 Validation Accuracy: 0.650000\n",
      "Epoch 38, CIFAR-10 Batch 4:  Loss:     0.9317 Validation Accuracy: 0.750000\n",
      "Epoch 38, CIFAR-10 Batch 5:  Loss:     1.1396 Validation Accuracy: 0.600000\n",
      "Epoch 39, CIFAR-10 Batch 1:  Loss:     1.1808 Validation Accuracy: 0.675000\n",
      "Epoch 39, CIFAR-10 Batch 2:  Loss:     1.0528 Validation Accuracy: 0.650000\n",
      "Epoch 39, CIFAR-10 Batch 3:  Loss:     0.9059 Validation Accuracy: 0.650000\n",
      "Epoch 39, CIFAR-10 Batch 4:  Loss:     0.9202 Validation Accuracy: 0.750000\n",
      "Epoch 39, CIFAR-10 Batch 5:  Loss:     1.1229 Validation Accuracy: 0.575000\n",
      "Epoch 40, CIFAR-10 Batch 1:  Loss:     1.1783 Validation Accuracy: 0.675000\n",
      "Epoch 40, CIFAR-10 Batch 2:  Loss:     1.0454 Validation Accuracy: 0.650000\n",
      "Epoch 40, CIFAR-10 Batch 3:  Loss:     0.8978 Validation Accuracy: 0.675000\n",
      "Epoch 40, CIFAR-10 Batch 4:  Loss:     0.9120 Validation Accuracy: 0.775000\n",
      "Epoch 40, CIFAR-10 Batch 5:  Loss:     1.1134 Validation Accuracy: 0.600000\n",
      "Epoch 41, CIFAR-10 Batch 1:  Loss:     1.1688 Validation Accuracy: 0.675000\n",
      "Epoch 41, CIFAR-10 Batch 2:  Loss:     1.0491 Validation Accuracy: 0.650000\n",
      "Epoch 41, CIFAR-10 Batch 3:  Loss:     0.8930 Validation Accuracy: 0.675000\n",
      "Epoch 41, CIFAR-10 Batch 4:  Loss:     0.8996 Validation Accuracy: 0.800000\n",
      "Epoch 41, CIFAR-10 Batch 5:  Loss:     1.1070 Validation Accuracy: 0.625000\n",
      "Epoch 42, CIFAR-10 Batch 1:  Loss:     1.1654 Validation Accuracy: 0.700000\n",
      "Epoch 42, CIFAR-10 Batch 2:  Loss:     1.0418 Validation Accuracy: 0.675000\n",
      "Epoch 42, CIFAR-10 Batch 3:  Loss:     0.8895 Validation Accuracy: 0.675000\n",
      "Epoch 42, CIFAR-10 Batch 4:  Loss:     0.8900 Validation Accuracy: 0.800000\n",
      "Epoch 42, CIFAR-10 Batch 5:  Loss:     1.1065 Validation Accuracy: 0.600000\n",
      "Epoch 43, CIFAR-10 Batch 1:  Loss:     1.1486 Validation Accuracy: 0.675000\n",
      "Epoch 43, CIFAR-10 Batch 2:  Loss:     1.0378 Validation Accuracy: 0.650000\n",
      "Epoch 43, CIFAR-10 Batch 3:  Loss:     0.8788 Validation Accuracy: 0.675000\n",
      "Epoch 43, CIFAR-10 Batch 4:  Loss:     0.8858 Validation Accuracy: 0.750000\n",
      "Epoch 43, CIFAR-10 Batch 5:  Loss:     1.0970 Validation Accuracy: 0.600000\n",
      "Epoch 44, CIFAR-10 Batch 1:  Loss:     1.1535 Validation Accuracy: 0.675000\n",
      "Epoch 44, CIFAR-10 Batch 2:  Loss:     1.0258 Validation Accuracy: 0.675000\n",
      "Epoch 44, CIFAR-10 Batch 3:  Loss:     0.8688 Validation Accuracy: 0.725000\n",
      "Epoch 44, CIFAR-10 Batch 4:  Loss:     0.8834 Validation Accuracy: 0.750000\n",
      "Epoch 44, CIFAR-10 Batch 5:  Loss:     1.0827 Validation Accuracy: 0.600000\n",
      "Epoch 45, CIFAR-10 Batch 1:  Loss:     1.1426 Validation Accuracy: 0.700000\n",
      "Epoch 45, CIFAR-10 Batch 2:  Loss:     1.0205 Validation Accuracy: 0.675000\n",
      "Epoch 45, CIFAR-10 Batch 3:  Loss:     0.8679 Validation Accuracy: 0.700000\n",
      "Epoch 45, CIFAR-10 Batch 4:  Loss:     0.8755 Validation Accuracy: 0.750000\n",
      "Epoch 45, CIFAR-10 Batch 5:  Loss:     1.0877 Validation Accuracy: 0.625000\n",
      "Epoch 46, CIFAR-10 Batch 1:  Loss:     1.1379 Validation Accuracy: 0.700000\n",
      "Epoch 46, CIFAR-10 Batch 2:  Loss:     1.0154 Validation Accuracy: 0.675000\n",
      "Epoch 46, CIFAR-10 Batch 3:  Loss:     0.8662 Validation Accuracy: 0.700000\n",
      "Epoch 46, CIFAR-10 Batch 4:  Loss:     0.8672 Validation Accuracy: 0.750000\n",
      "Epoch 46, CIFAR-10 Batch 5:  Loss:     1.0867 Validation Accuracy: 0.575000\n",
      "Epoch 47, CIFAR-10 Batch 1:  Loss:     1.1456 Validation Accuracy: 0.700000\n",
      "Epoch 47, CIFAR-10 Batch 2:  Loss:     1.0048 Validation Accuracy: 0.675000\n",
      "Epoch 47, CIFAR-10 Batch 3:  Loss:     0.8652 Validation Accuracy: 0.675000\n",
      "Epoch 47, CIFAR-10 Batch 4:  Loss:     0.8666 Validation Accuracy: 0.750000\n",
      "Epoch 47, CIFAR-10 Batch 5:  Loss:     1.0794 Validation Accuracy: 0.575000\n",
      "Epoch 48, CIFAR-10 Batch 1:  Loss:     1.1321 Validation Accuracy: 0.700000\n",
      "Epoch 48, CIFAR-10 Batch 2:  Loss:     1.0003 Validation Accuracy: 0.675000\n",
      "Epoch 48, CIFAR-10 Batch 3:  Loss:     0.8496 Validation Accuracy: 0.725000\n",
      "Epoch 48, CIFAR-10 Batch 4:  Loss:     0.8615 Validation Accuracy: 0.750000\n",
      "Epoch 48, CIFAR-10 Batch 5:  Loss:     1.0748 Validation Accuracy: 0.575000\n",
      "Epoch 49, CIFAR-10 Batch 1:  Loss:     1.1246 Validation Accuracy: 0.700000\n",
      "Epoch 49, CIFAR-10 Batch 2:  Loss:     0.9958 Validation Accuracy: 0.675000\n",
      "Epoch 49, CIFAR-10 Batch 3:  Loss:     0.8405 Validation Accuracy: 0.700000\n",
      "Epoch 49, CIFAR-10 Batch 4:  Loss:     0.8654 Validation Accuracy: 0.750000\n",
      "Epoch 49, CIFAR-10 Batch 5:  Loss:     1.0625 Validation Accuracy: 0.600000\n",
      "Epoch 50, CIFAR-10 Batch 1:  Loss:     1.1214 Validation Accuracy: 0.700000\n",
      "Epoch 50, CIFAR-10 Batch 2:  Loss:     0.9836 Validation Accuracy: 0.700000\n",
      "Epoch 50, CIFAR-10 Batch 3:  Loss:     0.8479 Validation Accuracy: 0.675000\n",
      "Epoch 50, CIFAR-10 Batch 4:  Loss:     0.8573 Validation Accuracy: 0.725000\n",
      "Epoch 50, CIFAR-10 Batch 5:  Loss:     1.0537 Validation Accuracy: 0.575000\n",
      "Epoch 51, CIFAR-10 Batch 1:  Loss:     1.1231 Validation Accuracy: 0.700000\n",
      "Epoch 51, CIFAR-10 Batch 2:  Loss:     0.9788 Validation Accuracy: 0.700000\n",
      "Epoch 51, CIFAR-10 Batch 3:  Loss:     0.8485 Validation Accuracy: 0.700000\n",
      "Epoch 51, CIFAR-10 Batch 4:  Loss:     0.8509 Validation Accuracy: 0.725000\n",
      "Epoch 51, CIFAR-10 Batch 5:  Loss:     1.0510 Validation Accuracy: 0.550000\n",
      "Epoch 52, CIFAR-10 Batch 1:  Loss:     1.1140 Validation Accuracy: 0.700000\n",
      "Epoch 52, CIFAR-10 Batch 2:  Loss:     0.9787 Validation Accuracy: 0.700000\n",
      "Epoch 52, CIFAR-10 Batch 3:  Loss:     0.8347 Validation Accuracy: 0.700000\n",
      "Epoch 52, CIFAR-10 Batch 4:  Loss:     0.8447 Validation Accuracy: 0.750000\n",
      "Epoch 52, CIFAR-10 Batch 5:  Loss:     1.0482 Validation Accuracy: 0.625000\n",
      "Epoch 53, CIFAR-10 Batch 1:  Loss:     1.0841 Validation Accuracy: 0.700000\n",
      "Epoch 53, CIFAR-10 Batch 2:  Loss:     0.9802 Validation Accuracy: 0.700000\n",
      "Epoch 53, CIFAR-10 Batch 3:  Loss:     0.8328 Validation Accuracy: 0.700000\n",
      "Epoch 53, CIFAR-10 Batch 4:  Loss:     0.8431 Validation Accuracy: 0.700000\n",
      "Epoch 53, CIFAR-10 Batch 5:  Loss:     1.0512 Validation Accuracy: 0.600000\n",
      "Epoch 54, CIFAR-10 Batch 1:  Loss:     1.0770 Validation Accuracy: 0.700000\n",
      "Epoch 54, CIFAR-10 Batch 2:  Loss:     0.9655 Validation Accuracy: 0.675000\n",
      "Epoch 54, CIFAR-10 Batch 3:  Loss:     0.8238 Validation Accuracy: 0.700000\n",
      "Epoch 54, CIFAR-10 Batch 4:  Loss:     0.8401 Validation Accuracy: 0.700000\n",
      "Epoch 54, CIFAR-10 Batch 5:  Loss:     1.0385 Validation Accuracy: 0.600000\n",
      "Epoch 55, CIFAR-10 Batch 1:  Loss:     1.0685 Validation Accuracy: 0.700000\n",
      "Epoch 55, CIFAR-10 Batch 2:  Loss:     0.9510 Validation Accuracy: 0.675000\n",
      "Epoch 55, CIFAR-10 Batch 3:  Loss:     0.8032 Validation Accuracy: 0.700000\n",
      "Epoch 55, CIFAR-10 Batch 4:  Loss:     0.8304 Validation Accuracy: 0.750000\n",
      "Epoch 55, CIFAR-10 Batch 5:  Loss:     1.0351 Validation Accuracy: 0.625000\n",
      "Epoch 56, CIFAR-10 Batch 1:  Loss:     1.0608 Validation Accuracy: 0.700000\n",
      "Epoch 56, CIFAR-10 Batch 2:  Loss:     0.9560 Validation Accuracy: 0.650000\n",
      "Epoch 56, CIFAR-10 Batch 3:  Loss:     0.7975 Validation Accuracy: 0.700000\n",
      "Epoch 56, CIFAR-10 Batch 4:  Loss:     0.8345 Validation Accuracy: 0.725000\n",
      "Epoch 56, CIFAR-10 Batch 5:  Loss:     1.0283 Validation Accuracy: 0.650000\n",
      "Epoch 57, CIFAR-10 Batch 1:  Loss:     1.0589 Validation Accuracy: 0.700000\n",
      "Epoch 57, CIFAR-10 Batch 2:  Loss:     0.9355 Validation Accuracy: 0.650000\n",
      "Epoch 57, CIFAR-10 Batch 3:  Loss:     0.7978 Validation Accuracy: 0.675000\n",
      "Epoch 57, CIFAR-10 Batch 4:  Loss:     0.8366 Validation Accuracy: 0.750000\n",
      "Epoch 57, CIFAR-10 Batch 5:  Loss:     1.0320 Validation Accuracy: 0.675000\n",
      "Epoch 58, CIFAR-10 Batch 1:  Loss:     1.0502 Validation Accuracy: 0.700000\n",
      "Epoch 58, CIFAR-10 Batch 2:  Loss:     0.9434 Validation Accuracy: 0.650000\n",
      "Epoch 58, CIFAR-10 Batch 3:  Loss:     0.7940 Validation Accuracy: 0.725000\n",
      "Epoch 58, CIFAR-10 Batch 4:  Loss:     0.8306 Validation Accuracy: 0.725000\n",
      "Epoch 58, CIFAR-10 Batch 5:  Loss:     1.0264 Validation Accuracy: 0.650000\n",
      "Epoch 59, CIFAR-10 Batch 1:  Loss:     1.0573 Validation Accuracy: 0.700000\n",
      "Epoch 59, CIFAR-10 Batch 2:  Loss:     0.9315 Validation Accuracy: 0.650000\n",
      "Epoch 59, CIFAR-10 Batch 3:  Loss:     0.7908 Validation Accuracy: 0.725000\n",
      "Epoch 59, CIFAR-10 Batch 4:  Loss:     0.8294 Validation Accuracy: 0.750000\n",
      "Epoch 59, CIFAR-10 Batch 5:  Loss:     1.0264 Validation Accuracy: 0.675000\n",
      "Epoch 60, CIFAR-10 Batch 1:  Loss:     1.0425 Validation Accuracy: 0.675000\n",
      "Epoch 60, CIFAR-10 Batch 2:  Loss:     0.9212 Validation Accuracy: 0.700000\n",
      "Epoch 60, CIFAR-10 Batch 3:  Loss:     0.7830 Validation Accuracy: 0.725000\n",
      "Epoch 60, CIFAR-10 Batch 4:  Loss:     0.8177 Validation Accuracy: 0.750000\n",
      "Epoch 60, CIFAR-10 Batch 5:  Loss:     1.0269 Validation Accuracy: 0.675000\n",
      "Epoch 61, CIFAR-10 Batch 1:  Loss:     1.0362 Validation Accuracy: 0.700000\n",
      "Epoch 61, CIFAR-10 Batch 2:  Loss:     0.9196 Validation Accuracy: 0.725000\n",
      "Epoch 61, CIFAR-10 Batch 3:  Loss:     0.7785 Validation Accuracy: 0.725000\n",
      "Epoch 61, CIFAR-10 Batch 4:  Loss:     0.8035 Validation Accuracy: 0.750000\n",
      "Epoch 61, CIFAR-10 Batch 5:  Loss:     1.0168 Validation Accuracy: 0.675000\n",
      "Epoch 62, CIFAR-10 Batch 1:  Loss:     1.0352 Validation Accuracy: 0.675000\n",
      "Epoch 62, CIFAR-10 Batch 2:  Loss:     0.8977 Validation Accuracy: 0.700000\n",
      "Epoch 62, CIFAR-10 Batch 3:  Loss:     0.7786 Validation Accuracy: 0.725000\n",
      "Epoch 62, CIFAR-10 Batch 4:  Loss:     0.8121 Validation Accuracy: 0.725000\n",
      "Epoch 62, CIFAR-10 Batch 5:  Loss:     1.0197 Validation Accuracy: 0.650000\n",
      "Epoch 63, CIFAR-10 Batch 1:  Loss:     1.0372 Validation Accuracy: 0.675000\n",
      "Epoch 63, CIFAR-10 Batch 2:  Loss:     0.8887 Validation Accuracy: 0.700000\n",
      "Epoch 63, CIFAR-10 Batch 3:  Loss:     0.7787 Validation Accuracy: 0.725000\n",
      "Epoch 63, CIFAR-10 Batch 4:  Loss:     0.8031 Validation Accuracy: 0.725000\n",
      "Epoch 63, CIFAR-10 Batch 5:  Loss:     1.0129 Validation Accuracy: 0.675000\n",
      "Epoch 64, CIFAR-10 Batch 1:  Loss:     1.0368 Validation Accuracy: 0.675000\n",
      "Epoch 64, CIFAR-10 Batch 2:  Loss:     0.8916 Validation Accuracy: 0.675000\n",
      "Epoch 64, CIFAR-10 Batch 3:  Loss:     0.7739 Validation Accuracy: 0.725000\n",
      "Epoch 64, CIFAR-10 Batch 4:  Loss:     0.8013 Validation Accuracy: 0.725000\n",
      "Epoch 64, CIFAR-10 Batch 5:  Loss:     1.0070 Validation Accuracy: 0.625000\n",
      "Epoch 65, CIFAR-10 Batch 1:  Loss:     1.0169 Validation Accuracy: 0.700000\n",
      "Epoch 65, CIFAR-10 Batch 2:  Loss:     0.8871 Validation Accuracy: 0.675000\n",
      "Epoch 65, CIFAR-10 Batch 3:  Loss:     0.7776 Validation Accuracy: 0.700000\n",
      "Epoch 65, CIFAR-10 Batch 4:  Loss:     0.8010 Validation Accuracy: 0.700000\n",
      "Epoch 65, CIFAR-10 Batch 5:  Loss:     1.0035 Validation Accuracy: 0.650000\n",
      "Epoch 66, CIFAR-10 Batch 1:  Loss:     1.0168 Validation Accuracy: 0.700000\n",
      "Epoch 66, CIFAR-10 Batch 2:  Loss:     0.8936 Validation Accuracy: 0.700000\n",
      "Epoch 66, CIFAR-10 Batch 3:  Loss:     0.7615 Validation Accuracy: 0.725000\n",
      "Epoch 66, CIFAR-10 Batch 4:  Loss:     0.7906 Validation Accuracy: 0.700000\n",
      "Epoch 66, CIFAR-10 Batch 5:  Loss:     0.9986 Validation Accuracy: 0.675000\n",
      "Epoch 67, CIFAR-10 Batch 1:  Loss:     0.9963 Validation Accuracy: 0.700000\n",
      "Epoch 67, CIFAR-10 Batch 2:  Loss:     0.8901 Validation Accuracy: 0.725000\n",
      "Epoch 67, CIFAR-10 Batch 3:  Loss:     0.7660 Validation Accuracy: 0.750000\n",
      "Epoch 67, CIFAR-10 Batch 4:  Loss:     0.7859 Validation Accuracy: 0.725000\n",
      "Epoch 67, CIFAR-10 Batch 5:  Loss:     0.9959 Validation Accuracy: 0.650000\n",
      "Epoch 68, CIFAR-10 Batch 1:  Loss:     0.9951 Validation Accuracy: 0.700000\n",
      "Epoch 68, CIFAR-10 Batch 2:  Loss:     0.8861 Validation Accuracy: 0.725000\n",
      "Epoch 68, CIFAR-10 Batch 3:  Loss:     0.7567 Validation Accuracy: 0.725000\n",
      "Epoch 68, CIFAR-10 Batch 4:  Loss:     0.7956 Validation Accuracy: 0.700000\n",
      "Epoch 68, CIFAR-10 Batch 5:  Loss:     0.9929 Validation Accuracy: 0.650000\n",
      "Epoch 69, CIFAR-10 Batch 1:  Loss:     0.9811 Validation Accuracy: 0.725000\n",
      "Epoch 69, CIFAR-10 Batch 2:  Loss:     0.8684 Validation Accuracy: 0.725000\n",
      "Epoch 69, CIFAR-10 Batch 3:  Loss:     0.7383 Validation Accuracy: 0.725000\n",
      "Epoch 69, CIFAR-10 Batch 4:  Loss:     0.7896 Validation Accuracy: 0.700000\n",
      "Epoch 69, CIFAR-10 Batch 5:  Loss:     0.9876 Validation Accuracy: 0.675000\n",
      "Epoch 70, CIFAR-10 Batch 1:  Loss:     0.9724 Validation Accuracy: 0.700000\n",
      "Epoch 70, CIFAR-10 Batch 2:  Loss:     0.8742 Validation Accuracy: 0.700000\n",
      "Epoch 70, CIFAR-10 Batch 3:  Loss:     0.7303 Validation Accuracy: 0.750000\n",
      "Epoch 70, CIFAR-10 Batch 4:  Loss:     0.7911 Validation Accuracy: 0.725000\n",
      "Epoch 70, CIFAR-10 Batch 5:  Loss:     0.9807 Validation Accuracy: 0.650000\n",
      "Epoch 71, CIFAR-10 Batch 1:  Loss:     0.9792 Validation Accuracy: 0.725000\n",
      "Epoch 71, CIFAR-10 Batch 2:  Loss:     0.8706 Validation Accuracy: 0.700000\n",
      "Epoch 71, CIFAR-10 Batch 3:  Loss:     0.7410 Validation Accuracy: 0.750000\n",
      "Epoch 71, CIFAR-10 Batch 4:  Loss:     0.8002 Validation Accuracy: 0.725000\n",
      "Epoch 71, CIFAR-10 Batch 5:  Loss:     0.9808 Validation Accuracy: 0.650000\n",
      "Epoch 72, CIFAR-10 Batch 1:  Loss:     0.9800 Validation Accuracy: 0.700000\n",
      "Epoch 72, CIFAR-10 Batch 2:  Loss:     0.8665 Validation Accuracy: 0.650000\n",
      "Epoch 72, CIFAR-10 Batch 3:  Loss:     0.7326 Validation Accuracy: 0.775000\n",
      "Epoch 72, CIFAR-10 Batch 4:  Loss:     0.7933 Validation Accuracy: 0.725000\n",
      "Epoch 72, CIFAR-10 Batch 5:  Loss:     0.9761 Validation Accuracy: 0.625000\n",
      "Epoch 73, CIFAR-10 Batch 1:  Loss:     0.9744 Validation Accuracy: 0.700000\n",
      "Epoch 73, CIFAR-10 Batch 2:  Loss:     0.8619 Validation Accuracy: 0.700000\n",
      "Epoch 73, CIFAR-10 Batch 3:  Loss:     0.7413 Validation Accuracy: 0.725000\n",
      "Epoch 73, CIFAR-10 Batch 4:  Loss:     0.7948 Validation Accuracy: 0.700000\n",
      "Epoch 73, CIFAR-10 Batch 5:  Loss:     0.9691 Validation Accuracy: 0.700000\n",
      "Epoch 74, CIFAR-10 Batch 1:  Loss:     0.9704 Validation Accuracy: 0.700000\n",
      "Epoch 74, CIFAR-10 Batch 2:  Loss:     0.8598 Validation Accuracy: 0.750000\n",
      "Epoch 74, CIFAR-10 Batch 3:  Loss:     0.7390 Validation Accuracy: 0.725000\n",
      "Epoch 74, CIFAR-10 Batch 4:  Loss:     0.7953 Validation Accuracy: 0.675000\n",
      "Epoch 74, CIFAR-10 Batch 5:  Loss:     0.9557 Validation Accuracy: 0.700000\n",
      "Epoch 75, CIFAR-10 Batch 1:  Loss:     0.9638 Validation Accuracy: 0.700000\n",
      "Epoch 75, CIFAR-10 Batch 2:  Loss:     0.8575 Validation Accuracy: 0.725000\n",
      "Epoch 75, CIFAR-10 Batch 3:  Loss:     0.7234 Validation Accuracy: 0.750000\n",
      "Epoch 75, CIFAR-10 Batch 4:  Loss:     0.7819 Validation Accuracy: 0.700000\n",
      "Epoch 75, CIFAR-10 Batch 5:  Loss:     0.9536 Validation Accuracy: 0.675000\n",
      "Epoch 76, CIFAR-10 Batch 1:  Loss:     0.9667 Validation Accuracy: 0.700000\n",
      "Epoch 76, CIFAR-10 Batch 2:  Loss:     0.8582 Validation Accuracy: 0.725000\n",
      "Epoch 76, CIFAR-10 Batch 3:  Loss:     0.7298 Validation Accuracy: 0.700000\n",
      "Epoch 76, CIFAR-10 Batch 4:  Loss:     0.7826 Validation Accuracy: 0.675000\n",
      "Epoch 76, CIFAR-10 Batch 5:  Loss:     0.9423 Validation Accuracy: 0.700000\n",
      "Epoch 77, CIFAR-10 Batch 1:  Loss:     0.9672 Validation Accuracy: 0.700000\n",
      "Epoch 77, CIFAR-10 Batch 2:  Loss:     0.8365 Validation Accuracy: 0.725000\n",
      "Epoch 77, CIFAR-10 Batch 3:  Loss:     0.7110 Validation Accuracy: 0.725000\n",
      "Epoch 77, CIFAR-10 Batch 4:  Loss:     0.7770 Validation Accuracy: 0.650000\n",
      "Epoch 77, CIFAR-10 Batch 5:  Loss:     0.9378 Validation Accuracy: 0.650000\n",
      "Epoch 78, CIFAR-10 Batch 1:  Loss:     0.9725 Validation Accuracy: 0.700000\n",
      "Epoch 78, CIFAR-10 Batch 2:  Loss:     0.8478 Validation Accuracy: 0.725000\n",
      "Epoch 78, CIFAR-10 Batch 3:  Loss:     0.7061 Validation Accuracy: 0.700000\n",
      "Epoch 78, CIFAR-10 Batch 4:  Loss:     0.7842 Validation Accuracy: 0.675000\n",
      "Epoch 78, CIFAR-10 Batch 5:  Loss:     0.9284 Validation Accuracy: 0.675000\n",
      "Epoch 79, CIFAR-10 Batch 1:  Loss:     0.9742 Validation Accuracy: 0.700000\n",
      "Epoch 79, CIFAR-10 Batch 2:  Loss:     0.8435 Validation Accuracy: 0.725000\n",
      "Epoch 79, CIFAR-10 Batch 3:  Loss:     0.7044 Validation Accuracy: 0.725000\n",
      "Epoch 79, CIFAR-10 Batch 4:  Loss:     0.7724 Validation Accuracy: 0.675000\n",
      "Epoch 79, CIFAR-10 Batch 5:  Loss:     0.9388 Validation Accuracy: 0.675000\n",
      "Epoch 80, CIFAR-10 Batch 1:  Loss:     0.9650 Validation Accuracy: 0.725000\n",
      "Epoch 80, CIFAR-10 Batch 2:  Loss:     0.8463 Validation Accuracy: 0.725000\n",
      "Epoch 80, CIFAR-10 Batch 3:  Loss:     0.6985 Validation Accuracy: 0.725000\n",
      "Epoch 80, CIFAR-10 Batch 4:  Loss:     0.7701 Validation Accuracy: 0.675000\n",
      "Epoch 80, CIFAR-10 Batch 5:  Loss:     0.9336 Validation Accuracy: 0.650000\n"
     ]
    }
   ],
   "source": [
    "\"\"\"\n",
    "DON'T MODIFY ANYTHING IN THIS CELL\n",
    "\"\"\"\n",
    "save_model_path = './image_classification'\n",
    "\n",
    "print('Training...')\n",
    "with tf.Session() as sess:\n",
    "    # Initializing the variables\n",
    "    sess.run(tf.global_variables_initializer())\n",
    "    \n",
    "    # Training cycle\n",
    "    for epoch in range(epochs):\n",
    "        # Loop over all batches\n",
    "        n_batches = 5\n",
    "        for batch_i in range(1, n_batches + 1):\n",
    "            for batch_features, batch_labels in helper.load_preprocess_training_batch(batch_i, batch_size):\n",
    "                train_neural_network(sess, optimizer, keep_probability, batch_features, batch_labels)\n",
    "            print('Epoch {:>2}, CIFAR-10 Batch {}:  '.format(epoch + 1, batch_i), end='')\n",
    "            print_stats(sess, batch_features, batch_labels, cost, accuracy)\n",
    "            \n",
    "    # Save Model\n",
    "    saver = tf.train.Saver()\n",
    "    save_path = saver.save(sess, save_model_path)"
   ]
  },
  {
   "cell_type": "markdown",
   "metadata": {
    "deletable": true,
    "editable": true
   },
   "source": [
    "# Checkpoint\n",
    "The model has been saved to disk.\n",
    "## Test Model\n",
    "Test your model against the test dataset.  This will be your final accuracy. You should have an accuracy greater than 50%. If you don't, keep tweaking the model architecture and parameters."
   ]
  },
  {
   "cell_type": "code",
   "execution_count": 31,
   "metadata": {
    "collapsed": false,
    "deletable": true,
    "editable": true
   },
   "outputs": [
    {
     "name": "stdout",
     "output_type": "stream",
     "text": [
      "Testing Accuracy: 0.5354034810126582\n",
      "\n"
     ]
    },
    {
     "data": {
      "image/png": "[encoded data removed]",
      "text/plain": [
       "<matplotlib.figure.Figure at 0x7ff09a2bce10>"
      ]
     },
     "metadata": {
      "image/png": {
       "height": 319,
       "width": 355
      }
     },
     "output_type": "display_data"
    }
   ],
   "source": [
    "\"\"\"\n",
    "DON'T MODIFY ANYTHING IN THIS CELL\n",
    "\"\"\"\n",
    "%matplotlib inline\n",
    "%config InlineBackend.figure_format = 'retina'\n",
    "\n",
    "import tensorflow as tf\n",
    "import pickle\n",
    "import helper\n",
    "import random\n",
    "\n",
    "# Set batch size if not already set\n",
    "try:\n",
    "    if batch_size:\n",
    "        pass\n",
    "except NameError:\n",
    "    batch_size = 64\n",
    "\n",
    "save_model_path = './image_classification'\n",
    "n_samples = 4\n",
    "top_n_predictions = 3\n",
    "\n",
    "def test_model():\n",
    "    \"\"\"\n",
    "    Test the saved model against the test dataset\n",
    "    \"\"\"\n",
    "\n",
    "    test_features, test_labels = pickle.load(open('preprocess_training.p', mode='rb'))\n",
    "    loaded_graph = tf.Graph()\n",
    "\n",
    "    with tf.Session(graph=loaded_graph) as sess:\n",
    "        # Load model\n",
    "        loader = tf.train.import_meta_graph(save_model_path + '.meta')\n",
    "        loader.restore(sess, save_model_path)\n",
    "\n",
    "        # Get Tensors from loaded model\n",
    "        loaded_x = loaded_graph.get_tensor_by_name('x:0')\n",
    "        loaded_y = loaded_graph.get_tensor_by_name('y:0')\n",
    "        loaded_keep_prob = loaded_graph.get_tensor_by_name('keep_prob:0')\n",
    "        loaded_logits = loaded_graph.get_tensor_by_name('logits:0')\n",
    "        loaded_acc = loaded_graph.get_tensor_by_name('accuracy:0')\n",
    "        \n",
    "        # Get accuracy in batches for memory limitations\n",
    "        test_batch_acc_total = 0\n",
    "        test_batch_count = 0\n",
    "        \n",
    "        for train_feature_batch, train_label_batch in helper.batch_features_labels(test_features, test_labels, batch_size):\n",
    "            test_batch_acc_total += sess.run(\n",
    "                loaded_acc,\n",
    "                feed_dict={loaded_x: train_feature_batch, loaded_y: train_label_batch, loaded_keep_prob: 1.0})\n",
    "            test_batch_count += 1\n",
    "\n",
    "        print('Testing Accuracy: {}\\n'.format(test_batch_acc_total/test_batch_count))\n",
    "\n",
    "        # Print Random Samples\n",
    "        random_test_features, random_test_labels = tuple(zip(*random.sample(list(zip(test_features, test_labels)), n_samples)))\n",
    "        random_test_predictions = sess.run(\n",
    "            tf.nn.top_k(tf.nn.softmax(loaded_logits), top_n_predictions),\n",
    "            feed_dict={loaded_x: random_test_features, loaded_y: random_test_labels, loaded_keep_prob: 1.0})\n",
    "        helper.display_image_predictions(random_test_features, random_test_labels, random_test_predictions)\n",
    "\n",
    "\n",
    "test_model()"
   ]
  },
  {
   "cell_type": "markdown",
   "metadata": {
    "deletable": true,
    "editable": true
   },
   "source": [
    "## Why 50-70% Accuracy?\n",
    "You might be wondering why you can't get an accuracy any higher. First things first, 50% isn't bad for a simple CNN.  Pure guessing would get you 10% accuracy. However, you might notice people are getting scores [well above 70%](http://rodrigob.github.io/are_we_there_yet/build/classification_datasets_results.html#43494641522d3130).  That's because we haven't taught you all there is to know about neural networks. We still need to cover a few more techniques.\n",
    "## Submitting This Project\n",
    "When submitting this project, make sure to run all the cells before saving the notebook.  Save the notebook file as \"dlnd_image_classification.ipynb\" and save it as a HTML file under \"File\" -> \"Download as\".  Include the \"helper.py\" and \"problem_unittests.py\" files in your submission."
   ]
  }
 ],
 "metadata": {
  "kernelspec": {
   "display_name": "Python 3",
   "language": "python",
   "name": "python3"
  },
  "language_info": {
   "codemirror_mode": {
    "name": "ipython",
    "version": 3
   },
   "file_extension": ".py",
   "mimetype": "text/x-python",
   "name": "python",
   "nbconvert_exporter": "python",
   "pygments_lexer": "ipython3",
   "version": "3.5.2"
  },
  "widgets": {
   "state": {},
   "version": "1.1.2"
  }
 },
 "nbformat": 4,
 "nbformat_minor": 0
}
