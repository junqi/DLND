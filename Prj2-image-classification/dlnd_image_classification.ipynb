{
 "cells": [
  {
   "cell_type": "markdown",
   "metadata": {
    "collapsed": true,
    "deletable": true,
    "editable": true
   },
   "source": [
    "# Image Classification\n",
    "In this project, you'll classify images from the [CIFAR-10 dataset](https://www.cs.toronto.edu/~kriz/cifar.html).  The dataset consists of airplanes, dogs, cats, and other objects. You'll preprocess the images, then train a convolutional neural network on all the samples. The images need to be normalized and the labels need to be one-hot encoded.  You'll get to apply what you learned and build a convolutional, max pooling, dropout, and fully connected layers.  At the end, you'll get to see your neural network's predictions on the sample images.\n",
    "## Get the Data\n",
    "Run the following cell to download the [CIFAR-10 dataset for python](https://www.cs.toronto.edu/~kriz/cifar-10-python.tar.gz)."
   ]
  },
  {
   "cell_type": "code",
   "execution_count": 1,
   "metadata": {
    "collapsed": false,
    "deletable": true,
    "editable": true
   },
   "outputs": [
    {
     "name": "stderr",
     "output_type": "stream",
     "text": [
      "CIFAR-10 Dataset: 171MB [03:01, 941KB/s]                                "
     ]
    },
    {
     "name": "stdout",
     "output_type": "stream",
     "text": [
      "All files found!\n"
     ]
    },
    {
     "name": "stderr",
     "output_type": "stream",
     "text": [
      "\n"
     ]
    }
   ],
   "source": [
    "\"\"\"\n",
    "DON'T MODIFY ANYTHING IN THIS CELL THAT IS BELOW THIS LINE\n",
    "\"\"\"\n",
    "from urllib.request import urlretrieve\n",
    "from os.path import isfile, isdir\n",
    "from tqdm import tqdm\n",
    "import problem_unittests as tests\n",
    "import tarfile\n",
    "\n",
    "cifar10_dataset_folder_path = 'cifar-10-batches-py'\n",
    "\n",
    "class DLProgress(tqdm):\n",
    "    last_block = 0\n",
    "\n",
    "    def hook(self, block_num=1, block_size=1, total_size=None):\n",
    "        self.total = total_size\n",
    "        self.update((block_num - self.last_block) * block_size)\n",
    "        self.last_block = block_num\n",
    "\n",
    "if not isfile('cifar-10-python.tar.gz'):\n",
    "    with DLProgress(unit='B', unit_scale=True, miniters=1, desc='CIFAR-10 Dataset') as pbar:\n",
    "        urlretrieve(\n",
    "            'https://www.cs.toronto.edu/~kriz/cifar-10-python.tar.gz',\n",
    "            'cifar-10-python.tar.gz',\n",
    "            pbar.hook)\n",
    "\n",
    "if not isdir(cifar10_dataset_folder_path):\n",
    "    with tarfile.open('cifar-10-python.tar.gz') as tar:\n",
    "        tar.extractall()\n",
    "        tar.close()\n",
    "\n",
    "\n",
    "tests.test_folder_path(cifar10_dataset_folder_path)"
   ]
  },
  {
   "cell_type": "markdown",
   "metadata": {
    "deletable": true,
    "editable": true
   },
   "source": [
    "## Explore the Data\n",
    "The dataset is broken into batches to prevent your machine from running out of memory.  The CIFAR-10 dataset consists of 5 batches, named `data_batch_1`, `data_batch_2`, etc.. Each batch contains the labels and images that are one of the following:\n",
    "* airplane\n",
    "* automobile\n",
    "* bird\n",
    "* cat\n",
    "* deer\n",
    "* dog\n",
    "* frog\n",
    "* horse\n",
    "* ship\n",
    "* truck\n",
    "\n",
    "Understanding a dataset is part of making predictions on the data.  Play around with the code cell below by changing the `batch_id` and `sample_id`. The `batch_id` is the id for a batch (1-5). The `sample_id` is the id for a image and label pair in the batch.\n",
    "\n",
    "Ask yourself \"What are all possible labels?\", \"What is the range of values for the image data?\", \"Are the labels in order or random?\".  Answers to questions like these will help you preprocess the data and end up with better predictions."
   ]
  },
  {
   "cell_type": "code",
   "execution_count": 2,
   "metadata": {
    "collapsed": false,
    "deletable": true,
    "editable": true
   },
   "outputs": [
    {
     "name": "stdout",
     "output_type": "stream",
     "text": [
      "\n",
      "Stats of batch 2:\n",
      "Samples: 10000\n",
      "Label Counts: {0: 984, 1: 1007, 2: 1010, 3: 995, 4: 1010, 5: 988, 6: 1008, 7: 1026, 8: 987, 9: 985}\n",
      "First 20 Labels: [1, 6, 6, 8, 8, 3, 4, 6, 0, 6, 0, 3, 6, 6, 5, 4, 8, 3, 2, 6]\n",
      "\n",
      "Example of Image 3:\n",
      "Image - Min Value: 4 Max Value: 255\n",
      "Image - Shape: (32, 32, 3)\n",
      "Label - Label Id: 8 Name: ship\n"
     ]
    },
    {
     "data": {
      "image/png": "[encoded data removed]",
      "text/plain": [
       "<matplotlib.figure.Figure at 0x7fa6aefff518>"
      ]
     },
     "metadata": {
      "image/png": {
       "height": 250,
       "width": 253
      }
     },
     "output_type": "display_data"
    }
   ],
   "source": [
    "%matplotlib inline\n",
    "%config InlineBackend.figure_format = 'retina'\n",
    "\n",
    "import helper\n",
    "import numpy as np\n",
    "\n",
    "# Explore the dataset\n",
    "batch_id = 2\n",
    "sample_id = 3\n",
    "helper.display_stats(cifar10_dataset_folder_path, batch_id, sample_id)"
   ]
  },
  {
   "cell_type": "markdown",
   "metadata": {
    "deletable": true,
    "editable": true
   },
   "source": [
    "## Implement Preprocess Functions\n",
    "### Normalize\n",
    "In the cell below, implement the `normalize` function to take in image data, `x`, and return it as a normalized Numpy array. The values should be in the range of 0 to 1, inclusive.  The return object should be the same shape as `x`."
   ]
  },
  {
   "cell_type": "code",
   "execution_count": 3,
   "metadata": {
    "collapsed": false,
    "deletable": true,
    "editable": true
   },
   "outputs": [
    {
     "name": "stdout",
     "output_type": "stream",
     "text": [
      "Tests Passed\n"
     ]
    }
   ],
   "source": [
    "def normalize(x):\n",
    "    \"\"\"\n",
    "    Normalize a list of sample image data in the range of 0 to 1\n",
    "    : x: List of image data.  The image shape is (32, 32, 3)\n",
    "    : return: Numpy array of normalize data\n",
    "    \"\"\"\n",
    "    # TODO: Implement Function\n",
    "    #  ref.  intro-to-tensorflow/intro_to_tensorflow_solution.ipynb Problem1\n",
    "    np_ary = np.array(x)\n",
    "    a = 0\n",
    "    b = 1\n",
    "    min = 0\n",
    "    max = 255\n",
    "    return a + (((np_ary - min)*(b - a)/(max - min)))\n",
    "\n",
    "\n",
    "\"\"\"\n",
    "DON'T MODIFY ANYTHING IN THIS CELL THAT IS BELOW THIS LINE\n",
    "\"\"\"\n",
    "tests.test_normalize(normalize)"
   ]
  },
  {
   "cell_type": "markdown",
   "metadata": {
    "deletable": true,
    "editable": true
   },
   "source": [
    "### One-hot encode\n",
    "Just like the previous code cell, you'll be implementing a function for preprocessing.  This time, you'll implement the `one_hot_encode` function. The input, `x`, are a list of labels.  Implement the function to return the list of labels as One-Hot encoded Numpy array.  The possible values for labels are 0 to 9. The one-hot encoding function should return the same encoding for each value between each call to `one_hot_encode`.  Make sure to save the map of encodings outside the function.\n",
    "\n",
    "Hint: Don't reinvent the wheel."
   ]
  },
  {
   "cell_type": "code",
   "execution_count": 6,
   "metadata": {
    "collapsed": false,
    "deletable": true,
    "editable": true
   },
   "outputs": [
    {
     "name": "stdout",
     "output_type": "stream",
     "text": [
      "Tests Passed\n"
     ]
    }
   ],
   "source": [
    "from sklearn import preprocessing\n",
    "\n",
    "cache = {}\n",
    "def one_hot_encode(x):\n",
    "    \"\"\"\n",
    "    One hot encode a list of sample labels. Return a one-hot encoded vector for each label.\n",
    "    : x: List of sample Labels\n",
    "    : return: Numpy array of one-hot encoded labels\n",
    "    \"\"\"\n",
    "    # TODO: Implement Function\n",
    "    lb = preprocessing.LabelBinarizer()\n",
    "    lb.fit(range(10))\n",
    "    rs = np.array(lb.transform(x))\n",
    "    return rs\n",
    "\n",
    "\n",
    "\"\"\"\n",
    "DON'T MODIFY ANYTHING IN THIS CELL THAT IS BELOW THIS LINE\n",
    "\"\"\"\n",
    "tests.test_one_hot_encode(one_hot_encode)"
   ]
  },
  {
   "cell_type": "markdown",
   "metadata": {
    "deletable": true,
    "editable": true
   },
   "source": [
    "### Randomize Data\n",
    "As you saw from exploring the data above, the order of the samples are randomized.  It doesn't hurt to randomize it again, but you don't need to for this dataset."
   ]
  },
  {
   "cell_type": "markdown",
   "metadata": {
    "deletable": true,
    "editable": true
   },
   "source": [
    "## Preprocess all the data and save it\n",
    "Running the code cell below will preprocess all the CIFAR-10 data and save it to file. The code below also uses 10% of the training data for validation."
   ]
  },
  {
   "cell_type": "code",
   "execution_count": 7,
   "metadata": {
    "collapsed": false,
    "deletable": true,
    "editable": true
   },
   "outputs": [],
   "source": [
    "\"\"\"\n",
    "DON'T MODIFY ANYTHING IN THIS CELL\n",
    "\"\"\"\n",
    "# Preprocess Training, Validation, and Testing Data\n",
    "helper.preprocess_and_save_data(cifar10_dataset_folder_path, normalize, one_hot_encode)"
   ]
  },
  {
   "cell_type": "markdown",
   "metadata": {
    "deletable": true,
    "editable": true
   },
   "source": [
    "# Check Point\n",
    "This is your first checkpoint.  If you ever decide to come back to this notebook or have to restart the notebook, you can start from here.  The preprocessed data has been saved to disk."
   ]
  },
  {
   "cell_type": "code",
   "execution_count": 1,
   "metadata": {
    "collapsed": true,
    "deletable": true,
    "editable": true
   },
   "outputs": [],
   "source": [
    "\"\"\"\n",
    "DON'T MODIFY ANYTHING IN THIS CELL\n",
    "\"\"\"\n",
    "import pickle\n",
    "import problem_unittests as tests\n",
    "import helper\n",
    "\n",
    "# Load the Preprocessed Validation data\n",
    "valid_features, valid_labels = pickle.load(open('preprocess_validation.p', mode='rb'))"
   ]
  },
  {
   "cell_type": "markdown",
   "metadata": {
    "deletable": true,
    "editable": true
   },
   "source": [
    "## Build the network\n",
    "For the neural network, you'll build each layer into a function.  Most of the code you've seen has been outside of functions. To test your code more thoroughly, we require that you put each layer in a function.  This allows us to give you better feedback and test for simple mistakes using our unittests before you submit your project.\n",
    "\n",
    ">**Note:** If you're finding it hard to dedicate enough time for this course each week, we've provided a small shortcut to this part of the project. In the next couple of problems, you'll have the option to use classes from the [TensorFlow Layers](https://www.tensorflow.org/api_docs/python/tf/layers) or [TensorFlow Layers (contrib)](https://www.tensorflow.org/api_guides/python/contrib.layers) packages to build each layer, except the layers you build in the \"Convolutional and Max Pooling Layer\" section.  TF Layers is similar to Keras's and TFLearn's abstraction to layers, so it's easy to pickup.\n",
    "\n",
    ">However, if you would like to get the most out of this course, try to solve all the problems _without_ using anything from the TF Layers packages. You **can** still use classes from other packages that happen to have the same name as ones you find in TF Layers! For example, instead of using the TF Layers version of the `conv2d` class, [tf.layers.conv2d](https://www.tensorflow.org/api_docs/python/tf/layers/conv2d), you would want to use the TF Neural Network version of `conv2d`, [tf.nn.conv2d](https://www.tensorflow.org/api_docs/python/tf/nn/conv2d). \n",
    "\n",
    "Let's begin!\n",
    "\n",
    "### Input\n",
    "The neural network needs to read the image data, one-hot encoded labels, and dropout keep probability. Implement the following functions\n",
    "* Implement `neural_net_image_input`\n",
    " * Return a [TF Placeholder](https://www.tensorflow.org/api_docs/python/tf/placeholder)\n",
    " * Set the shape using `image_shape` with batch size set to `None`.\n",
    " * Name the TensorFlow placeholder \"x\" using the TensorFlow `name` parameter in the [TF Placeholder](https://www.tensorflow.org/api_docs/python/tf/placeholder).\n",
    "* Implement `neural_net_label_input`\n",
    " * Return a [TF Placeholder](https://www.tensorflow.org/api_docs/python/tf/placeholder)\n",
    " * Set the shape using `n_classes` with batch size set to `None`.\n",
    " * Name the TensorFlow placeholder \"y\" using the TensorFlow `name` parameter in the [TF Placeholder](https://www.tensorflow.org/api_docs/python/tf/placeholder).\n",
    "* Implement `neural_net_keep_prob_input`\n",
    " * Return a [TF Placeholder](https://www.tensorflow.org/api_docs/python/tf/placeholder) for dropout keep probability.\n",
    " * Name the TensorFlow placeholder \"keep_prob\" using the TensorFlow `name` parameter in the [TF Placeholder](https://www.tensorflow.org/api_docs/python/tf/placeholder).\n",
    "\n",
    "These names will be used at the end of the project to load your saved model.\n",
    "\n",
    "Note: `None` for shapes in TensorFlow allow for a dynamic size."
   ]
  },
  {
   "cell_type": "code",
   "execution_count": 2,
   "metadata": {
    "collapsed": false,
    "deletable": true,
    "editable": true
   },
   "outputs": [
    {
     "name": "stdout",
     "output_type": "stream",
     "text": [
      "Image Input Tests Passed.\n",
      "Label Input Tests Passed.\n",
      "Keep Prob Tests Passed.\n"
     ]
    }
   ],
   "source": [
    "import tensorflow as tf\n",
    "\n",
    "def neural_net_image_input(image_shape):\n",
    "    \"\"\"\n",
    "    Return a Tensor for a bach of image input\n",
    "    : image_shape: Shape of the images\n",
    "    : return: Tensor for image input.\n",
    "    \"\"\"\n",
    "    # TODO: Implement Function\n",
    "    return tf.placeholder(tf.float32, shape=[None, *image_shape], name='x')\n",
    "\n",
    "\n",
    "def neural_net_label_input(n_classes):\n",
    "    \"\"\"\n",
    "    Return a Tensor for a batch of label input\n",
    "    : n_classes: Number of classes\n",
    "    : return: Tensor for label input.\n",
    "    \"\"\"\n",
    "    # TODO: Implement Function\n",
    "    return tf.placeholder(tf.float32, shape=[None, n_classes], name='y')\n",
    "\n",
    "\n",
    "def neural_net_keep_prob_input():\n",
    "    \"\"\"\n",
    "    Return a Tensor for keep probability\n",
    "    : return: Tensor for keep probability.\n",
    "    \"\"\"\n",
    "    # TODO: Implement Function\n",
    "    return tf.placeholder(tf.float32, shape=None, name='keep_prob')\n",
    "\n",
    "\n",
    "\"\"\"\n",
    "DON'T MODIFY ANYTHING IN THIS CELL THAT IS BELOW THIS LINE\n",
    "\"\"\"\n",
    "tf.reset_default_graph()\n",
    "tests.test_nn_image_inputs(neural_net_image_input)\n",
    "tests.test_nn_label_inputs(neural_net_label_input)\n",
    "tests.test_nn_keep_prob_inputs(neural_net_keep_prob_input)"
   ]
  },
  {
   "cell_type": "markdown",
   "metadata": {
    "deletable": true,
    "editable": true
   },
   "source": [
    "### Convolution and Max Pooling Layer\n",
    "Convolution layers have a lot of success with images. For this code cell, you should implement the function `conv2d_maxpool` to apply convolution then max pooling:\n",
    "* Create the weight and bias using `conv_ksize`, `conv_num_outputs` and the shape of `x_tensor`.\n",
    "* Apply a convolution to `x_tensor` using weight and `conv_strides`.\n",
    " * We recommend you use same padding, but you're welcome to use any padding.\n",
    "* Add bias\n",
    "* Add a nonlinear activation to the convolution.\n",
    "* Apply Max Pooling using `pool_ksize` and `pool_strides`.\n",
    " * We recommend you use same padding, but you're welcome to use any padding.\n",
    "\n",
    "**Note:** You **can't** use [TensorFlow Layers](https://www.tensorflow.org/api_docs/python/tf/layers) or [TensorFlow Layers (contrib)](https://www.tensorflow.org/api_guides/python/contrib.layers) for **this** layer, but you can still use TensorFlow's [Neural Network](https://www.tensorflow.org/api_docs/python/tf/nn) package. You may still use the shortcut option for all the **other** layers."
   ]
  },
  {
   "cell_type": "code",
   "execution_count": 3,
   "metadata": {
    "collapsed": false,
    "deletable": true,
    "editable": true
   },
   "outputs": [
    {
     "name": "stdout",
     "output_type": "stream",
     "text": [
      "Tests Passed\n"
     ]
    }
   ],
   "source": [
    "def conv2d_maxpool(x_tensor, conv_num_outputs, conv_ksize, conv_strides, pool_ksize, pool_strides):\n",
    "    \"\"\"\n",
    "    Apply convolution then max pooling to x_tensor\n",
    "    :param x_tensor: TensorFlow Tensor\n",
    "    :param conv_num_outputs: Number of outputs for the convolutional layer\n",
    "    :param conv_ksize: kernal size 2-D Tuple for the convolutional layer\n",
    "    :param conv_strides: Stride 2-D Tuple for convolution\n",
    "    :param pool_ksize: kernal size 2-D Tuple for pool\n",
    "    :param pool_strides: Stride 2-D Tuple for pool\n",
    "    : return: A tensor that represents convolution and max pooling of x_tensor\n",
    "    \"\"\"\n",
    "    # TODO: Implement Function\n",
    "    # ref.  Convolutional Networks 17. TensorFlow Convolution Layer\n",
    "    #print(x_tensor.shape)\n",
    "    depth = int(x_tensor.shape[-1])\n",
    "    weight = tf.Variable(tf.truncated_normal([*conv_ksize, depth, conv_num_outputs]))\n",
    "    bias = tf.Variable(tf.zeros(conv_num_outputs))\n",
    "    \n",
    "    #  from ref: \"We are generally always going to set the stride for batch and input_channels to be 1.\"\n",
    "    batch, input_channels = 1, 1\n",
    "    conv_layer = tf.nn.conv2d(x_tensor, weight, strides=[batch, *conv_strides, input_channels], padding='SAME')\n",
    "    conv_layer = tf.nn.bias_add(conv_layer, bias)\n",
    "    conv_layer = tf.nn.relu(conv_layer)\n",
    "    conv_layer = tf.nn.max_pool(conv_layer, ksize=[batch, *pool_ksize, input_channels], strides=[batch, *pool_strides, input_channels], padding='SAME')\n",
    "    \n",
    "    return conv_layer\n",
    "\n",
    "\n",
    "\"\"\"\n",
    "DON'T MODIFY ANYTHING IN THIS CELL THAT IS BELOW THIS LINE\n",
    "\"\"\"\n",
    "tests.test_con_pool(conv2d_maxpool)"
   ]
  },
  {
   "cell_type": "markdown",
   "metadata": {
    "deletable": true,
    "editable": true
   },
   "source": [
    "### Flatten Layer\n",
    "Implement the `flatten` function to change the dimension of `x_tensor` from a 4-D tensor to a 2-D tensor.  The output should be the shape (*Batch Size*, *Flattened Image Size*). Shortcut option: you can use classes from the [TensorFlow Layers](https://www.tensorflow.org/api_docs/python/tf/layers) or [TensorFlow Layers (contrib)](https://www.tensorflow.org/api_guides/python/contrib.layers) packages for this layer. For more of a challenge, only use other TensorFlow packages."
   ]
  },
  {
   "cell_type": "code",
   "execution_count": 4,
   "metadata": {
    "collapsed": false,
    "deletable": true,
    "editable": true
   },
   "outputs": [
    {
     "name": "stdout",
     "output_type": "stream",
     "text": [
      "Tests Passed\n"
     ]
    }
   ],
   "source": [
    "from functools import reduce\n",
    "\n",
    "def flatten(x_tensor):\n",
    "    \"\"\"\n",
    "    Flatten x_tensor to (Batch Size, Flattened Image Size)\n",
    "    : x_tensor: A tensor of size (Batch Size, ...), where ... are the image dimensions.\n",
    "    : return: A tensor of size (Batch Size, Flattened Image Size).\n",
    "    \"\"\"\n",
    "    # TODO: Implement Function\n",
    "    #print(x_tensor.shape)\n",
    "    # note. x_tensor.shape[0] => ?\n",
    "    size = reduce(lambda x, y: int(x)*int(y), x_tensor.shape[1:])\n",
    "    #print(size)\n",
    "    return tf.reshape(x_tensor, [-1, size])\n",
    "\n",
    "\n",
    "\"\"\"\n",
    "DON'T MODIFY ANYTHING IN THIS CELL THAT IS BELOW THIS LINE\n",
    "\"\"\"\n",
    "tests.test_flatten(flatten)"
   ]
  },
  {
   "cell_type": "markdown",
   "metadata": {
    "deletable": true,
    "editable": true
   },
   "source": [
    "### Fully-Connected Layer\n",
    "Implement the `fully_conn` function to apply a fully connected layer to `x_tensor` with the shape (*Batch Size*, *num_outputs*). Shortcut option: you can use classes from the [TensorFlow Layers](https://www.tensorflow.org/api_docs/python/tf/layers) or [TensorFlow Layers (contrib)](https://www.tensorflow.org/api_guides/python/contrib.layers) packages for this layer. For more of a challenge, only use other TensorFlow packages."
   ]
  },
  {
   "cell_type": "code",
   "execution_count": 5,
   "metadata": {
    "collapsed": false,
    "deletable": true,
    "editable": true
   },
   "outputs": [
    {
     "name": "stdout",
     "output_type": "stream",
     "text": [
      "Tests Passed\n"
     ]
    }
   ],
   "source": [
    "def fully_conn(x_tensor, num_outputs):\n",
    "    \"\"\"\n",
    "    Apply a fully connected layer to x_tensor using weight and bias\n",
    "    : x_tensor: A 2-D tensor where the first dimension is batch size.\n",
    "    : num_outputs: The number of output that the new tensor should be.\n",
    "    : return: A 2-D tensor where the second dimension is num_outputs.\n",
    "    \"\"\"\n",
    "    # TODO: Implement Function\n",
    "    return tf.contrib.layers.fully_connected(x_tensor, num_outputs, activation_fn=tf.nn.relu)\n",
    "\n",
    "\n",
    "\"\"\"\n",
    "DON'T MODIFY ANYTHING IN THIS CELL THAT IS BELOW THIS LINE\n",
    "\"\"\"\n",
    "tests.test_fully_conn(fully_conn)"
   ]
  },
  {
   "cell_type": "markdown",
   "metadata": {
    "deletable": true,
    "editable": true
   },
   "source": [
    "### Output Layer\n",
    "Implement the `output` function to apply a fully connected layer to `x_tensor` with the shape (*Batch Size*, *num_outputs*). Shortcut option: you can use classes from the [TensorFlow Layers](https://www.tensorflow.org/api_docs/python/tf/layers) or [TensorFlow Layers (contrib)](https://www.tensorflow.org/api_guides/python/contrib.layers) packages for this layer. For more of a challenge, only use other TensorFlow packages.\n",
    "\n",
    "**Note:** Activation, softmax, or cross entropy should **not** be applied to this."
   ]
  },
  {
   "cell_type": "code",
   "execution_count": 6,
   "metadata": {
    "collapsed": false,
    "deletable": true,
    "editable": true
   },
   "outputs": [
    {
     "name": "stdout",
     "output_type": "stream",
     "text": [
      "Tests Passed\n"
     ]
    }
   ],
   "source": [
    "def output(x_tensor, num_outputs):\n",
    "    \"\"\"\n",
    "    Apply a output layer to x_tensor using weight and bias\n",
    "    : x_tensor: A 2-D tensor where the first dimension is batch size.\n",
    "    : num_outputs: The number of output that the new tensor should be.\n",
    "    : return: A 2-D tensor where the second dimension is num_outputs.\n",
    "    \"\"\"\n",
    "    # TODO: Implement Function\n",
    "    return tf.contrib.layers.legacy_fully_connected(x_tensor, num_outputs, activation_fn=None)\n",
    "\n",
    "\n",
    "\"\"\"\n",
    "DON'T MODIFY ANYTHING IN THIS CELL THAT IS BELOW THIS LINE\n",
    "\"\"\"\n",
    "tests.test_output(output)"
   ]
  },
  {
   "cell_type": "markdown",
   "metadata": {
    "deletable": true,
    "editable": true
   },
   "source": [
    "### Create Convolutional Model\n",
    "Implement the function `conv_net` to create a convolutional neural network model. The function takes in a batch of images, `x`, and outputs logits.  Use the layers you created above to create this model:\n",
    "\n",
    "* Apply 1, 2, or 3 Convolution and Max Pool layers\n",
    "* Apply a Flatten Layer\n",
    "* Apply 1, 2, or 3 Fully Connected Layers\n",
    "* Apply an Output Layer\n",
    "* Return the output\n",
    "* Apply [TensorFlow's Dropout](https://www.tensorflow.org/api_docs/python/tf/nn/dropout) to one or more layers in the model using `keep_prob`. "
   ]
  },
  {
   "cell_type": "code",
   "execution_count": 16,
   "metadata": {
    "collapsed": false,
    "deletable": true,
    "editable": true
   },
   "outputs": [
    {
     "name": "stdout",
     "output_type": "stream",
     "text": [
      "Neural Network Built!\n"
     ]
    }
   ],
   "source": [
    "def conv_net(x, keep_prob):\n",
    "    \"\"\"\n",
    "    Create a convolutional neural network model\n",
    "    : x: Placeholder tensor that holds image data.\n",
    "    : keep_prob: Placeholder tensor that hold dropout keep probability.\n",
    "    : return: Tensor that represents logits\n",
    "    \"\"\"\n",
    "    # TODO: Apply 1, 2, or 3 Convolution and Max Pool layers\n",
    "    #    Play around with different number of outputs, kernel size and stride\n",
    "    # Function Definition from Above:\n",
    "    #    conv2d_maxpool(x_tensor, conv_num_outputs, conv_ksize, conv_strides, pool_ksize, pool_strides)\n",
    "    # ref. Convolutional Networks 30. Convolutional Network in TensorFlow\n",
    "    net = conv2d_maxpool(x, 32, (2, 2), (1, 1), (2, 2), (2, 2))\n",
    "    \n",
    "    # apply drop out\n",
    "    net = tf.nn.dropout(net, keep_prob)\n",
    "    \n",
    "    net = conv2d_maxpool(net, 64, (2, 2), (2, 2), (2, 2), (2, 2))\n",
    "\n",
    "    # TODO: Apply a Flatten Layer\n",
    "    # Function Definition from Above:\n",
    "    #   flatten(x_tensor)\n",
    "    net = flatten(net)\n",
    "    \n",
    "\n",
    "    # TODO: Apply 1, 2, or 3 Fully Connected Layers\n",
    "    #    Play around with different number of outputs\n",
    "    # Function Definition from Above:\n",
    "    #   fully_conn(x_tensor, num_outputs)\n",
    "    net = fully_conn(net, 64)\n",
    "    net = fully_conn(net, 128)\n",
    "    \n",
    "    \n",
    "    # TODO: Apply an Output Layer\n",
    "    #    Set this to the number of classes\n",
    "    # Function Definition from Above:\n",
    "    #   output(x_tensor, num_outputs)\n",
    "    num_of_classes = 10\n",
    "    net = output(net, num_of_classes)\n",
    "    \n",
    "    \n",
    "    # TODO: return output\n",
    "    return net\n",
    "\n",
    "\n",
    "\"\"\"\n",
    "DON'T MODIFY ANYTHING IN THIS CELL THAT IS BELOW THIS LINE\n",
    "\"\"\"\n",
    "\n",
    "##############################\n",
    "## Build the Neural Network ##\n",
    "##############################\n",
    "\n",
    "# Remove previous weights, bias, inputs, etc..\n",
    "tf.reset_default_graph()\n",
    "\n",
    "# Inputs\n",
    "x = neural_net_image_input((32, 32, 3))\n",
    "y = neural_net_label_input(10)\n",
    "keep_prob = neural_net_keep_prob_input()\n",
    "\n",
    "# Model\n",
    "logits = conv_net(x, keep_prob)\n",
    "\n",
    "# Name logits Tensor, so that is can be loaded from disk after training\n",
    "logits = tf.identity(logits, name='logits')\n",
    "\n",
    "# Loss and Optimizer\n",
    "cost = tf.reduce_mean(tf.nn.softmax_cross_entropy_with_logits(logits=logits, labels=y))\n",
    "optimizer = tf.train.AdamOptimizer().minimize(cost)\n",
    "\n",
    "# Accuracy\n",
    "correct_pred = tf.equal(tf.argmax(logits, 1), tf.argmax(y, 1))\n",
    "accuracy = tf.reduce_mean(tf.cast(correct_pred, tf.float32), name='accuracy')\n",
    "\n",
    "tests.test_conv_net(conv_net)"
   ]
  },
  {
   "cell_type": "markdown",
   "metadata": {
    "deletable": true,
    "editable": true
   },
   "source": [
    "## Train the Neural Network\n",
    "### Single Optimization\n",
    "Implement the function `train_neural_network` to do a single optimization.  The optimization should use `optimizer` to optimize in `session` with a `feed_dict` of the following:\n",
    "* `x` for image input\n",
    "* `y` for labels\n",
    "* `keep_prob` for keep probability for dropout\n",
    "\n",
    "This function will be called for each batch, so `tf.global_variables_initializer()` has already been called.\n",
    "\n",
    "Note: Nothing needs to be returned. This function is only optimizing the neural network."
   ]
  },
  {
   "cell_type": "code",
   "execution_count": 8,
   "metadata": {
    "collapsed": false,
    "deletable": true,
    "editable": true
   },
   "outputs": [
    {
     "name": "stdout",
     "output_type": "stream",
     "text": [
      "Tests Passed\n"
     ]
    }
   ],
   "source": [
    "def train_neural_network(session, optimizer, keep_probability, feature_batch, label_batch):\n",
    "    \"\"\"\n",
    "    Optimize the session on a batch of images and labels\n",
    "    : session: Current TensorFlow session\n",
    "    : optimizer: TensorFlow optimizer function\n",
    "    : keep_probability: keep probability\n",
    "    : feature_batch: Batch of Numpy image data\n",
    "    : label_batch: Batch of Numpy label data\n",
    "    \"\"\"\n",
    "    # TODO: Implement Function\n",
    "    # ref. Convolutional Networks 30. Convolutional Network in TensorFlow\n",
    "    session.run(optimizer, feed_dict={x: feature_batch, y: label_batch, keep_prob: keep_probability})\n",
    "\n",
    "\n",
    "\"\"\"\n",
    "DON'T MODIFY ANYTHING IN THIS CELL THAT IS BELOW THIS LINE\n",
    "\"\"\"\n",
    "tests.test_train_nn(train_neural_network)"
   ]
  },
  {
   "cell_type": "markdown",
   "metadata": {
    "deletable": true,
    "editable": true
   },
   "source": [
    "### Show Stats\n",
    "Implement the function `print_stats` to print loss and validation accuracy.  Use the global variables `valid_features` and `valid_labels` to calculate validation accuracy.  Use a keep probability of `1.0` to calculate the loss and validation accuracy."
   ]
  },
  {
   "cell_type": "code",
   "execution_count": 9,
   "metadata": {
    "collapsed": false,
    "deletable": true,
    "editable": true
   },
   "outputs": [],
   "source": [
    "def print_stats(session, feature_batch, label_batch, cost, accuracy):\n",
    "    \"\"\"\n",
    "    Print information about loss and validation accuracy\n",
    "    : session: Current TensorFlow session\n",
    "    : feature_batch: Batch of Numpy image data\n",
    "    : label_batch: Batch of Numpy label data\n",
    "    : cost: TensorFlow cost function\n",
    "    : accuracy: TensorFlow accuracy function\n",
    "    \"\"\"\n",
    "    # TODO: Implement Function\n",
    "    # ref. Convolutional Networks 30. Convolutional Network in TensorFlow\n",
    "    loss = session.run(cost, feed_dict={x: feature_batch, y: label_batch, keep_prob: 1.})\n",
    "    valid_acc = session.run(accuracy, feed_dict={x: valid_features, y: valid_labels, keep_prob: 1.})\n",
    "    print('Loss: {:>10.4f} Validation Accuracy: {:.6f}'.format(loss, valid_acc))"
   ]
  },
  {
   "cell_type": "markdown",
   "metadata": {
    "deletable": true,
    "editable": true
   },
   "source": [
    "### Hyperparameters\n",
    "Tune the following parameters:\n",
    "* Set `epochs` to the number of iterations until the network stops learning or start overfitting\n",
    "* Set `batch_size` to the highest number that your machine has memory for.  Most people set them to common sizes of memory:\n",
    " * 64\n",
    " * 128\n",
    " * 256\n",
    " * ...\n",
    "* Set `keep_probability` to the probability of keeping a node using dropout"
   ]
  },
  {
   "cell_type": "code",
   "execution_count": 18,
   "metadata": {
    "collapsed": true,
    "deletable": true,
    "editable": true
   },
   "outputs": [],
   "source": [
    "# TODO: Tune Parameters\n",
    "epochs = 80\n",
    "batch_size = 512\n",
    "keep_probability = 0.9"
   ]
  },
  {
   "cell_type": "markdown",
   "metadata": {
    "deletable": true,
    "editable": true
   },
   "source": [
    "### Train on a Single CIFAR-10 Batch\n",
    "Instead of training the neural network on all the CIFAR-10 batches of data, let's use a single batch. This should save time while you iterate on the model to get a better accuracy.  Once the final validation accuracy is 50% or greater, run the model on all the data in the next section."
   ]
  },
  {
   "cell_type": "code",
   "execution_count": 19,
   "metadata": {
    "collapsed": false,
    "deletable": true,
    "editable": true
   },
   "outputs": [
    {
     "name": "stdout",
     "output_type": "stream",
     "text": [
      "Checking the Training on a Single Batch...\n",
      "Epoch  1, CIFAR-10 Batch 1:  Loss:     2.3618 Validation Accuracy: 0.139400\n",
      "Epoch  2, CIFAR-10 Batch 1:  Loss:     2.2762 Validation Accuracy: 0.150400\n",
      "Epoch  3, CIFAR-10 Batch 1:  Loss:     2.1589 Validation Accuracy: 0.180200\n",
      "Epoch  4, CIFAR-10 Batch 1:  Loss:     2.1123 Validation Accuracy: 0.199000\n",
      "Epoch  5, CIFAR-10 Batch 1:  Loss:     2.0805 Validation Accuracy: 0.223600\n",
      "Epoch  6, CIFAR-10 Batch 1:  Loss:     2.0683 Validation Accuracy: 0.229200\n",
      "Epoch  7, CIFAR-10 Batch 1:  Loss:     2.0531 Validation Accuracy: 0.242400\n",
      "Epoch  8, CIFAR-10 Batch 1:  Loss:     2.0177 Validation Accuracy: 0.247600\n",
      "Epoch  9, CIFAR-10 Batch 1:  Loss:     2.0128 Validation Accuracy: 0.253200\n",
      "Epoch 10, CIFAR-10 Batch 1:  Loss:     2.0251 Validation Accuracy: 0.251800\n",
      "Epoch 11, CIFAR-10 Batch 1:  Loss:     2.0202 Validation Accuracy: 0.248400\n",
      "Epoch 12, CIFAR-10 Batch 1:  Loss:     1.9799 Validation Accuracy: 0.269400\n",
      "Epoch 13, CIFAR-10 Batch 1:  Loss:     1.9674 Validation Accuracy: 0.277600\n",
      "Epoch 14, CIFAR-10 Batch 1:  Loss:     1.9549 Validation Accuracy: 0.290000\n",
      "Epoch 15, CIFAR-10 Batch 1:  Loss:     1.9224 Validation Accuracy: 0.291400\n",
      "Epoch 16, CIFAR-10 Batch 1:  Loss:     1.9203 Validation Accuracy: 0.286600\n",
      "Epoch 17, CIFAR-10 Batch 1:  Loss:     1.8878 Validation Accuracy: 0.298000\n",
      "Epoch 18, CIFAR-10 Batch 1:  Loss:     1.8586 Validation Accuracy: 0.301600\n",
      "Epoch 19, CIFAR-10 Batch 1:  Loss:     1.8323 Validation Accuracy: 0.308800\n",
      "Epoch 20, CIFAR-10 Batch 1:  Loss:     1.8134 Validation Accuracy: 0.316200\n",
      "Epoch 21, CIFAR-10 Batch 1:  Loss:     1.7820 Validation Accuracy: 0.326400\n",
      "Epoch 22, CIFAR-10 Batch 1:  Loss:     1.7365 Validation Accuracy: 0.345800\n",
      "Epoch 23, CIFAR-10 Batch 1:  Loss:     1.7349 Validation Accuracy: 0.339800\n",
      "Epoch 24, CIFAR-10 Batch 1:  Loss:     1.6761 Validation Accuracy: 0.352000\n",
      "Epoch 25, CIFAR-10 Batch 1:  Loss:     1.6481 Validation Accuracy: 0.363400\n",
      "Epoch 26, CIFAR-10 Batch 1:  Loss:     1.6491 Validation Accuracy: 0.359800\n",
      "Epoch 27, CIFAR-10 Batch 1:  Loss:     1.6132 Validation Accuracy: 0.371200\n",
      "Epoch 28, CIFAR-10 Batch 1:  Loss:     1.6158 Validation Accuracy: 0.380800\n",
      "Epoch 29, CIFAR-10 Batch 1:  Loss:     1.5901 Validation Accuracy: 0.384000\n",
      "Epoch 30, CIFAR-10 Batch 1:  Loss:     1.5805 Validation Accuracy: 0.386000\n",
      "Epoch 31, CIFAR-10 Batch 1:  Loss:     1.5616 Validation Accuracy: 0.381200\n",
      "Epoch 32, CIFAR-10 Batch 1:  Loss:     1.5534 Validation Accuracy: 0.385200\n",
      "Epoch 33, CIFAR-10 Batch 1:  Loss:     1.5264 Validation Accuracy: 0.400400\n",
      "Epoch 34, CIFAR-10 Batch 1:  Loss:     1.5056 Validation Accuracy: 0.398600\n",
      "Epoch 35, CIFAR-10 Batch 1:  Loss:     1.5149 Validation Accuracy: 0.393200\n",
      "Epoch 36, CIFAR-10 Batch 1:  Loss:     1.4821 Validation Accuracy: 0.405800\n",
      "Epoch 37, CIFAR-10 Batch 1:  Loss:     1.4702 Validation Accuracy: 0.407200\n",
      "Epoch 38, CIFAR-10 Batch 1:  Loss:     1.4554 Validation Accuracy: 0.412200\n",
      "Epoch 39, CIFAR-10 Batch 1:  Loss:     1.4300 Validation Accuracy: 0.415000\n",
      "Epoch 40, CIFAR-10 Batch 1:  Loss:     1.4180 Validation Accuracy: 0.426200\n",
      "Epoch 41, CIFAR-10 Batch 1:  Loss:     1.4129 Validation Accuracy: 0.428800\n",
      "Epoch 42, CIFAR-10 Batch 1:  Loss:     1.4084 Validation Accuracy: 0.426200\n",
      "Epoch 43, CIFAR-10 Batch 1:  Loss:     1.3978 Validation Accuracy: 0.425200\n",
      "Epoch 44, CIFAR-10 Batch 1:  Loss:     1.4018 Validation Accuracy: 0.424400\n",
      "Epoch 45, CIFAR-10 Batch 1:  Loss:     1.3594 Validation Accuracy: 0.437800\n",
      "Epoch 46, CIFAR-10 Batch 1:  Loss:     1.3404 Validation Accuracy: 0.443000\n",
      "Epoch 47, CIFAR-10 Batch 1:  Loss:     1.3542 Validation Accuracy: 0.435800\n",
      "Epoch 48, CIFAR-10 Batch 1:  Loss:     1.3538 Validation Accuracy: 0.435600\n",
      "Epoch 49, CIFAR-10 Batch 1:  Loss:     1.3080 Validation Accuracy: 0.439200\n",
      "Epoch 50, CIFAR-10 Batch 1:  Loss:     1.2954 Validation Accuracy: 0.452000\n",
      "Epoch 51, CIFAR-10 Batch 1:  Loss:     1.2987 Validation Accuracy: 0.451000\n",
      "Epoch 52, CIFAR-10 Batch 1:  Loss:     1.2769 Validation Accuracy: 0.457400\n",
      "Epoch 53, CIFAR-10 Batch 1:  Loss:     1.2625 Validation Accuracy: 0.457400\n",
      "Epoch 54, CIFAR-10 Batch 1:  Loss:     1.2523 Validation Accuracy: 0.453400\n",
      "Epoch 55, CIFAR-10 Batch 1:  Loss:     1.2228 Validation Accuracy: 0.470400\n",
      "Epoch 56, CIFAR-10 Batch 1:  Loss:     1.2335 Validation Accuracy: 0.467800\n",
      "Epoch 57, CIFAR-10 Batch 1:  Loss:     1.2125 Validation Accuracy: 0.466200\n",
      "Epoch 58, CIFAR-10 Batch 1:  Loss:     1.2360 Validation Accuracy: 0.459800\n",
      "Epoch 59, CIFAR-10 Batch 1:  Loss:     1.2175 Validation Accuracy: 0.465200\n",
      "Epoch 60, CIFAR-10 Batch 1:  Loss:     1.1856 Validation Accuracy: 0.473000\n",
      "Epoch 61, CIFAR-10 Batch 1:  Loss:     1.1867 Validation Accuracy: 0.472200\n",
      "Epoch 62, CIFAR-10 Batch 1:  Loss:     1.1451 Validation Accuracy: 0.483400\n",
      "Epoch 63, CIFAR-10 Batch 1:  Loss:     1.1607 Validation Accuracy: 0.475400\n",
      "Epoch 64, CIFAR-10 Batch 1:  Loss:     1.1403 Validation Accuracy: 0.481800\n",
      "Epoch 65, CIFAR-10 Batch 1:  Loss:     1.1155 Validation Accuracy: 0.482600\n",
      "Epoch 66, CIFAR-10 Batch 1:  Loss:     1.1025 Validation Accuracy: 0.479800\n",
      "Epoch 67, CIFAR-10 Batch 1:  Loss:     1.0990 Validation Accuracy: 0.483000\n",
      "Epoch 68, CIFAR-10 Batch 1:  Loss:     1.1030 Validation Accuracy: 0.477000\n",
      "Epoch 69, CIFAR-10 Batch 1:  Loss:     1.0790 Validation Accuracy: 0.486400\n",
      "Epoch 70, CIFAR-10 Batch 1:  Loss:     1.0687 Validation Accuracy: 0.491800\n",
      "Epoch 71, CIFAR-10 Batch 1:  Loss:     1.0527 Validation Accuracy: 0.493400\n",
      "Epoch 72, CIFAR-10 Batch 1:  Loss:     1.0524 Validation Accuracy: 0.498600\n",
      "Epoch 73, CIFAR-10 Batch 1:  Loss:     1.0656 Validation Accuracy: 0.497600\n",
      "Epoch 74, CIFAR-10 Batch 1:  Loss:     1.0357 Validation Accuracy: 0.498000\n",
      "Epoch 75, CIFAR-10 Batch 1:  Loss:     1.0439 Validation Accuracy: 0.491600\n",
      "Epoch 76, CIFAR-10 Batch 1:  Loss:     1.0075 Validation Accuracy: 0.503600\n",
      "Epoch 77, CIFAR-10 Batch 1:  Loss:     1.0105 Validation Accuracy: 0.503200\n",
      "Epoch 78, CIFAR-10 Batch 1:  Loss:     0.9869 Validation Accuracy: 0.510200\n",
      "Epoch 79, CIFAR-10 Batch 1:  Loss:     0.9789 Validation Accuracy: 0.506800\n",
      "Epoch 80, CIFAR-10 Batch 1:  Loss:     0.9650 Validation Accuracy: 0.510200\n"
     ]
    }
   ],
   "source": [
    "\"\"\"\n",
    "DON'T MODIFY ANYTHING IN THIS CELL\n",
    "\"\"\"\n",
    "print('Checking the Training on a Single Batch...')\n",
    "with tf.Session() as sess:\n",
    "    # Initializing the variables\n",
    "    sess.run(tf.global_variables_initializer())\n",
    "    \n",
    "    # Training cycle\n",
    "    for epoch in range(epochs):\n",
    "        batch_i = 1\n",
    "        for batch_features, batch_labels in helper.load_preprocess_training_batch(batch_i, batch_size):\n",
    "            train_neural_network(sess, optimizer, keep_probability, batch_features, batch_labels)\n",
    "        print('Epoch {:>2}, CIFAR-10 Batch {}:  '.format(epoch + 1, batch_i), end='')\n",
    "        print_stats(sess, batch_features, batch_labels, cost, accuracy)"
   ]
  },
  {
   "cell_type": "markdown",
   "metadata": {
    "deletable": true,
    "editable": true
   },
   "source": [
    "### Fully Train the Model\n",
    "Now that you got a good accuracy with a single CIFAR-10 batch, try it with all five batches."
   ]
  },
  {
   "cell_type": "code",
   "execution_count": 20,
   "metadata": {
    "collapsed": false,
    "deletable": true,
    "editable": true
   },
   "outputs": [
    {
     "name": "stdout",
     "output_type": "stream",
     "text": [
      "Training...\n",
      "Epoch  1, CIFAR-10 Batch 1:  Loss:     2.5489 Validation Accuracy: 0.171400\n",
      "Epoch  1, CIFAR-10 Batch 2:  Loss:     2.2354 Validation Accuracy: 0.174200\n",
      "Epoch  1, CIFAR-10 Batch 3:  Loss:     2.0743 Validation Accuracy: 0.207600\n",
      "Epoch  1, CIFAR-10 Batch 4:  Loss:     2.0562 Validation Accuracy: 0.216200\n",
      "Epoch  1, CIFAR-10 Batch 5:  Loss:     1.9989 Validation Accuracy: 0.234200\n",
      "Epoch  2, CIFAR-10 Batch 1:  Loss:     2.1109 Validation Accuracy: 0.252400\n",
      "Epoch  2, CIFAR-10 Batch 2:  Loss:     2.0266 Validation Accuracy: 0.238400\n",
      "Epoch  2, CIFAR-10 Batch 3:  Loss:     1.8694 Validation Accuracy: 0.271400\n",
      "Epoch  2, CIFAR-10 Batch 4:  Loss:     1.8620 Validation Accuracy: 0.269800\n",
      "Epoch  2, CIFAR-10 Batch 5:  Loss:     1.9044 Validation Accuracy: 0.274400\n",
      "Epoch  3, CIFAR-10 Batch 1:  Loss:     1.9279 Validation Accuracy: 0.313800\n",
      "Epoch  3, CIFAR-10 Batch 2:  Loss:     1.8741 Validation Accuracy: 0.288400\n",
      "Epoch  3, CIFAR-10 Batch 3:  Loss:     1.6593 Validation Accuracy: 0.349400\n",
      "Epoch  3, CIFAR-10 Batch 4:  Loss:     1.6794 Validation Accuracy: 0.332000\n",
      "Epoch  3, CIFAR-10 Batch 5:  Loss:     1.7552 Validation Accuracy: 0.333200\n",
      "Epoch  4, CIFAR-10 Batch 1:  Loss:     1.7988 Validation Accuracy: 0.365400\n",
      "Epoch  4, CIFAR-10 Batch 2:  Loss:     1.7447 Validation Accuracy: 0.330800\n",
      "Epoch  4, CIFAR-10 Batch 3:  Loss:     1.5423 Validation Accuracy: 0.379800\n",
      "Epoch  4, CIFAR-10 Batch 4:  Loss:     1.5525 Validation Accuracy: 0.382200\n",
      "Epoch  4, CIFAR-10 Batch 5:  Loss:     1.6486 Validation Accuracy: 0.384200\n",
      "Epoch  5, CIFAR-10 Batch 1:  Loss:     1.6952 Validation Accuracy: 0.405200\n",
      "Epoch  5, CIFAR-10 Batch 2:  Loss:     1.6397 Validation Accuracy: 0.372600\n",
      "Epoch  5, CIFAR-10 Batch 3:  Loss:     1.4665 Validation Accuracy: 0.421800\n",
      "Epoch  5, CIFAR-10 Batch 4:  Loss:     1.4849 Validation Accuracy: 0.420200\n",
      "Epoch  5, CIFAR-10 Batch 5:  Loss:     1.5643 Validation Accuracy: 0.424800\n",
      "Epoch  6, CIFAR-10 Batch 1:  Loss:     1.6283 Validation Accuracy: 0.433600\n",
      "Epoch  6, CIFAR-10 Batch 2:  Loss:     1.5580 Validation Accuracy: 0.411400\n",
      "Epoch  6, CIFAR-10 Batch 3:  Loss:     1.4004 Validation Accuracy: 0.445400\n",
      "Epoch  6, CIFAR-10 Batch 4:  Loss:     1.4205 Validation Accuracy: 0.445400\n",
      "Epoch  6, CIFAR-10 Batch 5:  Loss:     1.5188 Validation Accuracy: 0.437600\n",
      "Epoch  7, CIFAR-10 Batch 1:  Loss:     1.5951 Validation Accuracy: 0.448000\n",
      "Epoch  7, CIFAR-10 Batch 2:  Loss:     1.5175 Validation Accuracy: 0.428400\n",
      "Epoch  7, CIFAR-10 Batch 3:  Loss:     1.3656 Validation Accuracy: 0.452200\n",
      "Epoch  7, CIFAR-10 Batch 4:  Loss:     1.4099 Validation Accuracy: 0.445400\n",
      "Epoch  7, CIFAR-10 Batch 5:  Loss:     1.4637 Validation Accuracy: 0.452800\n",
      "Epoch  8, CIFAR-10 Batch 1:  Loss:     1.5649 Validation Accuracy: 0.465200\n",
      "Epoch  8, CIFAR-10 Batch 2:  Loss:     1.4978 Validation Accuracy: 0.434600\n",
      "Epoch  8, CIFAR-10 Batch 3:  Loss:     1.3263 Validation Accuracy: 0.473000\n",
      "Epoch  8, CIFAR-10 Batch 4:  Loss:     1.3440 Validation Accuracy: 0.463600\n",
      "Epoch  8, CIFAR-10 Batch 5:  Loss:     1.4426 Validation Accuracy: 0.458800\n",
      "Epoch  9, CIFAR-10 Batch 1:  Loss:     1.5244 Validation Accuracy: 0.463400\n",
      "Epoch  9, CIFAR-10 Batch 2:  Loss:     1.4468 Validation Accuracy: 0.456600\n",
      "Epoch  9, CIFAR-10 Batch 3:  Loss:     1.3160 Validation Accuracy: 0.471000\n",
      "Epoch  9, CIFAR-10 Batch 4:  Loss:     1.3179 Validation Accuracy: 0.471200\n",
      "Epoch  9, CIFAR-10 Batch 5:  Loss:     1.3908 Validation Accuracy: 0.479800\n",
      "Epoch 10, CIFAR-10 Batch 1:  Loss:     1.5188 Validation Accuracy: 0.473600\n",
      "Epoch 10, CIFAR-10 Batch 2:  Loss:     1.4239 Validation Accuracy: 0.465000\n",
      "Epoch 10, CIFAR-10 Batch 3:  Loss:     1.2571 Validation Accuracy: 0.493200\n",
      "Epoch 10, CIFAR-10 Batch 4:  Loss:     1.2928 Validation Accuracy: 0.479400\n",
      "Epoch 10, CIFAR-10 Batch 5:  Loss:     1.3769 Validation Accuracy: 0.480400\n",
      "Epoch 11, CIFAR-10 Batch 1:  Loss:     1.4624 Validation Accuracy: 0.488400\n",
      "Epoch 11, CIFAR-10 Batch 2:  Loss:     1.3978 Validation Accuracy: 0.476800\n",
      "Epoch 11, CIFAR-10 Batch 3:  Loss:     1.2523 Validation Accuracy: 0.486200\n",
      "Epoch 11, CIFAR-10 Batch 4:  Loss:     1.2552 Validation Accuracy: 0.496000\n",
      "Epoch 11, CIFAR-10 Batch 5:  Loss:     1.3240 Validation Accuracy: 0.499400\n",
      "Epoch 12, CIFAR-10 Batch 1:  Loss:     1.4306 Validation Accuracy: 0.498600\n",
      "Epoch 12, CIFAR-10 Batch 2:  Loss:     1.3658 Validation Accuracy: 0.484200\n",
      "Epoch 12, CIFAR-10 Batch 3:  Loss:     1.1918 Validation Accuracy: 0.501400\n",
      "Epoch 12, CIFAR-10 Batch 4:  Loss:     1.2240 Validation Accuracy: 0.495000\n",
      "Epoch 12, CIFAR-10 Batch 5:  Loss:     1.3186 Validation Accuracy: 0.501800\n",
      "Epoch 13, CIFAR-10 Batch 1:  Loss:     1.4226 Validation Accuracy: 0.496800\n",
      "Epoch 13, CIFAR-10 Batch 2:  Loss:     1.3203 Validation Accuracy: 0.501200\n",
      "Epoch 13, CIFAR-10 Batch 3:  Loss:     1.1720 Validation Accuracy: 0.515400\n",
      "Epoch 13, CIFAR-10 Batch 4:  Loss:     1.1930 Validation Accuracy: 0.502400\n",
      "Epoch 13, CIFAR-10 Batch 5:  Loss:     1.2705 Validation Accuracy: 0.517600\n",
      "Epoch 14, CIFAR-10 Batch 1:  Loss:     1.3514 Validation Accuracy: 0.509600\n",
      "Epoch 14, CIFAR-10 Batch 2:  Loss:     1.2864 Validation Accuracy: 0.506200\n",
      "Epoch 14, CIFAR-10 Batch 3:  Loss:     1.1625 Validation Accuracy: 0.517400\n",
      "Epoch 14, CIFAR-10 Batch 4:  Loss:     1.1683 Validation Accuracy: 0.514400\n",
      "Epoch 14, CIFAR-10 Batch 5:  Loss:     1.2472 Validation Accuracy: 0.518200\n",
      "Epoch 15, CIFAR-10 Batch 1:  Loss:     1.3342 Validation Accuracy: 0.517000\n",
      "Epoch 15, CIFAR-10 Batch 2:  Loss:     1.2648 Validation Accuracy: 0.521000\n",
      "Epoch 15, CIFAR-10 Batch 3:  Loss:     1.1432 Validation Accuracy: 0.527200\n",
      "Epoch 15, CIFAR-10 Batch 4:  Loss:     1.1658 Validation Accuracy: 0.516000\n",
      "Epoch 15, CIFAR-10 Batch 5:  Loss:     1.2258 Validation Accuracy: 0.518800\n",
      "Epoch 16, CIFAR-10 Batch 1:  Loss:     1.2786 Validation Accuracy: 0.526400\n",
      "Epoch 16, CIFAR-10 Batch 2:  Loss:     1.2485 Validation Accuracy: 0.523400\n",
      "Epoch 16, CIFAR-10 Batch 3:  Loss:     1.1284 Validation Accuracy: 0.534200\n",
      "Epoch 16, CIFAR-10 Batch 4:  Loss:     1.1353 Validation Accuracy: 0.526400\n",
      "Epoch 16, CIFAR-10 Batch 5:  Loss:     1.2313 Validation Accuracy: 0.522200\n",
      "Epoch 17, CIFAR-10 Batch 1:  Loss:     1.2651 Validation Accuracy: 0.539200\n",
      "Epoch 17, CIFAR-10 Batch 2:  Loss:     1.2077 Validation Accuracy: 0.539400\n",
      "Epoch 17, CIFAR-10 Batch 3:  Loss:     1.0982 Validation Accuracy: 0.544200\n",
      "Epoch 17, CIFAR-10 Batch 4:  Loss:     1.1074 Validation Accuracy: 0.538600\n",
      "Epoch 17, CIFAR-10 Batch 5:  Loss:     1.1787 Validation Accuracy: 0.539600\n",
      "Epoch 18, CIFAR-10 Batch 1:  Loss:     1.2580 Validation Accuracy: 0.534400\n",
      "Epoch 18, CIFAR-10 Batch 2:  Loss:     1.2030 Validation Accuracy: 0.542200\n",
      "Epoch 18, CIFAR-10 Batch 3:  Loss:     1.0705 Validation Accuracy: 0.548400\n",
      "Epoch 18, CIFAR-10 Batch 4:  Loss:     1.1032 Validation Accuracy: 0.535400\n",
      "Epoch 18, CIFAR-10 Batch 5:  Loss:     1.1549 Validation Accuracy: 0.542600\n",
      "Epoch 19, CIFAR-10 Batch 1:  Loss:     1.2084 Validation Accuracy: 0.546000\n",
      "Epoch 19, CIFAR-10 Batch 2:  Loss:     1.1695 Validation Accuracy: 0.552400\n",
      "Epoch 19, CIFAR-10 Batch 3:  Loss:     1.0680 Validation Accuracy: 0.554800\n",
      "Epoch 19, CIFAR-10 Batch 4:  Loss:     1.0599 Validation Accuracy: 0.545400\n",
      "Epoch 19, CIFAR-10 Batch 5:  Loss:     1.1365 Validation Accuracy: 0.550200\n",
      "Epoch 20, CIFAR-10 Batch 1:  Loss:     1.1828 Validation Accuracy: 0.554200\n",
      "Epoch 20, CIFAR-10 Batch 2:  Loss:     1.1537 Validation Accuracy: 0.557000\n",
      "Epoch 20, CIFAR-10 Batch 3:  Loss:     1.0454 Validation Accuracy: 0.554600\n",
      "Epoch 20, CIFAR-10 Batch 4:  Loss:     1.0459 Validation Accuracy: 0.549600\n",
      "Epoch 20, CIFAR-10 Batch 5:  Loss:     1.1097 Validation Accuracy: 0.556600\n",
      "Epoch 21, CIFAR-10 Batch 1:  Loss:     1.1915 Validation Accuracy: 0.559200\n",
      "Epoch 21, CIFAR-10 Batch 2:  Loss:     1.1294 Validation Accuracy: 0.569400\n",
      "Epoch 21, CIFAR-10 Batch 3:  Loss:     1.0401 Validation Accuracy: 0.556600\n",
      "Epoch 21, CIFAR-10 Batch 4:  Loss:     1.0448 Validation Accuracy: 0.548600\n",
      "Epoch 21, CIFAR-10 Batch 5:  Loss:     1.0998 Validation Accuracy: 0.561200\n",
      "Epoch 22, CIFAR-10 Batch 1:  Loss:     1.1409 Validation Accuracy: 0.567600\n",
      "Epoch 22, CIFAR-10 Batch 2:  Loss:     1.1143 Validation Accuracy: 0.572000\n",
      "Epoch 22, CIFAR-10 Batch 3:  Loss:     1.0047 Validation Accuracy: 0.572600\n",
      "Epoch 22, CIFAR-10 Batch 4:  Loss:     0.9903 Validation Accuracy: 0.564600\n",
      "Epoch 22, CIFAR-10 Batch 5:  Loss:     1.0805 Validation Accuracy: 0.566400\n",
      "Epoch 23, CIFAR-10 Batch 1:  Loss:     1.1352 Validation Accuracy: 0.568800\n",
      "Epoch 23, CIFAR-10 Batch 2:  Loss:     1.1073 Validation Accuracy: 0.567200\n",
      "Epoch 23, CIFAR-10 Batch 3:  Loss:     0.9924 Validation Accuracy: 0.568200\n",
      "Epoch 23, CIFAR-10 Batch 4:  Loss:     0.9778 Validation Accuracy: 0.566400\n",
      "Epoch 23, CIFAR-10 Batch 5:  Loss:     1.0668 Validation Accuracy: 0.570600\n",
      "Epoch 24, CIFAR-10 Batch 1:  Loss:     1.1207 Validation Accuracy: 0.574000\n",
      "Epoch 24, CIFAR-10 Batch 2:  Loss:     1.0836 Validation Accuracy: 0.571200\n",
      "Epoch 24, CIFAR-10 Batch 3:  Loss:     0.9984 Validation Accuracy: 0.571200\n",
      "Epoch 24, CIFAR-10 Batch 4:  Loss:     0.9557 Validation Accuracy: 0.574400\n",
      "Epoch 24, CIFAR-10 Batch 5:  Loss:     1.0407 Validation Accuracy: 0.579000\n",
      "Epoch 25, CIFAR-10 Batch 1:  Loss:     1.0991 Validation Accuracy: 0.578400\n",
      "Epoch 25, CIFAR-10 Batch 2:  Loss:     1.0702 Validation Accuracy: 0.576800\n",
      "Epoch 25, CIFAR-10 Batch 3:  Loss:     0.9651 Validation Accuracy: 0.578600\n",
      "Epoch 25, CIFAR-10 Batch 4:  Loss:     0.9445 Validation Accuracy: 0.581600\n",
      "Epoch 25, CIFAR-10 Batch 5:  Loss:     1.0379 Validation Accuracy: 0.575000\n",
      "Epoch 26, CIFAR-10 Batch 1:  Loss:     1.0809 Validation Accuracy: 0.584400\n",
      "Epoch 26, CIFAR-10 Batch 2:  Loss:     1.0654 Validation Accuracy: 0.581800\n",
      "Epoch 26, CIFAR-10 Batch 3:  Loss:     0.9555 Validation Accuracy: 0.576600\n",
      "Epoch 26, CIFAR-10 Batch 4:  Loss:     0.9314 Validation Accuracy: 0.585800\n",
      "Epoch 26, CIFAR-10 Batch 5:  Loss:     1.0260 Validation Accuracy: 0.583200\n",
      "Epoch 27, CIFAR-10 Batch 1:  Loss:     1.0903 Validation Accuracy: 0.580000\n",
      "Epoch 27, CIFAR-10 Batch 2:  Loss:     1.0508 Validation Accuracy: 0.583600\n",
      "Epoch 27, CIFAR-10 Batch 3:  Loss:     0.9314 Validation Accuracy: 0.583800\n",
      "Epoch 27, CIFAR-10 Batch 4:  Loss:     0.9148 Validation Accuracy: 0.583400\n",
      "Epoch 27, CIFAR-10 Batch 5:  Loss:     1.0168 Validation Accuracy: 0.583200\n",
      "Epoch 28, CIFAR-10 Batch 1:  Loss:     1.0491 Validation Accuracy: 0.590800\n",
      "Epoch 28, CIFAR-10 Batch 2:  Loss:     1.0322 Validation Accuracy: 0.584600\n",
      "Epoch 28, CIFAR-10 Batch 3:  Loss:     0.9337 Validation Accuracy: 0.584600\n",
      "Epoch 28, CIFAR-10 Batch 4:  Loss:     0.8983 Validation Accuracy: 0.588800\n",
      "Epoch 28, CIFAR-10 Batch 5:  Loss:     1.0069 Validation Accuracy: 0.588200\n",
      "Epoch 29, CIFAR-10 Batch 1:  Loss:     1.0423 Validation Accuracy: 0.591400\n",
      "Epoch 29, CIFAR-10 Batch 2:  Loss:     1.0234 Validation Accuracy: 0.593800\n",
      "Epoch 29, CIFAR-10 Batch 3:  Loss:     0.9170 Validation Accuracy: 0.593600\n",
      "Epoch 29, CIFAR-10 Batch 4:  Loss:     0.9000 Validation Accuracy: 0.594200\n",
      "Epoch 29, CIFAR-10 Batch 5:  Loss:     0.9968 Validation Accuracy: 0.592600\n",
      "Epoch 30, CIFAR-10 Batch 1:  Loss:     1.0419 Validation Accuracy: 0.593800\n",
      "Epoch 30, CIFAR-10 Batch 2:  Loss:     1.0214 Validation Accuracy: 0.589600\n",
      "Epoch 30, CIFAR-10 Batch 3:  Loss:     0.9016 Validation Accuracy: 0.594800\n",
      "Epoch 30, CIFAR-10 Batch 4:  Loss:     0.8684 Validation Accuracy: 0.599000\n",
      "Epoch 30, CIFAR-10 Batch 5:  Loss:     0.9860 Validation Accuracy: 0.590600\n",
      "Epoch 31, CIFAR-10 Batch 1:  Loss:     1.0327 Validation Accuracy: 0.595200\n",
      "Epoch 31, CIFAR-10 Batch 2:  Loss:     1.0065 Validation Accuracy: 0.591000\n",
      "Epoch 31, CIFAR-10 Batch 3:  Loss:     0.9061 Validation Accuracy: 0.593200\n",
      "Epoch 31, CIFAR-10 Batch 4:  Loss:     0.8644 Validation Accuracy: 0.599200\n",
      "Epoch 31, CIFAR-10 Batch 5:  Loss:     0.9844 Validation Accuracy: 0.592800\n",
      "Epoch 32, CIFAR-10 Batch 1:  Loss:     1.0074 Validation Accuracy: 0.601200\n",
      "Epoch 32, CIFAR-10 Batch 2:  Loss:     0.9792 Validation Accuracy: 0.596200\n",
      "Epoch 32, CIFAR-10 Batch 3:  Loss:     0.8913 Validation Accuracy: 0.594800\n",
      "Epoch 32, CIFAR-10 Batch 4:  Loss:     0.8439 Validation Accuracy: 0.601800\n",
      "Epoch 32, CIFAR-10 Batch 5:  Loss:     0.9536 Validation Accuracy: 0.605000\n",
      "Epoch 33, CIFAR-10 Batch 1:  Loss:     0.9948 Validation Accuracy: 0.598400\n",
      "Epoch 33, CIFAR-10 Batch 2:  Loss:     0.9774 Validation Accuracy: 0.598400\n",
      "Epoch 33, CIFAR-10 Batch 3:  Loss:     0.8794 Validation Accuracy: 0.598400\n",
      "Epoch 33, CIFAR-10 Batch 4:  Loss:     0.8365 Validation Accuracy: 0.602800\n",
      "Epoch 33, CIFAR-10 Batch 5:  Loss:     0.9546 Validation Accuracy: 0.597400\n",
      "Epoch 34, CIFAR-10 Batch 1:  Loss:     0.9791 Validation Accuracy: 0.603800\n",
      "Epoch 34, CIFAR-10 Batch 2:  Loss:     0.9534 Validation Accuracy: 0.598000\n",
      "Epoch 34, CIFAR-10 Batch 3:  Loss:     0.8556 Validation Accuracy: 0.601200\n",
      "Epoch 34, CIFAR-10 Batch 4:  Loss:     0.8176 Validation Accuracy: 0.612600\n",
      "Epoch 34, CIFAR-10 Batch 5:  Loss:     0.9283 Validation Accuracy: 0.602000\n",
      "Epoch 35, CIFAR-10 Batch 1:  Loss:     0.9600 Validation Accuracy: 0.604800\n",
      "Epoch 35, CIFAR-10 Batch 2:  Loss:     0.9397 Validation Accuracy: 0.606000\n",
      "Epoch 35, CIFAR-10 Batch 3:  Loss:     0.8457 Validation Accuracy: 0.608200\n",
      "Epoch 35, CIFAR-10 Batch 4:  Loss:     0.8091 Validation Accuracy: 0.609400\n",
      "Epoch 35, CIFAR-10 Batch 5:  Loss:     0.9194 Validation Accuracy: 0.607800\n",
      "Epoch 36, CIFAR-10 Batch 1:  Loss:     0.9790 Validation Accuracy: 0.604200\n",
      "Epoch 36, CIFAR-10 Batch 2:  Loss:     0.9321 Validation Accuracy: 0.603800\n",
      "Epoch 36, CIFAR-10 Batch 3:  Loss:     0.8383 Validation Accuracy: 0.605400\n",
      "Epoch 36, CIFAR-10 Batch 4:  Loss:     0.7938 Validation Accuracy: 0.610600\n",
      "Epoch 36, CIFAR-10 Batch 5:  Loss:     0.9160 Validation Accuracy: 0.609600\n",
      "Epoch 37, CIFAR-10 Batch 1:  Loss:     0.9596 Validation Accuracy: 0.609200\n",
      "Epoch 37, CIFAR-10 Batch 2:  Loss:     0.9326 Validation Accuracy: 0.602000\n",
      "Epoch 37, CIFAR-10 Batch 3:  Loss:     0.8352 Validation Accuracy: 0.610800\n",
      "Epoch 37, CIFAR-10 Batch 4:  Loss:     0.7865 Validation Accuracy: 0.618800\n",
      "Epoch 37, CIFAR-10 Batch 5:  Loss:     0.8880 Validation Accuracy: 0.616200\n",
      "Epoch 38, CIFAR-10 Batch 1:  Loss:     0.9338 Validation Accuracy: 0.610200\n",
      "Epoch 38, CIFAR-10 Batch 2:  Loss:     0.9160 Validation Accuracy: 0.606400\n",
      "Epoch 38, CIFAR-10 Batch 3:  Loss:     0.8097 Validation Accuracy: 0.613400\n",
      "Epoch 38, CIFAR-10 Batch 4:  Loss:     0.7790 Validation Accuracy: 0.619400\n",
      "Epoch 38, CIFAR-10 Batch 5:  Loss:     0.8808 Validation Accuracy: 0.612000\n",
      "Epoch 39, CIFAR-10 Batch 1:  Loss:     0.9272 Validation Accuracy: 0.608000\n",
      "Epoch 39, CIFAR-10 Batch 2:  Loss:     0.8991 Validation Accuracy: 0.608200\n",
      "Epoch 39, CIFAR-10 Batch 3:  Loss:     0.8131 Validation Accuracy: 0.610200\n",
      "Epoch 39, CIFAR-10 Batch 4:  Loss:     0.7601 Validation Accuracy: 0.622200\n",
      "Epoch 39, CIFAR-10 Batch 5:  Loss:     0.8613 Validation Accuracy: 0.614000\n",
      "Epoch 40, CIFAR-10 Batch 1:  Loss:     0.9314 Validation Accuracy: 0.613200\n",
      "Epoch 40, CIFAR-10 Batch 2:  Loss:     0.8871 Validation Accuracy: 0.614400\n",
      "Epoch 40, CIFAR-10 Batch 3:  Loss:     0.8121 Validation Accuracy: 0.613400\n",
      "Epoch 40, CIFAR-10 Batch 4:  Loss:     0.7538 Validation Accuracy: 0.621000\n",
      "Epoch 40, CIFAR-10 Batch 5:  Loss:     0.8482 Validation Accuracy: 0.614600\n",
      "Epoch 41, CIFAR-10 Batch 1:  Loss:     0.9199 Validation Accuracy: 0.612800\n",
      "Epoch 41, CIFAR-10 Batch 2:  Loss:     0.8841 Validation Accuracy: 0.615200\n",
      "Epoch 41, CIFAR-10 Batch 3:  Loss:     0.8075 Validation Accuracy: 0.607200\n",
      "Epoch 41, CIFAR-10 Batch 4:  Loss:     0.7580 Validation Accuracy: 0.621600\n",
      "Epoch 41, CIFAR-10 Batch 5:  Loss:     0.8495 Validation Accuracy: 0.616800\n",
      "Epoch 42, CIFAR-10 Batch 1:  Loss:     0.9102 Validation Accuracy: 0.610600\n",
      "Epoch 42, CIFAR-10 Batch 2:  Loss:     0.8560 Validation Accuracy: 0.618400\n",
      "Epoch 42, CIFAR-10 Batch 3:  Loss:     0.8037 Validation Accuracy: 0.615800\n",
      "Epoch 42, CIFAR-10 Batch 4:  Loss:     0.7389 Validation Accuracy: 0.623200\n",
      "Epoch 42, CIFAR-10 Batch 5:  Loss:     0.8442 Validation Accuracy: 0.621400\n",
      "Epoch 43, CIFAR-10 Batch 1:  Loss:     0.9077 Validation Accuracy: 0.615000\n",
      "Epoch 43, CIFAR-10 Batch 2:  Loss:     0.8559 Validation Accuracy: 0.621800\n",
      "Epoch 43, CIFAR-10 Batch 3:  Loss:     0.7955 Validation Accuracy: 0.613200\n",
      "Epoch 43, CIFAR-10 Batch 4:  Loss:     0.7482 Validation Accuracy: 0.619800\n",
      "Epoch 43, CIFAR-10 Batch 5:  Loss:     0.8107 Validation Accuracy: 0.625600\n",
      "Epoch 44, CIFAR-10 Batch 1:  Loss:     0.8853 Validation Accuracy: 0.618200\n",
      "Epoch 44, CIFAR-10 Batch 2:  Loss:     0.8625 Validation Accuracy: 0.612400\n",
      "Epoch 44, CIFAR-10 Batch 3:  Loss:     0.7891 Validation Accuracy: 0.618600\n",
      "Epoch 44, CIFAR-10 Batch 4:  Loss:     0.7289 Validation Accuracy: 0.627200\n",
      "Epoch 44, CIFAR-10 Batch 5:  Loss:     0.8204 Validation Accuracy: 0.627200\n",
      "Epoch 45, CIFAR-10 Batch 1:  Loss:     0.8840 Validation Accuracy: 0.619400\n",
      "Epoch 45, CIFAR-10 Batch 2:  Loss:     0.8416 Validation Accuracy: 0.618000\n",
      "Epoch 45, CIFAR-10 Batch 3:  Loss:     0.7784 Validation Accuracy: 0.622400\n",
      "Epoch 45, CIFAR-10 Batch 4:  Loss:     0.7235 Validation Accuracy: 0.626400\n",
      "Epoch 45, CIFAR-10 Batch 5:  Loss:     0.8100 Validation Accuracy: 0.624200\n",
      "Epoch 46, CIFAR-10 Batch 1:  Loss:     0.8793 Validation Accuracy: 0.621200\n",
      "Epoch 46, CIFAR-10 Batch 2:  Loss:     0.8375 Validation Accuracy: 0.621000\n",
      "Epoch 46, CIFAR-10 Batch 3:  Loss:     0.7779 Validation Accuracy: 0.620600\n",
      "Epoch 46, CIFAR-10 Batch 4:  Loss:     0.7103 Validation Accuracy: 0.628800\n",
      "Epoch 46, CIFAR-10 Batch 5:  Loss:     0.8088 Validation Accuracy: 0.624800\n",
      "Epoch 47, CIFAR-10 Batch 1:  Loss:     0.8641 Validation Accuracy: 0.625400\n",
      "Epoch 47, CIFAR-10 Batch 2:  Loss:     0.8083 Validation Accuracy: 0.627800\n",
      "Epoch 47, CIFAR-10 Batch 3:  Loss:     0.7672 Validation Accuracy: 0.622800\n",
      "Epoch 47, CIFAR-10 Batch 4:  Loss:     0.7221 Validation Accuracy: 0.625200\n",
      "Epoch 47, CIFAR-10 Batch 5:  Loss:     0.7811 Validation Accuracy: 0.625800\n",
      "Epoch 48, CIFAR-10 Batch 1:  Loss:     0.8807 Validation Accuracy: 0.619600\n",
      "Epoch 48, CIFAR-10 Batch 2:  Loss:     0.7951 Validation Accuracy: 0.623800\n",
      "Epoch 48, CIFAR-10 Batch 3:  Loss:     0.7535 Validation Accuracy: 0.623600\n",
      "Epoch 48, CIFAR-10 Batch 4:  Loss:     0.7032 Validation Accuracy: 0.633400\n",
      "Epoch 48, CIFAR-10 Batch 5:  Loss:     0.7769 Validation Accuracy: 0.627600\n",
      "Epoch 49, CIFAR-10 Batch 1:  Loss:     0.8696 Validation Accuracy: 0.624800\n",
      "Epoch 49, CIFAR-10 Batch 2:  Loss:     0.8180 Validation Accuracy: 0.618400\n",
      "Epoch 49, CIFAR-10 Batch 3:  Loss:     0.7574 Validation Accuracy: 0.623800\n",
      "Epoch 49, CIFAR-10 Batch 4:  Loss:     0.6950 Validation Accuracy: 0.628400\n",
      "Epoch 49, CIFAR-10 Batch 5:  Loss:     0.7701 Validation Accuracy: 0.627000\n",
      "Epoch 50, CIFAR-10 Batch 1:  Loss:     0.8679 Validation Accuracy: 0.630200\n",
      "Epoch 50, CIFAR-10 Batch 2:  Loss:     0.7854 Validation Accuracy: 0.624400\n",
      "Epoch 50, CIFAR-10 Batch 3:  Loss:     0.7608 Validation Accuracy: 0.621600\n",
      "Epoch 50, CIFAR-10 Batch 4:  Loss:     0.6892 Validation Accuracy: 0.626000\n",
      "Epoch 50, CIFAR-10 Batch 5:  Loss:     0.7799 Validation Accuracy: 0.628600\n",
      "Epoch 51, CIFAR-10 Batch 1:  Loss:     0.8583 Validation Accuracy: 0.632200\n",
      "Epoch 51, CIFAR-10 Batch 2:  Loss:     0.7966 Validation Accuracy: 0.621800\n",
      "Epoch 51, CIFAR-10 Batch 3:  Loss:     0.7415 Validation Accuracy: 0.622600\n",
      "Epoch 51, CIFAR-10 Batch 4:  Loss:     0.6797 Validation Accuracy: 0.630600\n",
      "Epoch 51, CIFAR-10 Batch 5:  Loss:     0.7593 Validation Accuracy: 0.633200\n",
      "Epoch 52, CIFAR-10 Batch 1:  Loss:     0.8296 Validation Accuracy: 0.633400\n",
      "Epoch 52, CIFAR-10 Batch 2:  Loss:     0.7842 Validation Accuracy: 0.618200\n",
      "Epoch 52, CIFAR-10 Batch 3:  Loss:     0.7341 Validation Accuracy: 0.628800\n",
      "Epoch 52, CIFAR-10 Batch 4:  Loss:     0.6732 Validation Accuracy: 0.633400\n",
      "Epoch 52, CIFAR-10 Batch 5:  Loss:     0.7601 Validation Accuracy: 0.629000\n",
      "Epoch 53, CIFAR-10 Batch 1:  Loss:     0.8321 Validation Accuracy: 0.630200\n",
      "Epoch 53, CIFAR-10 Batch 2:  Loss:     0.7774 Validation Accuracy: 0.628800\n",
      "Epoch 53, CIFAR-10 Batch 3:  Loss:     0.7354 Validation Accuracy: 0.624000\n",
      "Epoch 53, CIFAR-10 Batch 4:  Loss:     0.6741 Validation Accuracy: 0.630400\n",
      "Epoch 53, CIFAR-10 Batch 5:  Loss:     0.7401 Validation Accuracy: 0.631200\n",
      "Epoch 54, CIFAR-10 Batch 1:  Loss:     0.8419 Validation Accuracy: 0.632600\n",
      "Epoch 54, CIFAR-10 Batch 2:  Loss:     0.7668 Validation Accuracy: 0.625400\n",
      "Epoch 54, CIFAR-10 Batch 3:  Loss:     0.7354 Validation Accuracy: 0.627800\n",
      "Epoch 54, CIFAR-10 Batch 4:  Loss:     0.6686 Validation Accuracy: 0.631000\n",
      "Epoch 54, CIFAR-10 Batch 5:  Loss:     0.7347 Validation Accuracy: 0.636200\n",
      "Epoch 55, CIFAR-10 Batch 1:  Loss:     0.8422 Validation Accuracy: 0.633600\n",
      "Epoch 55, CIFAR-10 Batch 2:  Loss:     0.7505 Validation Accuracy: 0.630200\n",
      "Epoch 55, CIFAR-10 Batch 3:  Loss:     0.7102 Validation Accuracy: 0.629200\n",
      "Epoch 55, CIFAR-10 Batch 4:  Loss:     0.6677 Validation Accuracy: 0.631200\n",
      "Epoch 55, CIFAR-10 Batch 5:  Loss:     0.7433 Validation Accuracy: 0.632800\n",
      "Epoch 56, CIFAR-10 Batch 1:  Loss:     0.8332 Validation Accuracy: 0.636800\n",
      "Epoch 56, CIFAR-10 Batch 2:  Loss:     0.7582 Validation Accuracy: 0.631000\n",
      "Epoch 56, CIFAR-10 Batch 3:  Loss:     0.7306 Validation Accuracy: 0.629000\n",
      "Epoch 56, CIFAR-10 Batch 4:  Loss:     0.6583 Validation Accuracy: 0.631200\n",
      "Epoch 56, CIFAR-10 Batch 5:  Loss:     0.7335 Validation Accuracy: 0.630600\n",
      "Epoch 57, CIFAR-10 Batch 1:  Loss:     0.8564 Validation Accuracy: 0.627800\n",
      "Epoch 57, CIFAR-10 Batch 2:  Loss:     0.7743 Validation Accuracy: 0.622800\n",
      "Epoch 57, CIFAR-10 Batch 3:  Loss:     0.7145 Validation Accuracy: 0.625400\n",
      "Epoch 57, CIFAR-10 Batch 4:  Loss:     0.6484 Validation Accuracy: 0.633000\n",
      "Epoch 57, CIFAR-10 Batch 5:  Loss:     0.7233 Validation Accuracy: 0.641400\n",
      "Epoch 58, CIFAR-10 Batch 1:  Loss:     0.8357 Validation Accuracy: 0.633800\n",
      "Epoch 58, CIFAR-10 Batch 2:  Loss:     0.7373 Validation Accuracy: 0.629800\n",
      "Epoch 58, CIFAR-10 Batch 3:  Loss:     0.7145 Validation Accuracy: 0.630600\n",
      "Epoch 58, CIFAR-10 Batch 4:  Loss:     0.6461 Validation Accuracy: 0.630200\n",
      "Epoch 58, CIFAR-10 Batch 5:  Loss:     0.7138 Validation Accuracy: 0.636000\n",
      "Epoch 59, CIFAR-10 Batch 1:  Loss:     0.8125 Validation Accuracy: 0.635000\n",
      "Epoch 59, CIFAR-10 Batch 2:  Loss:     0.7385 Validation Accuracy: 0.629000\n",
      "Epoch 59, CIFAR-10 Batch 3:  Loss:     0.7066 Validation Accuracy: 0.631600\n",
      "Epoch 59, CIFAR-10 Batch 4:  Loss:     0.6459 Validation Accuracy: 0.629800\n",
      "Epoch 59, CIFAR-10 Batch 5:  Loss:     0.7122 Validation Accuracy: 0.635400\n",
      "Epoch 60, CIFAR-10 Batch 1:  Loss:     0.8039 Validation Accuracy: 0.641000\n",
      "Epoch 60, CIFAR-10 Batch 2:  Loss:     0.7102 Validation Accuracy: 0.638400\n",
      "Epoch 60, CIFAR-10 Batch 3:  Loss:     0.7000 Validation Accuracy: 0.632600\n",
      "Epoch 60, CIFAR-10 Batch 4:  Loss:     0.6358 Validation Accuracy: 0.635000\n",
      "Epoch 60, CIFAR-10 Batch 5:  Loss:     0.7140 Validation Accuracy: 0.638200\n",
      "Epoch 61, CIFAR-10 Batch 1:  Loss:     0.8063 Validation Accuracy: 0.633800\n",
      "Epoch 61, CIFAR-10 Batch 2:  Loss:     0.7100 Validation Accuracy: 0.640600\n",
      "Epoch 61, CIFAR-10 Batch 3:  Loss:     0.6964 Validation Accuracy: 0.635800\n",
      "Epoch 61, CIFAR-10 Batch 4:  Loss:     0.6322 Validation Accuracy: 0.629800\n",
      "Epoch 61, CIFAR-10 Batch 5:  Loss:     0.6922 Validation Accuracy: 0.637600\n",
      "Epoch 62, CIFAR-10 Batch 1:  Loss:     0.8046 Validation Accuracy: 0.634000\n",
      "Epoch 62, CIFAR-10 Batch 2:  Loss:     0.7100 Validation Accuracy: 0.635000\n",
      "Epoch 62, CIFAR-10 Batch 3:  Loss:     0.6828 Validation Accuracy: 0.631600\n",
      "Epoch 62, CIFAR-10 Batch 4:  Loss:     0.6174 Validation Accuracy: 0.635400\n",
      "Epoch 62, CIFAR-10 Batch 5:  Loss:     0.6936 Validation Accuracy: 0.637000\n",
      "Epoch 63, CIFAR-10 Batch 1:  Loss:     0.7849 Validation Accuracy: 0.637600\n",
      "Epoch 63, CIFAR-10 Batch 2:  Loss:     0.6918 Validation Accuracy: 0.634600\n",
      "Epoch 63, CIFAR-10 Batch 3:  Loss:     0.6932 Validation Accuracy: 0.628400\n",
      "Epoch 63, CIFAR-10 Batch 4:  Loss:     0.6138 Validation Accuracy: 0.636600\n",
      "Epoch 63, CIFAR-10 Batch 5:  Loss:     0.6753 Validation Accuracy: 0.638600\n",
      "Epoch 64, CIFAR-10 Batch 1:  Loss:     0.7733 Validation Accuracy: 0.637200\n",
      "Epoch 64, CIFAR-10 Batch 2:  Loss:     0.7013 Validation Accuracy: 0.630600\n",
      "Epoch 64, CIFAR-10 Batch 3:  Loss:     0.6636 Validation Accuracy: 0.635200\n",
      "Epoch 64, CIFAR-10 Batch 4:  Loss:     0.6226 Validation Accuracy: 0.635400\n",
      "Epoch 64, CIFAR-10 Batch 5:  Loss:     0.6785 Validation Accuracy: 0.636200\n",
      "Epoch 65, CIFAR-10 Batch 1:  Loss:     0.7714 Validation Accuracy: 0.641000\n",
      "Epoch 65, CIFAR-10 Batch 2:  Loss:     0.6982 Validation Accuracy: 0.626800\n",
      "Epoch 65, CIFAR-10 Batch 3:  Loss:     0.6576 Validation Accuracy: 0.635800\n",
      "Epoch 65, CIFAR-10 Batch 4:  Loss:     0.6076 Validation Accuracy: 0.637400\n",
      "Epoch 65, CIFAR-10 Batch 5:  Loss:     0.6699 Validation Accuracy: 0.646800\n",
      "Epoch 66, CIFAR-10 Batch 1:  Loss:     0.7732 Validation Accuracy: 0.640600\n",
      "Epoch 66, CIFAR-10 Batch 2:  Loss:     0.6765 Validation Accuracy: 0.641200\n",
      "Epoch 66, CIFAR-10 Batch 3:  Loss:     0.6693 Validation Accuracy: 0.636000\n",
      "Epoch 66, CIFAR-10 Batch 4:  Loss:     0.5998 Validation Accuracy: 0.635400\n",
      "Epoch 66, CIFAR-10 Batch 5:  Loss:     0.6604 Validation Accuracy: 0.641600\n",
      "Epoch 67, CIFAR-10 Batch 1:  Loss:     0.7542 Validation Accuracy: 0.645800\n",
      "Epoch 67, CIFAR-10 Batch 2:  Loss:     0.6799 Validation Accuracy: 0.638800\n",
      "Epoch 67, CIFAR-10 Batch 3:  Loss:     0.6674 Validation Accuracy: 0.636200\n",
      "Epoch 67, CIFAR-10 Batch 4:  Loss:     0.5992 Validation Accuracy: 0.637600\n",
      "Epoch 67, CIFAR-10 Batch 5:  Loss:     0.6781 Validation Accuracy: 0.639000\n",
      "Epoch 68, CIFAR-10 Batch 1:  Loss:     0.7434 Validation Accuracy: 0.642600\n",
      "Epoch 68, CIFAR-10 Batch 2:  Loss:     0.6586 Validation Accuracy: 0.645200\n",
      "Epoch 68, CIFAR-10 Batch 3:  Loss:     0.6507 Validation Accuracy: 0.637400\n",
      "Epoch 68, CIFAR-10 Batch 4:  Loss:     0.5903 Validation Accuracy: 0.640800\n",
      "Epoch 68, CIFAR-10 Batch 5:  Loss:     0.6484 Validation Accuracy: 0.644800\n",
      "Epoch 69, CIFAR-10 Batch 1:  Loss:     0.7491 Validation Accuracy: 0.642400\n",
      "Epoch 69, CIFAR-10 Batch 2:  Loss:     0.6581 Validation Accuracy: 0.637000\n",
      "Epoch 69, CIFAR-10 Batch 3:  Loss:     0.6472 Validation Accuracy: 0.641600\n",
      "Epoch 69, CIFAR-10 Batch 4:  Loss:     0.5910 Validation Accuracy: 0.636600\n",
      "Epoch 69, CIFAR-10 Batch 5:  Loss:     0.6656 Validation Accuracy: 0.637600\n",
      "Epoch 70, CIFAR-10 Batch 1:  Loss:     0.7585 Validation Accuracy: 0.640800\n",
      "Epoch 70, CIFAR-10 Batch 2:  Loss:     0.6578 Validation Accuracy: 0.636000\n",
      "Epoch 70, CIFAR-10 Batch 3:  Loss:     0.6538 Validation Accuracy: 0.635800\n",
      "Epoch 70, CIFAR-10 Batch 4:  Loss:     0.5784 Validation Accuracy: 0.640000\n",
      "Epoch 70, CIFAR-10 Batch 5:  Loss:     0.6467 Validation Accuracy: 0.649000\n",
      "Epoch 71, CIFAR-10 Batch 1:  Loss:     0.7632 Validation Accuracy: 0.644600\n",
      "Epoch 71, CIFAR-10 Batch 2:  Loss:     0.6722 Validation Accuracy: 0.635800\n",
      "Epoch 71, CIFAR-10 Batch 3:  Loss:     0.6538 Validation Accuracy: 0.635400\n",
      "Epoch 71, CIFAR-10 Batch 4:  Loss:     0.5846 Validation Accuracy: 0.639600\n",
      "Epoch 71, CIFAR-10 Batch 5:  Loss:     0.6545 Validation Accuracy: 0.643200\n",
      "Epoch 72, CIFAR-10 Batch 1:  Loss:     0.7539 Validation Accuracy: 0.646400\n",
      "Epoch 72, CIFAR-10 Batch 2:  Loss:     0.6553 Validation Accuracy: 0.634400\n",
      "Epoch 72, CIFAR-10 Batch 3:  Loss:     0.6473 Validation Accuracy: 0.638800\n",
      "Epoch 72, CIFAR-10 Batch 4:  Loss:     0.5766 Validation Accuracy: 0.642400\n",
      "Epoch 72, CIFAR-10 Batch 5:  Loss:     0.6418 Validation Accuracy: 0.639000\n",
      "Epoch 73, CIFAR-10 Batch 1:  Loss:     0.7761 Validation Accuracy: 0.640800\n",
      "Epoch 73, CIFAR-10 Batch 2:  Loss:     0.6607 Validation Accuracy: 0.633200\n",
      "Epoch 73, CIFAR-10 Batch 3:  Loss:     0.6471 Validation Accuracy: 0.636600\n",
      "Epoch 73, CIFAR-10 Batch 4:  Loss:     0.5825 Validation Accuracy: 0.634400\n",
      "Epoch 73, CIFAR-10 Batch 5:  Loss:     0.6464 Validation Accuracy: 0.637400\n",
      "Epoch 74, CIFAR-10 Batch 1:  Loss:     0.7588 Validation Accuracy: 0.643200\n",
      "Epoch 74, CIFAR-10 Batch 2:  Loss:     0.6551 Validation Accuracy: 0.636800\n",
      "Epoch 74, CIFAR-10 Batch 3:  Loss:     0.6466 Validation Accuracy: 0.637000\n",
      "Epoch 74, CIFAR-10 Batch 4:  Loss:     0.5716 Validation Accuracy: 0.645600\n",
      "Epoch 74, CIFAR-10 Batch 5:  Loss:     0.6407 Validation Accuracy: 0.645400\n",
      "Epoch 75, CIFAR-10 Batch 1:  Loss:     0.7495 Validation Accuracy: 0.645400\n",
      "Epoch 75, CIFAR-10 Batch 2:  Loss:     0.6359 Validation Accuracy: 0.633200\n",
      "Epoch 75, CIFAR-10 Batch 3:  Loss:     0.6403 Validation Accuracy: 0.632800\n",
      "Epoch 75, CIFAR-10 Batch 4:  Loss:     0.5812 Validation Accuracy: 0.637800\n",
      "Epoch 75, CIFAR-10 Batch 5:  Loss:     0.6330 Validation Accuracy: 0.640200\n",
      "Epoch 76, CIFAR-10 Batch 1:  Loss:     0.7472 Validation Accuracy: 0.645200\n",
      "Epoch 76, CIFAR-10 Batch 2:  Loss:     0.6430 Validation Accuracy: 0.635400\n",
      "Epoch 76, CIFAR-10 Batch 3:  Loss:     0.6317 Validation Accuracy: 0.638200\n",
      "Epoch 76, CIFAR-10 Batch 4:  Loss:     0.5631 Validation Accuracy: 0.643800\n",
      "Epoch 76, CIFAR-10 Batch 5:  Loss:     0.6259 Validation Accuracy: 0.645200\n",
      "Epoch 77, CIFAR-10 Batch 1:  Loss:     0.7403 Validation Accuracy: 0.643200\n",
      "Epoch 77, CIFAR-10 Batch 2:  Loss:     0.6443 Validation Accuracy: 0.639200\n",
      "Epoch 77, CIFAR-10 Batch 3:  Loss:     0.6439 Validation Accuracy: 0.636400\n",
      "Epoch 77, CIFAR-10 Batch 4:  Loss:     0.5615 Validation Accuracy: 0.644400\n",
      "Epoch 77, CIFAR-10 Batch 5:  Loss:     0.6256 Validation Accuracy: 0.645600\n",
      "Epoch 78, CIFAR-10 Batch 1:  Loss:     0.7192 Validation Accuracy: 0.649400\n",
      "Epoch 78, CIFAR-10 Batch 2:  Loss:     0.6283 Validation Accuracy: 0.637400\n",
      "Epoch 78, CIFAR-10 Batch 3:  Loss:     0.6205 Validation Accuracy: 0.641200\n",
      "Epoch 78, CIFAR-10 Batch 4:  Loss:     0.5670 Validation Accuracy: 0.648800\n",
      "Epoch 78, CIFAR-10 Batch 5:  Loss:     0.6144 Validation Accuracy: 0.647000\n",
      "Epoch 79, CIFAR-10 Batch 1:  Loss:     0.7306 Validation Accuracy: 0.644800\n",
      "Epoch 79, CIFAR-10 Batch 2:  Loss:     0.6492 Validation Accuracy: 0.626800\n",
      "Epoch 79, CIFAR-10 Batch 3:  Loss:     0.6245 Validation Accuracy: 0.636000\n",
      "Epoch 79, CIFAR-10 Batch 4:  Loss:     0.5666 Validation Accuracy: 0.646000\n",
      "Epoch 79, CIFAR-10 Batch 5:  Loss:     0.6125 Validation Accuracy: 0.644600\n",
      "Epoch 80, CIFAR-10 Batch 1:  Loss:     0.7623 Validation Accuracy: 0.638000\n",
      "Epoch 80, CIFAR-10 Batch 2:  Loss:     0.6371 Validation Accuracy: 0.633400\n",
      "Epoch 80, CIFAR-10 Batch 3:  Loss:     0.6274 Validation Accuracy: 0.636600\n",
      "Epoch 80, CIFAR-10 Batch 4:  Loss:     0.5697 Validation Accuracy: 0.645600\n",
      "Epoch 80, CIFAR-10 Batch 5:  Loss:     0.6104 Validation Accuracy: 0.640000\n"
     ]
    }
   ],
   "source": [
    "\"\"\"\n",
    "DON'T MODIFY ANYTHING IN THIS CELL\n",
    "\"\"\"\n",
    "save_model_path = './image_classification'\n",
    "\n",
    "print('Training...')\n",
    "with tf.Session() as sess:\n",
    "    # Initializing the variables\n",
    "    sess.run(tf.global_variables_initializer())\n",
    "    \n",
    "    # Training cycle\n",
    "    for epoch in range(epochs):\n",
    "        # Loop over all batches\n",
    "        n_batches = 5\n",
    "        for batch_i in range(1, n_batches + 1):\n",
    "            for batch_features, batch_labels in helper.load_preprocess_training_batch(batch_i, batch_size):\n",
    "                train_neural_network(sess, optimizer, keep_probability, batch_features, batch_labels)\n",
    "            print('Epoch {:>2}, CIFAR-10 Batch {}:  '.format(epoch + 1, batch_i), end='')\n",
    "            print_stats(sess, batch_features, batch_labels, cost, accuracy)\n",
    "            \n",
    "    # Save Model\n",
    "    saver = tf.train.Saver()\n",
    "    save_path = saver.save(sess, save_model_path)"
   ]
  },
  {
   "cell_type": "markdown",
   "metadata": {
    "deletable": true,
    "editable": true
   },
   "source": [
    "# Checkpoint\n",
    "The model has been saved to disk.\n",
    "## Test Model\n",
    "Test your model against the test dataset.  This will be your final accuracy. You should have an accuracy greater than 50%. If you don't, keep tweaking the model architecture and parameters."
   ]
  },
  {
   "cell_type": "code",
   "execution_count": 21,
   "metadata": {
    "collapsed": false,
    "deletable": true,
    "editable": true
   },
   "outputs": [
    {
     "name": "stdout",
     "output_type": "stream",
     "text": [
      "Testing Accuracy: 0.6359317570924758\n",
      "\n"
     ]
    },
    {
     "data": {
      "image/png": "[encoded data removed]",
      "text/plain": [
       "<matplotlib.figure.Figure at 0x7f9d3c7b6358>"
      ]
     },
     "metadata": {
      "image/png": {
       "height": 319,
       "width": 355
      }
     },
     "output_type": "display_data"
    }
   ],
   "source": [
    "\"\"\"\n",
    "DON'T MODIFY ANYTHING IN THIS CELL\n",
    "\"\"\"\n",
    "%matplotlib inline\n",
    "%config InlineBackend.figure_format = 'retina'\n",
    "\n",
    "import tensorflow as tf\n",
    "import pickle\n",
    "import helper\n",
    "import random\n",
    "\n",
    "# Set batch size if not already set\n",
    "try:\n",
    "    if batch_size:\n",
    "        pass\n",
    "except NameError:\n",
    "    batch_size = 64\n",
    "\n",
    "save_model_path = './image_classification'\n",
    "n_samples = 4\n",
    "top_n_predictions = 3\n",
    "\n",
    "def test_model():\n",
    "    \"\"\"\n",
    "    Test the saved model against the test dataset\n",
    "    \"\"\"\n",
    "\n",
    "    test_features, test_labels = pickle.load(open('preprocess_training.p', mode='rb'))\n",
    "    loaded_graph = tf.Graph()\n",
    "\n",
    "    with tf.Session(graph=loaded_graph) as sess:\n",
    "        # Load model\n",
    "        loader = tf.train.import_meta_graph(save_model_path + '.meta')\n",
    "        loader.restore(sess, save_model_path)\n",
    "\n",
    "        # Get Tensors from loaded model\n",
    "        loaded_x = loaded_graph.get_tensor_by_name('x:0')\n",
    "        loaded_y = loaded_graph.get_tensor_by_name('y:0')\n",
    "        loaded_keep_prob = loaded_graph.get_tensor_by_name('keep_prob:0')\n",
    "        loaded_logits = loaded_graph.get_tensor_by_name('logits:0')\n",
    "        loaded_acc = loaded_graph.get_tensor_by_name('accuracy:0')\n",
    "        \n",
    "        # Get accuracy in batches for memory limitations\n",
    "        test_batch_acc_total = 0\n",
    "        test_batch_count = 0\n",
    "        \n",
    "        for train_feature_batch, train_label_batch in helper.batch_features_labels(test_features, test_labels, batch_size):\n",
    "            test_batch_acc_total += sess.run(\n",
    "                loaded_acc,\n",
    "                feed_dict={loaded_x: train_feature_batch, loaded_y: train_label_batch, loaded_keep_prob: 1.0})\n",
    "            test_batch_count += 1\n",
    "\n",
    "        print('Testing Accuracy: {}\\n'.format(test_batch_acc_total/test_batch_count))\n",
    "\n",
    "        # Print Random Samples\n",
    "        random_test_features, random_test_labels = tuple(zip(*random.sample(list(zip(test_features, test_labels)), n_samples)))\n",
    "        random_test_predictions = sess.run(\n",
    "            tf.nn.top_k(tf.nn.softmax(loaded_logits), top_n_predictions),\n",
    "            feed_dict={loaded_x: random_test_features, loaded_y: random_test_labels, loaded_keep_prob: 1.0})\n",
    "        helper.display_image_predictions(random_test_features, random_test_labels, random_test_predictions)\n",
    "\n",
    "\n",
    "test_model()"
   ]
  },
  {
   "cell_type": "markdown",
   "metadata": {
    "deletable": true,
    "editable": true
   },
   "source": [
    "## Why 50-70% Accuracy?\n",
    "You might be wondering why you can't get an accuracy any higher. First things first, 50% isn't bad for a simple CNN.  Pure guessing would get you 10% accuracy. However, you might notice people are getting scores [well above 70%](http://rodrigob.github.io/are_we_there_yet/build/classification_datasets_results.html#43494641522d3130).  That's because we haven't taught you all there is to know about neural networks. We still need to cover a few more techniques.\n",
    "## Submitting This Project\n",
    "When submitting this project, make sure to run all the cells before saving the notebook.  Save the notebook file as \"dlnd_image_classification.ipynb\" and save it as a HTML file under \"File\" -> \"Download as\".  Include the \"helper.py\" and \"problem_unittests.py\" files in your submission."
   ]
  }
 ],
 "metadata": {
  "kernelspec": {
   "display_name": "Python 3",
   "language": "python",
   "name": "python3"
  },
  "language_info": {
   "codemirror_mode": {
    "name": "ipython",
    "version": 3
   },
   "file_extension": ".py",
   "mimetype": "text/x-python",
   "name": "python",
   "nbconvert_exporter": "python",
   "pygments_lexer": "ipython3",
   "version": "3.5.2"
  },
  "widgets": {
   "state": {},
   "version": "1.1.2"
  }
 },
 "nbformat": 4,
 "nbformat_minor": 0
}
